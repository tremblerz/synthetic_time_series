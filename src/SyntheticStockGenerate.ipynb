{
 "cells": [
  {
   "cell_type": "code",
   "execution_count": 1,
   "id": "4b1340ee-503d-4538-96a7-766bd7b51665",
   "metadata": {
    "tags": []
   },
   "outputs": [],
   "source": [
    "import matplotlib.pyplot as plt"
   ]
  },
  {
   "cell_type": "code",
   "execution_count": 2,
   "id": "e7be3f20-1669-479a-a4c8-3353cd57ad86",
   "metadata": {
    "tags": []
   },
   "outputs": [],
   "source": [
    "import sys\n",
    "from os.path import dirname\n",
    "sys.path.append(dirname('./synthcity/src/'))"
   ]
  },
  {
   "cell_type": "code",
   "execution_count": 3,
   "id": "4d1894a6-5cea-4c1e-88a9-ecd2df40445b",
   "metadata": {
    "tags": []
   },
   "outputs": [
    {
     "name": "stderr",
     "output_type": "stream",
     "text": [
      "C:\\Users\\ma7mo\\AppData\\Local\\Programs\\Python\\Python310\\lib\\site-packages\\tqdm\\auto.py:21: TqdmWarning: IProgress not found. Please update jupyter and ipywidgets. See https://ipywidgets.readthedocs.io/en/stable/user_install.html\n",
      "  from .autonotebook import tqdm as notebook_tqdm\n"
     ]
    }
   ],
   "source": [
    "import torch\n",
    "import torch.nn as nn\n",
    "import numpy as np"
   ]
  },
  {
   "cell_type": "code",
   "execution_count": 4,
   "id": "f6f97c69-5212-488c-87a2-866957209901",
   "metadata": {
    "tags": []
   },
   "outputs": [],
   "source": [
    "from sklearn.model_selection import train_test_split"
   ]
  },
  {
   "cell_type": "code",
   "execution_count": 5,
   "id": "b52757a1-4d54-4764-9666-4a1ceca1ee96",
   "metadata": {
    "tags": []
   },
   "outputs": [],
   "source": [
    "import torch.optim as optim\n",
    "from torch.utils.data import DataLoader"
   ]
  },
  {
   "cell_type": "code",
   "execution_count": 6,
   "id": "e525d301-f295-4083-95f2-53bbfba136c9",
   "metadata": {
    "tags": []
   },
   "outputs": [],
   "source": [
    "import seaborn as sns"
   ]
  },
  {
   "cell_type": "code",
   "execution_count": 7,
   "id": "0d4c644e-5d02-4fa6-9aba-72458133ca2d",
   "metadata": {
    "tags": []
   },
   "outputs": [
    {
     "name": "stdout",
     "output_type": "stream",
     "text": [
      "[KeOps] Warning : \n",
      "    The default C++ compiler could not be found on your system.\n",
      "    You need to either define the CXX environment variable or a symlink to the g++ command.\n",
      "    For example if g++-8 is the command you can do\n",
      "      import os\n",
      "      os.environ['CXX'] = 'g++-8'\n",
      "    \n",
      "[KeOps] Warning : Cuda libraries were not detected on the system ; using cpu only mode\n"
     ]
    }
   ],
   "source": [
    "from synthcity.plugins import Plugins\n",
    "from synthcity.benchmark import Benchmarks"
   ]
  },
  {
   "cell_type": "code",
   "execution_count": 8,
   "id": "653ee9b9-a2b6-4f96-949a-1daf76269980",
   "metadata": {
    "tags": []
   },
   "outputs": [
    {
     "data": {
      "text/plain": [
       "['fflows', 'timegan', 'timevae']"
      ]
     },
     "execution_count": 8,
     "metadata": {},
     "output_type": "execute_result"
    }
   ],
   "source": [
    "Plugins(categories=[\"time_series\"]).list()"
   ]
  },
  {
   "cell_type": "code",
   "execution_count": 9,
   "id": "43c46885-db3f-4d84-a3ca-b94a8b989eb0",
   "metadata": {
    "tags": []
   },
   "outputs": [],
   "source": [
    "from synthcity.utils.datasets.time_series.pbc import PBCDataloader\n",
    "from synthcity.utils.datasets.time_series.google_stocks import GoogleStocksDataloader\n",
    "from synthcity.plugins.core.dataloader import TimeSeriesDataLoader"
   ]
  },
  {
   "cell_type": "code",
   "execution_count": 10,
   "id": "064a33d7-36ab-4a66-a2f1-915024b80aeb",
   "metadata": {
    "tags": []
   },
   "outputs": [],
   "source": [
    "static_data, temporal_data, horizons, outcome = GoogleStocksDataloader().load()"
   ]
  },
  {
   "cell_type": "code",
   "execution_count": 11,
   "id": "4ef065f6-9f3d-4e66-bb5e-af45b5c4acb6",
   "metadata": {
    "tags": []
   },
   "outputs": [],
   "source": [
    "data = TimeSeriesDataLoader(\n",
    "    temporal_data=temporal_data,\n",
    "    observation_times=horizons,\n",
    "    static_data=static_data,\n",
    "    outcome=outcome,\n",
    ")"
   ]
  },
  {
   "cell_type": "code",
   "execution_count": 12,
   "id": "fe5534cf-d166-4a0c-b7d3-f86f2fb0f751",
   "metadata": {
    "tags": []
   },
   "outputs": [],
   "source": [
    "delta = 1/ (len(data) * np.log(len(data)))"
   ]
  },
  {
   "cell_type": "code",
   "execution_count": 13,
   "id": "4a470f3b-6207-47b4-921f-5a1b36448618",
   "metadata": {
    "tags": []
   },
   "outputs": [
    {
     "name": "stderr",
     "output_type": "stream",
     "text": [
      "[2023-09-05T13:12:42.352173-0400][8876][CRITICAL] load failed: \n",
      "arfpy is not installed. Please install it with pip install arfpy.\n",
      "Please be aware that arfpy is only available for python >= 3.8.\n",
      "\n",
      "[2023-09-05T13:12:42.352173-0400][8876][CRITICAL] load failed: module 'synthcity.plugins.generic.plugin_arf' has no attribute 'plugin'\n",
      "[2023-09-05T13:12:42.353172-0400][8876][CRITICAL] module plugin_arf load failed\n",
      "[2023-09-05T13:12:42.675656-0400][8876][CRITICAL] module disabled: C:\\Users\\ma7mo\\Desktop\\synthetic_time_series\\src\\./synthcity/src\\synthcity\\plugins\\generic\\plugin_goggle.py\n",
      "[2023-09-05T13:12:42.676604-0400][8876][CRITICAL] load failed: \n",
      "GReaT is not installed. Please install it with pip install GReaT.\n",
      "Please be aware that GReaT is only available for python >= 3.9.\n",
      "\n",
      "[2023-09-05T13:12:42.676604-0400][8876][CRITICAL] load failed: module 'synthcity.plugins.generic.plugin_great' has no attribute 'plugin'\n",
      "[2023-09-05T13:12:42.677603-0400][8876][CRITICAL] module plugin_great load failed\n"
     ]
    }
   ],
   "source": [
    "syn_model_without_dp = Plugins().get(\"timegan\", dp_enabled=False)"
   ]
  },
  {
   "cell_type": "code",
   "execution_count": 14,
   "id": "9cc35756-3761-4d58-b321-8070164db7e1",
   "metadata": {
    "tags": []
   },
   "outputs": [
    {
     "name": "stderr",
     "output_type": "stream",
     "text": [
      "[2023-09-05T13:12:43.222493-0400][8876][CRITICAL] load failed: module 'synthcity.plugins.generic.plugin_arf' has no attribute 'plugin'\n",
      "[2023-09-05T13:12:43.222493-0400][8876][CRITICAL] load failed: module 'synthcity.plugins.generic.plugin_arf' has no attribute 'plugin'\n",
      "[2023-09-05T13:12:43.223494-0400][8876][CRITICAL] load failed: module 'synthcity.plugins.generic.plugin_arf' has no attribute 'plugin'\n",
      "[2023-09-05T13:12:43.223494-0400][8876][CRITICAL] load failed: module 'synthcity.plugins.generic.plugin_arf' has no attribute 'plugin'\n",
      "[2023-09-05T13:12:43.224494-0400][8876][CRITICAL] module plugin_arf load failed\n",
      "[2023-09-05T13:12:43.224494-0400][8876][CRITICAL] module plugin_arf load failed\n",
      "[2023-09-05T13:12:43.225494-0400][8876][CRITICAL] module disabled: C:\\Users\\ma7mo\\Desktop\\synthetic_time_series\\src\\./synthcity/src\\synthcity\\plugins\\generic\\plugin_goggle.py\n",
      "[2023-09-05T13:12:43.225494-0400][8876][CRITICAL] module disabled: C:\\Users\\ma7mo\\Desktop\\synthetic_time_series\\src\\./synthcity/src\\synthcity\\plugins\\generic\\plugin_goggle.py\n",
      "[2023-09-05T13:12:43.225494-0400][8876][CRITICAL] load failed: module 'synthcity.plugins.generic.plugin_great' has no attribute 'plugin'\n",
      "[2023-09-05T13:12:43.225494-0400][8876][CRITICAL] load failed: module 'synthcity.plugins.generic.plugin_great' has no attribute 'plugin'\n",
      "[2023-09-05T13:12:43.226495-0400][8876][CRITICAL] load failed: module 'synthcity.plugins.generic.plugin_great' has no attribute 'plugin'\n",
      "[2023-09-05T13:12:43.226495-0400][8876][CRITICAL] load failed: module 'synthcity.plugins.generic.plugin_great' has no attribute 'plugin'\n",
      "[2023-09-05T13:12:43.226495-0400][8876][CRITICAL] module plugin_great load failed\n",
      "[2023-09-05T13:12:43.226495-0400][8876][CRITICAL] module plugin_great load failed\n"
     ]
    }
   ],
   "source": [
    "syn_model_with_dp_eps1 = Plugins().get(\"timegan\", mode=\"DPRNN\", dp_enabled=True, n_iter=300, epsilon=1., delta = delta)"
   ]
  },
  {
   "cell_type": "code",
   "execution_count": 15,
   "id": "6903da31-091a-45a4-b01a-8e5b0dff5d7b",
   "metadata": {
    "tags": []
   },
   "outputs": [
    {
     "name": "stderr",
     "output_type": "stream",
     "text": [
      "[2023-09-05T13:12:43.238648-0400][8876][CRITICAL] load failed: module 'synthcity.plugins.generic.plugin_arf' has no attribute 'plugin'\n",
      "[2023-09-05T13:12:43.238648-0400][8876][CRITICAL] load failed: module 'synthcity.plugins.generic.plugin_arf' has no attribute 'plugin'\n",
      "[2023-09-05T13:12:43.239649-0400][8876][CRITICAL] load failed: module 'synthcity.plugins.generic.plugin_arf' has no attribute 'plugin'\n",
      "[2023-09-05T13:12:43.239649-0400][8876][CRITICAL] load failed: module 'synthcity.plugins.generic.plugin_arf' has no attribute 'plugin'\n",
      "[2023-09-05T13:12:43.240648-0400][8876][CRITICAL] module plugin_arf load failed\n",
      "[2023-09-05T13:12:43.240648-0400][8876][CRITICAL] module plugin_arf load failed\n",
      "[2023-09-05T13:12:43.240648-0400][8876][CRITICAL] module disabled: C:\\Users\\ma7mo\\Desktop\\synthetic_time_series\\src\\./synthcity/src\\synthcity\\plugins\\generic\\plugin_goggle.py\n",
      "[2023-09-05T13:12:43.240648-0400][8876][CRITICAL] module disabled: C:\\Users\\ma7mo\\Desktop\\synthetic_time_series\\src\\./synthcity/src\\synthcity\\plugins\\generic\\plugin_goggle.py\n",
      "[2023-09-05T13:12:43.241649-0400][8876][CRITICAL] load failed: module 'synthcity.plugins.generic.plugin_great' has no attribute 'plugin'\n",
      "[2023-09-05T13:12:43.241649-0400][8876][CRITICAL] load failed: module 'synthcity.plugins.generic.plugin_great' has no attribute 'plugin'\n",
      "[2023-09-05T13:12:43.242649-0400][8876][CRITICAL] load failed: module 'synthcity.plugins.generic.plugin_great' has no attribute 'plugin'\n",
      "[2023-09-05T13:12:43.242649-0400][8876][CRITICAL] load failed: module 'synthcity.plugins.generic.plugin_great' has no attribute 'plugin'\n",
      "[2023-09-05T13:12:43.243649-0400][8876][CRITICAL] module plugin_great load failed\n",
      "[2023-09-05T13:12:43.243649-0400][8876][CRITICAL] module plugin_great load failed\n"
     ]
    }
   ],
   "source": [
    "syn_model_with_dp_eps5 = Plugins().get(\"timegan\", mode=\"DPRNN\", dp_enabled=True, n_iter=300, epsilon=5., delta = delta)"
   ]
  },
  {
   "cell_type": "code",
   "execution_count": 16,
   "id": "2f40b45c-cdc6-43bf-b672-11fe129458b2",
   "metadata": {
    "tags": []
   },
   "outputs": [
    {
     "name": "stderr",
     "output_type": "stream",
     "text": [
      "[2023-09-05T13:12:43.254875-0400][8876][CRITICAL] load failed: module 'synthcity.plugins.generic.plugin_arf' has no attribute 'plugin'\n",
      "[2023-09-05T13:12:43.254875-0400][8876][CRITICAL] load failed: module 'synthcity.plugins.generic.plugin_arf' has no attribute 'plugin'\n",
      "[2023-09-05T13:12:43.255877-0400][8876][CRITICAL] load failed: module 'synthcity.plugins.generic.plugin_arf' has no attribute 'plugin'\n",
      "[2023-09-05T13:12:43.255877-0400][8876][CRITICAL] load failed: module 'synthcity.plugins.generic.plugin_arf' has no attribute 'plugin'\n",
      "[2023-09-05T13:12:43.256875-0400][8876][CRITICAL] module plugin_arf load failed\n",
      "[2023-09-05T13:12:43.256875-0400][8876][CRITICAL] module plugin_arf load failed\n",
      "[2023-09-05T13:12:43.257875-0400][8876][CRITICAL] module disabled: C:\\Users\\ma7mo\\Desktop\\synthetic_time_series\\src\\./synthcity/src\\synthcity\\plugins\\generic\\plugin_goggle.py\n",
      "[2023-09-05T13:12:43.257875-0400][8876][CRITICAL] module disabled: C:\\Users\\ma7mo\\Desktop\\synthetic_time_series\\src\\./synthcity/src\\synthcity\\plugins\\generic\\plugin_goggle.py\n",
      "[2023-09-05T13:12:43.258876-0400][8876][CRITICAL] load failed: module 'synthcity.plugins.generic.plugin_great' has no attribute 'plugin'\n",
      "[2023-09-05T13:12:43.258876-0400][8876][CRITICAL] load failed: module 'synthcity.plugins.generic.plugin_great' has no attribute 'plugin'\n",
      "[2023-09-05T13:12:43.259876-0400][8876][CRITICAL] load failed: module 'synthcity.plugins.generic.plugin_great' has no attribute 'plugin'\n",
      "[2023-09-05T13:12:43.259876-0400][8876][CRITICAL] load failed: module 'synthcity.plugins.generic.plugin_great' has no attribute 'plugin'\n",
      "[2023-09-05T13:12:43.259876-0400][8876][CRITICAL] module plugin_great load failed\n",
      "[2023-09-05T13:12:43.259876-0400][8876][CRITICAL] module plugin_great load failed\n"
     ]
    }
   ],
   "source": [
    "syn_model_with_dp_eps20 = Plugins().get(\"timegan\", mode=\"DPRNN\", dp_enabled=True, n_iter=300, epsilon=20., delta = delta)"
   ]
  },
  {
   "cell_type": "code",
   "execution_count": 17,
   "id": "b3285d5b-c23c-4340-87a6-903e4375ef9b",
   "metadata": {
    "tags": []
   },
   "outputs": [
    {
     "name": "stderr",
     "output_type": "stream",
     "text": [
      "100%|██████████████████████████████████████████████████████████████████████████████| 1000/1000 [07:14<00:00,  2.30it/s]\n"
     ]
    },
    {
     "data": {
      "text/plain": [
       "<synthcity.plugins.time_series.plugin_timegan.TimeGANPlugin at 0x24ad0327520>"
      ]
     },
     "execution_count": 17,
     "metadata": {},
     "output_type": "execute_result"
    }
   ],
   "source": [
    "syn_model_without_dp.fit(data)"
   ]
  },
  {
   "cell_type": "code",
   "execution_count": 18,
   "id": "982abc55-9ab7-4922-8e61-e14b0b6bceb1",
   "metadata": {
    "tags": []
   },
   "outputs": [
    {
     "name": "stdout",
     "output_type": "stream",
     "text": [
      "Enabling DP Privacy Engine: epsilon= 1.0 delta= 0.00032182238498800495 max_grad_norm= 2.0 secure_mode= False\n"
     ]
    },
    {
     "name": "stderr",
     "output_type": "stream",
     "text": [
      "100%|████████████████████████████████████████████████████████████████████████████████| 300/300 [31:34<00:00,  6.32s/it]\n"
     ]
    },
    {
     "data": {
      "text/plain": [
       "<synthcity.plugins.time_series.plugin_timegan.TimeGANPlugin at 0x24ad0326c80>"
      ]
     },
     "execution_count": 18,
     "metadata": {},
     "output_type": "execute_result"
    }
   ],
   "source": [
    "syn_model_with_dp_eps1.fit(data)"
   ]
  },
  {
   "cell_type": "code",
   "execution_count": 19,
   "id": "310207ad-75ce-4dde-ab95-4edf2fbe86c8",
   "metadata": {
    "tags": []
   },
   "outputs": [
    {
     "name": "stdout",
     "output_type": "stream",
     "text": [
      "Enabling DP Privacy Engine: epsilon= 5.0 delta= 0.00032182238498800495 max_grad_norm= 2.0 secure_mode= False\n"
     ]
    },
    {
     "name": "stderr",
     "output_type": "stream",
     "text": [
      "100%|██████████████████████████████████████████████████████████████████████████████| 300/300 [1:29:26<00:00, 17.89s/it]\n"
     ]
    },
    {
     "data": {
      "text/plain": [
       "<synthcity.plugins.time_series.plugin_timegan.TimeGANPlugin at 0x24ad0326dd0>"
      ]
     },
     "execution_count": 19,
     "metadata": {},
     "output_type": "execute_result"
    }
   ],
   "source": [
    "syn_model_with_dp_eps5.fit(data)"
   ]
  },
  {
   "cell_type": "code",
   "execution_count": 20,
   "id": "0c5e7e38-095f-4d1a-8590-f31bd2a1a1cc",
   "metadata": {
    "tags": []
   },
   "outputs": [
    {
     "name": "stdout",
     "output_type": "stream",
     "text": [
      "Enabling DP Privacy Engine: epsilon= 20.0 delta= 0.00032182238498800495 max_grad_norm= 2.0 secure_mode= False\n"
     ]
    },
    {
     "name": "stderr",
     "output_type": "stream",
     "text": [
      "100%|██████████████████████████████████████████████████████████████████████████████| 300/300 [2:38:53<00:00, 31.78s/it]\n"
     ]
    },
    {
     "data": {
      "text/plain": [
       "<synthcity.plugins.time_series.plugin_timegan.TimeGANPlugin at 0x24aff925570>"
      ]
     },
     "execution_count": 20,
     "metadata": {},
     "output_type": "execute_result"
    }
   ],
   "source": [
    "syn_model_with_dp_eps20.fit(data)"
   ]
  },
  {
   "cell_type": "code",
   "execution_count": 21,
   "id": "94bcd526-04ff-4dee-bced-d98b9fd19b42",
   "metadata": {
    "tags": []
   },
   "outputs": [],
   "source": [
    "synth_data_without_dp = syn_model_without_dp.generate(count=len(data)/10)"
   ]
  },
  {
   "cell_type": "code",
   "execution_count": 22,
   "id": "49fa174f-66d8-49ee-8bca-c2b54f3fb020",
   "metadata": {
    "tags": []
   },
   "outputs": [],
   "source": [
    "synth_data_with_dp = syn_model_with_dp_eps1.generate(count=len(data)/10)"
   ]
  },
  {
   "cell_type": "code",
   "execution_count": 23,
   "id": "3a8423e0-4051-482d-a620-121a6e440905",
   "metadata": {
    "tags": []
   },
   "outputs": [],
   "source": [
    "synth_data_with_dp_eps5 = syn_model_with_dp_eps5.generate(count=len(data)/10)"
   ]
  },
  {
   "cell_type": "code",
   "execution_count": 24,
   "id": "91d761f0-437b-43c6-a248-ce8285cbd7d7",
   "metadata": {
    "tags": []
   },
   "outputs": [],
   "source": [
    "synth_data_with_dp_eps20 = syn_model_with_dp_eps20.generate(count=len(data)/10)"
   ]
  },
  {
   "cell_type": "code",
   "execution_count": 25,
   "id": "6a84a505-3068-4d82-aed8-011ae5b6f58d",
   "metadata": {
    "tags": []
   },
   "outputs": [],
   "source": [
    "def create_sequence(dataset, seq_len):\n",
    "    sequences = []\n",
    "    labels = []\n",
    "\n",
    "\n",
    "    for index in range(0, len(dataset)//seq_len): # Selecting 50 rows at a time\n",
    "        sequences.append(dataset.iloc[index*seq_len:(index+1)*seq_len-1])\n",
    "        labels.append(dataset.iloc[(index+1)*seq_len-1][2])\n",
    "    return (np.array(sequences),np.array(labels))"
   ]
  },
  {
   "cell_type": "code",
   "execution_count": 26,
   "id": "744b087d-b32a-4a0b-9209-ec887832fdc3",
   "metadata": {
    "tags": []
   },
   "outputs": [],
   "source": [
    "def create_sequence_np(dataset, seq_len):\n",
    "    sequences = []\n",
    "    labels = []\n",
    "    for index in range(0, len(dataset)): # Selecting 50 rows at a time\n",
    "        sequences.append(dataset[index][:-1])\n",
    "        labels.append(dataset[index][-1][2])\n",
    "    return (np.array(sequences),np.array(labels))"
   ]
  },
  {
   "cell_type": "code",
   "execution_count": 27,
   "id": "b52b35ec-5016-42b1-966e-5b8a1b8618f2",
   "metadata": {
    "tags": []
   },
   "outputs": [],
   "source": [
    "class Network(nn.Module):\n",
    "    def __init__(self, dropout,\n",
    "                 input_dim=8, num_classes = 1, hidden_size = 50, **kwargs):\n",
    "\n",
    "        super(Network, self).__init__()\n",
    "\n",
    "        print(\"==> not used params in network class:\", kwargs.keys())\n",
    "\n",
    "        self.input_dim = input_dim\n",
    "        self.dropout = dropout\n",
    "        self.hidden_size = hidden_size\n",
    "\n",
    "\n",
    "        # Main part of the network\n",
    "        self.lstm_layers = nn.ModuleList()\n",
    "        self.lstm_layers.append(nn.LSTM(input_size=input_dim,hidden_size=self.hidden_size))\n",
    "        self.lstm_layers.append(nn.Dropout(p=dropout))\n",
    "        self.lstm_layers.append(nn.LSTM(input_size=self.hidden_size,\n",
    "                           hidden_size=self.hidden_size))\n",
    "        self.lstm_layers.append(nn.Dropout(p=dropout))\n",
    "        self.lstm_layers.append(nn.LSTM(input_size=self.hidden_size,\n",
    "                           hidden_size=self.hidden_size))\n",
    "        self.lstm_layers.append(nn.Dropout(p=dropout))\n",
    "        # Output layer\n",
    "        self.output_layer = nn.Linear(self.hidden_size, num_classes)\n",
    "        # self.output_activation = nn.Sigmoid()\n",
    "\n",
    "    def forward(self, X, lengths=None):\n",
    "        # Input layer\n",
    "        X = X.to(torch.float32)\n",
    "        mX = X\n",
    "        # Main part of the network\n",
    "        i = 0\n",
    "        for lstm in self.lstm_layers:\n",
    "            if i % 2 == 0:\n",
    "                output, _ = lstm(mX)\n",
    "            else:\n",
    "                output = lstm(mX)\n",
    "            mX = output\n",
    "            i += 1\n",
    "        L = output[:, -1, :]\n",
    "        # Output layer\n",
    "        y = self.output_layer(L)\n",
    "        return y\n"
   ]
  },
  {
   "cell_type": "code",
   "execution_count": 28,
   "id": "a0f448a0-040b-4bf6-9db4-2ef345388c33",
   "metadata": {
    "tags": []
   },
   "outputs": [],
   "source": [
    "def run_model(model, training_error, testing_error, X_train, y_train, X_test, y_test):\n",
    "    loss = nn.MSELoss()\n",
    "    train_loader = DataLoader(list(zip(X_train, y_train)), batch_size=1)\n",
    "    val_loader = DataLoader(list(zip(X_test, y_test)), batch_size=1, shuffle=True)\n",
    "    optimizer = optim.Adam(model.parameters(), lr=0.001, betas=(0.9, 0.999))\n",
    "    for epoch in range(0, 100):\n",
    "        model.train()\n",
    "        step_loss = []\n",
    "        for i, batch in enumerate(train_loader):\n",
    "            optimizer.zero_grad()\n",
    "            inputs, targets = batch\n",
    "            outputs = model(inputs)\n",
    "            targets = targets.reshape(tuple(outputs.shape))\n",
    "            targets = targets.to(torch.float32)\n",
    "            batch_loss = loss(outputs, targets)\n",
    "            batch_loss.backward()\n",
    "            optimizer.step()\n",
    "            step_loss.append(batch_loss.item())\n",
    "        training_error.append(np.array(step_loss).mean())\n",
    "        model.eval()\n",
    "        val_loss = 0\n",
    "        with torch.no_grad():\n",
    "            num_batches = 0\n",
    "            res = {}\n",
    "            y_true = []\n",
    "            predictions = []\n",
    "            for batch in val_loader:\n",
    "                inputs, targets = batch\n",
    "                outputs = model(inputs)\n",
    "                targets = targets.reshape(tuple(outputs.shape))\n",
    "                targets = targets.to(torch.float32)\n",
    "                batch_loss = loss(outputs, targets)\n",
    "                val_loss += batch_loss.item()\n",
    "                num_batches += 1\n",
    "            val_loss /= num_batches\n",
    "            print('Epoch [{}/{}], Step [{}/{}], Validation Batch Loss: {:.4f}'\n",
    "                    .format(epoch + 1, 100, i + 1, len(train_loader), val_loss))\n",
    "        testing_error.append(val_loss)"
   ]
  },
  {
   "cell_type": "code",
   "execution_count": 29,
   "id": "1689f004-4ea7-4c5e-a199-12f8712f4b3e",
   "metadata": {
    "tags": []
   },
   "outputs": [],
   "source": [
    "random_data = np.random.rand(40, 10, 8)"
   ]
  },
  {
   "cell_type": "code",
   "execution_count": 30,
   "id": "40f7f6b7-aa93-49f3-a23a-51f77ed88b2a",
   "metadata": {
    "tags": []
   },
   "outputs": [],
   "source": [
    "X, y = create_sequence(data.dataframe(), 10)"
   ]
  },
  {
   "cell_type": "code",
   "execution_count": 31,
   "id": "0bf6be23-8db5-4cbd-a242-cc6aae852f8c",
   "metadata": {
    "tags": []
   },
   "outputs": [],
   "source": [
    "synth_no_dp_X, synth_no_dp_y = create_sequence(synth_data_without_dp.dataframe(), 10)"
   ]
  },
  {
   "cell_type": "code",
   "execution_count": 32,
   "id": "251aa4cf-1d71-4c12-9276-abc88148c442",
   "metadata": {
    "tags": []
   },
   "outputs": [],
   "source": [
    "synth_dp_X, synth_dp_y = create_sequence(synth_data_with_dp.dataframe(), 10)"
   ]
  },
  {
   "cell_type": "code",
   "execution_count": 33,
   "id": "de83343b-9cd7-48c8-a8ec-8dca5ce9d4f9",
   "metadata": {
    "tags": []
   },
   "outputs": [],
   "source": [
    "synth_dp_eps5_X, synth_dp_eps5_y = create_sequence(synth_data_with_dp_eps5.dataframe(), 10)"
   ]
  },
  {
   "cell_type": "code",
   "execution_count": 34,
   "id": "8e75c3a6-0021-40bb-a843-16b06fad18c9",
   "metadata": {
    "tags": []
   },
   "outputs": [],
   "source": [
    "synth_dp_eps20_X, synth_dp_eps20_y = create_sequence(synth_data_with_dp_eps20.dataframe(), 10)"
   ]
  },
  {
   "cell_type": "code",
   "execution_count": 35,
   "id": "3005c959-b73d-43fd-9d0b-6e5b80658b83",
   "metadata": {
    "tags": []
   },
   "outputs": [],
   "source": [
    "random_X, random_y = create_sequence_np(random_data, 10)"
   ]
  },
  {
   "cell_type": "code",
   "execution_count": 36,
   "id": "a86fc7e1-2284-4f09-904c-c7cb35f52f64",
   "metadata": {
    "tags": []
   },
   "outputs": [],
   "source": [
    "X_train, X_test, y_train, y_test = train_test_split(X, y, test_size=0.33, random_state=42)"
   ]
  },
  {
   "cell_type": "code",
   "execution_count": 37,
   "id": "8c52fa08-e81e-4102-b319-4b0b286e555c",
   "metadata": {
    "tags": []
   },
   "outputs": [
    {
     "name": "stdout",
     "output_type": "stream",
     "text": [
      "==> not used params in network class: dict_keys([])\n",
      "Epoch [1/100], Step [33/33], Validation Batch Loss: 0.0527\n",
      "Epoch [2/100], Step [33/33], Validation Batch Loss: 0.0295\n",
      "Epoch [3/100], Step [33/33], Validation Batch Loss: 0.0300\n",
      "Epoch [4/100], Step [33/33], Validation Batch Loss: 0.0305\n",
      "Epoch [5/100], Step [33/33], Validation Batch Loss: 0.0308\n",
      "Epoch [6/100], Step [33/33], Validation Batch Loss: 0.0317\n",
      "Epoch [7/100], Step [33/33], Validation Batch Loss: 0.0305\n",
      "Epoch [8/100], Step [33/33], Validation Batch Loss: 0.0290\n",
      "Epoch [9/100], Step [33/33], Validation Batch Loss: 0.0278\n",
      "Epoch [10/100], Step [33/33], Validation Batch Loss: 0.0232\n",
      "Epoch [11/100], Step [33/33], Validation Batch Loss: 0.0181\n",
      "Epoch [12/100], Step [33/33], Validation Batch Loss: 0.0146\n",
      "Epoch [13/100], Step [33/33], Validation Batch Loss: 0.0114\n",
      "Epoch [14/100], Step [33/33], Validation Batch Loss: 0.0087\n",
      "Epoch [15/100], Step [33/33], Validation Batch Loss: 0.0064\n",
      "Epoch [16/100], Step [33/33], Validation Batch Loss: 0.0047\n",
      "Epoch [17/100], Step [33/33], Validation Batch Loss: 0.0041\n",
      "Epoch [18/100], Step [33/33], Validation Batch Loss: 0.0042\n",
      "Epoch [19/100], Step [33/33], Validation Batch Loss: 0.0034\n",
      "Epoch [20/100], Step [33/33], Validation Batch Loss: 0.0082\n",
      "Epoch [21/100], Step [33/33], Validation Batch Loss: 0.0050\n",
      "Epoch [22/100], Step [33/33], Validation Batch Loss: 0.0034\n",
      "Epoch [23/100], Step [33/33], Validation Batch Loss: 0.0055\n",
      "Epoch [24/100], Step [33/33], Validation Batch Loss: 0.0030\n",
      "Epoch [25/100], Step [33/33], Validation Batch Loss: 0.0032\n",
      "Epoch [26/100], Step [33/33], Validation Batch Loss: 0.0028\n",
      "Epoch [27/100], Step [33/33], Validation Batch Loss: 0.0034\n",
      "Epoch [28/100], Step [33/33], Validation Batch Loss: 0.0031\n",
      "Epoch [29/100], Step [33/33], Validation Batch Loss: 0.0044\n",
      "Epoch [30/100], Step [33/33], Validation Batch Loss: 0.0052\n",
      "Epoch [31/100], Step [33/33], Validation Batch Loss: 0.0065\n",
      "Epoch [32/100], Step [33/33], Validation Batch Loss: 0.0023\n",
      "Epoch [33/100], Step [33/33], Validation Batch Loss: 0.0022\n",
      "Epoch [34/100], Step [33/33], Validation Batch Loss: 0.0022\n",
      "Epoch [35/100], Step [33/33], Validation Batch Loss: 0.0023\n",
      "Epoch [36/100], Step [33/33], Validation Batch Loss: 0.0041\n",
      "Epoch [37/100], Step [33/33], Validation Batch Loss: 0.0022\n",
      "Epoch [38/100], Step [33/33], Validation Batch Loss: 0.0035\n",
      "Epoch [39/100], Step [33/33], Validation Batch Loss: 0.0022\n",
      "Epoch [40/100], Step [33/33], Validation Batch Loss: 0.0019\n",
      "Epoch [41/100], Step [33/33], Validation Batch Loss: 0.0035\n",
      "Epoch [42/100], Step [33/33], Validation Batch Loss: 0.0023\n",
      "Epoch [43/100], Step [33/33], Validation Batch Loss: 0.0019\n",
      "Epoch [44/100], Step [33/33], Validation Batch Loss: 0.0078\n",
      "Epoch [45/100], Step [33/33], Validation Batch Loss: 0.0032\n",
      "Epoch [46/100], Step [33/33], Validation Batch Loss: 0.0022\n",
      "Epoch [47/100], Step [33/33], Validation Batch Loss: 0.0043\n",
      "Epoch [48/100], Step [33/33], Validation Batch Loss: 0.0029\n",
      "Epoch [49/100], Step [33/33], Validation Batch Loss: 0.0017\n",
      "Epoch [50/100], Step [33/33], Validation Batch Loss: 0.0019\n",
      "Epoch [51/100], Step [33/33], Validation Batch Loss: 0.0016\n",
      "Epoch [52/100], Step [33/33], Validation Batch Loss: 0.0026\n",
      "Epoch [53/100], Step [33/33], Validation Batch Loss: 0.0036\n",
      "Epoch [54/100], Step [33/33], Validation Batch Loss: 0.0025\n",
      "Epoch [55/100], Step [33/33], Validation Batch Loss: 0.0029\n",
      "Epoch [56/100], Step [33/33], Validation Batch Loss: 0.0020\n",
      "Epoch [57/100], Step [33/33], Validation Batch Loss: 0.0047\n",
      "Epoch [58/100], Step [33/33], Validation Batch Loss: 0.0043\n",
      "Epoch [59/100], Step [33/33], Validation Batch Loss: 0.0027\n",
      "Epoch [60/100], Step [33/33], Validation Batch Loss: 0.0034\n",
      "Epoch [61/100], Step [33/33], Validation Batch Loss: 0.0028\n",
      "Epoch [62/100], Step [33/33], Validation Batch Loss: 0.0027\n",
      "Epoch [63/100], Step [33/33], Validation Batch Loss: 0.0025\n",
      "Epoch [64/100], Step [33/33], Validation Batch Loss: 0.0023\n",
      "Epoch [65/100], Step [33/33], Validation Batch Loss: 0.0029\n",
      "Epoch [66/100], Step [33/33], Validation Batch Loss: 0.0034\n",
      "Epoch [67/100], Step [33/33], Validation Batch Loss: 0.0032\n",
      "Epoch [68/100], Step [33/33], Validation Batch Loss: 0.0028\n",
      "Epoch [69/100], Step [33/33], Validation Batch Loss: 0.0029\n",
      "Epoch [70/100], Step [33/33], Validation Batch Loss: 0.0027\n",
      "Epoch [71/100], Step [33/33], Validation Batch Loss: 0.0029\n",
      "Epoch [72/100], Step [33/33], Validation Batch Loss: 0.0022\n",
      "Epoch [73/100], Step [33/33], Validation Batch Loss: 0.0023\n",
      "Epoch [74/100], Step [33/33], Validation Batch Loss: 0.0027\n",
      "Epoch [75/100], Step [33/33], Validation Batch Loss: 0.0028\n",
      "Epoch [76/100], Step [33/33], Validation Batch Loss: 0.0027\n",
      "Epoch [77/100], Step [33/33], Validation Batch Loss: 0.0028\n",
      "Epoch [78/100], Step [33/33], Validation Batch Loss: 0.0030\n",
      "Epoch [79/100], Step [33/33], Validation Batch Loss: 0.0033\n",
      "Epoch [80/100], Step [33/33], Validation Batch Loss: 0.0033\n",
      "Epoch [81/100], Step [33/33], Validation Batch Loss: 0.0033\n",
      "Epoch [82/100], Step [33/33], Validation Batch Loss: 0.0026\n",
      "Epoch [83/100], Step [33/33], Validation Batch Loss: 0.0056\n",
      "Epoch [84/100], Step [33/33], Validation Batch Loss: 0.0030\n",
      "Epoch [85/100], Step [33/33], Validation Batch Loss: 0.0025\n",
      "Epoch [86/100], Step [33/33], Validation Batch Loss: 0.0027\n",
      "Epoch [87/100], Step [33/33], Validation Batch Loss: 0.0039\n",
      "Epoch [88/100], Step [33/33], Validation Batch Loss: 0.0033\n",
      "Epoch [89/100], Step [33/33], Validation Batch Loss: 0.0027\n",
      "Epoch [90/100], Step [33/33], Validation Batch Loss: 0.0029\n",
      "Epoch [91/100], Step [33/33], Validation Batch Loss: 0.0028\n",
      "Epoch [92/100], Step [33/33], Validation Batch Loss: 0.0045\n",
      "Epoch [93/100], Step [33/33], Validation Batch Loss: 0.0081\n",
      "Epoch [94/100], Step [33/33], Validation Batch Loss: 0.0040\n",
      "Epoch [95/100], Step [33/33], Validation Batch Loss: 0.0032\n",
      "Epoch [96/100], Step [33/33], Validation Batch Loss: 0.0036\n",
      "Epoch [97/100], Step [33/33], Validation Batch Loss: 0.0044\n",
      "Epoch [98/100], Step [33/33], Validation Batch Loss: 0.0030\n",
      "Epoch [99/100], Step [33/33], Validation Batch Loss: 0.0034\n",
      "Epoch [100/100], Step [33/33], Validation Batch Loss: 0.0032\n"
     ]
    }
   ],
   "source": [
    "model = Network(0.2)\n",
    "trainingEpoch_loss = []\n",
    "validationEpoch_loss = []\n",
    "run_model(model, trainingEpoch_loss, validationEpoch_loss, X_train, y_train, X_test, y_test)"
   ]
  },
  {
   "cell_type": "code",
   "execution_count": 38,
   "id": "c06d224f-30eb-419c-a29b-148e33d09147",
   "metadata": {
    "tags": []
   },
   "outputs": [
    {
     "name": "stdout",
     "output_type": "stream",
     "text": [
      "==> not used params in network class: dict_keys([])\n",
      "Epoch [1/100], Step [50/50], Validation Batch Loss: 0.0290\n",
      "Epoch [2/100], Step [50/50], Validation Batch Loss: 0.0300\n",
      "Epoch [3/100], Step [50/50], Validation Batch Loss: 0.0291\n",
      "Epoch [4/100], Step [50/50], Validation Batch Loss: 0.0285\n",
      "Epoch [5/100], Step [50/50], Validation Batch Loss: 0.0286\n",
      "Epoch [6/100], Step [50/50], Validation Batch Loss: 0.0274\n",
      "Epoch [7/100], Step [50/50], Validation Batch Loss: 0.0268\n",
      "Epoch [8/100], Step [50/50], Validation Batch Loss: 0.0258\n",
      "Epoch [9/100], Step [50/50], Validation Batch Loss: 0.0194\n",
      "Epoch [10/100], Step [50/50], Validation Batch Loss: 0.0203\n",
      "Epoch [11/100], Step [50/50], Validation Batch Loss: 0.0168\n",
      "Epoch [12/100], Step [50/50], Validation Batch Loss: 0.0069\n",
      "Epoch [13/100], Step [50/50], Validation Batch Loss: 0.0183\n",
      "Epoch [14/100], Step [50/50], Validation Batch Loss: 0.0454\n",
      "Epoch [15/100], Step [50/50], Validation Batch Loss: 0.0045\n",
      "Epoch [16/100], Step [50/50], Validation Batch Loss: 0.0133\n",
      "Epoch [17/100], Step [50/50], Validation Batch Loss: 0.0070\n",
      "Epoch [18/100], Step [50/50], Validation Batch Loss: 0.0141\n",
      "Epoch [19/100], Step [50/50], Validation Batch Loss: 0.0358\n",
      "Epoch [20/100], Step [50/50], Validation Batch Loss: 0.0045\n",
      "Epoch [21/100], Step [50/50], Validation Batch Loss: 0.0059\n",
      "Epoch [22/100], Step [50/50], Validation Batch Loss: 0.0056\n",
      "Epoch [23/100], Step [50/50], Validation Batch Loss: 0.0097\n",
      "Epoch [24/100], Step [50/50], Validation Batch Loss: 0.0107\n",
      "Epoch [25/100], Step [50/50], Validation Batch Loss: 0.0066\n",
      "Epoch [26/100], Step [50/50], Validation Batch Loss: 0.0103\n",
      "Epoch [27/100], Step [50/50], Validation Batch Loss: 0.0106\n",
      "Epoch [28/100], Step [50/50], Validation Batch Loss: 0.0098\n",
      "Epoch [29/100], Step [50/50], Validation Batch Loss: 0.0142\n",
      "Epoch [30/100], Step [50/50], Validation Batch Loss: 0.0084\n",
      "Epoch [31/100], Step [50/50], Validation Batch Loss: 0.0113\n",
      "Epoch [32/100], Step [50/50], Validation Batch Loss: 0.0178\n",
      "Epoch [33/100], Step [50/50], Validation Batch Loss: 0.0099\n",
      "Epoch [34/100], Step [50/50], Validation Batch Loss: 0.0102\n",
      "Epoch [35/100], Step [50/50], Validation Batch Loss: 0.0146\n",
      "Epoch [36/100], Step [50/50], Validation Batch Loss: 0.0127\n",
      "Epoch [37/100], Step [50/50], Validation Batch Loss: 0.0111\n",
      "Epoch [38/100], Step [50/50], Validation Batch Loss: 0.0137\n",
      "Epoch [39/100], Step [50/50], Validation Batch Loss: 0.0228\n",
      "Epoch [40/100], Step [50/50], Validation Batch Loss: 0.0146\n",
      "Epoch [41/100], Step [50/50], Validation Batch Loss: 0.0126\n",
      "Epoch [42/100], Step [50/50], Validation Batch Loss: 0.0218\n",
      "Epoch [43/100], Step [50/50], Validation Batch Loss: 0.0208\n",
      "Epoch [44/100], Step [50/50], Validation Batch Loss: 0.0171\n",
      "Epoch [45/100], Step [50/50], Validation Batch Loss: 0.0112\n",
      "Epoch [46/100], Step [50/50], Validation Batch Loss: 0.0241\n",
      "Epoch [47/100], Step [50/50], Validation Batch Loss: 0.0153\n",
      "Epoch [48/100], Step [50/50], Validation Batch Loss: 0.0160\n",
      "Epoch [49/100], Step [50/50], Validation Batch Loss: 0.0202\n",
      "Epoch [50/100], Step [50/50], Validation Batch Loss: 0.0113\n",
      "Epoch [51/100], Step [50/50], Validation Batch Loss: 0.0128\n",
      "Epoch [52/100], Step [50/50], Validation Batch Loss: 0.0186\n",
      "Epoch [53/100], Step [50/50], Validation Batch Loss: 0.0157\n",
      "Epoch [54/100], Step [50/50], Validation Batch Loss: 0.0125\n",
      "Epoch [55/100], Step [50/50], Validation Batch Loss: 0.0134\n",
      "Epoch [56/100], Step [50/50], Validation Batch Loss: 0.0164\n",
      "Epoch [57/100], Step [50/50], Validation Batch Loss: 0.0143\n",
      "Epoch [58/100], Step [50/50], Validation Batch Loss: 0.0127\n",
      "Epoch [59/100], Step [50/50], Validation Batch Loss: 0.0166\n",
      "Epoch [60/100], Step [50/50], Validation Batch Loss: 0.0130\n",
      "Epoch [61/100], Step [50/50], Validation Batch Loss: 0.0196\n",
      "Epoch [62/100], Step [50/50], Validation Batch Loss: 0.0138\n",
      "Epoch [63/100], Step [50/50], Validation Batch Loss: 0.0161\n",
      "Epoch [64/100], Step [50/50], Validation Batch Loss: 0.0207\n",
      "Epoch [65/100], Step [50/50], Validation Batch Loss: 0.0139\n",
      "Epoch [66/100], Step [50/50], Validation Batch Loss: 0.0102\n",
      "Epoch [67/100], Step [50/50], Validation Batch Loss: 0.0183\n",
      "Epoch [68/100], Step [50/50], Validation Batch Loss: 0.0242\n",
      "Epoch [69/100], Step [50/50], Validation Batch Loss: 0.0173\n",
      "Epoch [70/100], Step [50/50], Validation Batch Loss: 0.0213\n",
      "Epoch [71/100], Step [50/50], Validation Batch Loss: 0.0166\n",
      "Epoch [72/100], Step [50/50], Validation Batch Loss: 0.0173\n",
      "Epoch [73/100], Step [50/50], Validation Batch Loss: 0.0137\n",
      "Epoch [74/100], Step [50/50], Validation Batch Loss: 0.0112\n",
      "Epoch [75/100], Step [50/50], Validation Batch Loss: 0.0167\n",
      "Epoch [76/100], Step [50/50], Validation Batch Loss: 0.0173\n",
      "Epoch [77/100], Step [50/50], Validation Batch Loss: 0.0176\n",
      "Epoch [78/100], Step [50/50], Validation Batch Loss: 0.0149\n",
      "Epoch [79/100], Step [50/50], Validation Batch Loss: 0.0153\n",
      "Epoch [80/100], Step [50/50], Validation Batch Loss: 0.0234\n",
      "Epoch [81/100], Step [50/50], Validation Batch Loss: 0.0127\n",
      "Epoch [82/100], Step [50/50], Validation Batch Loss: 0.0181\n",
      "Epoch [83/100], Step [50/50], Validation Batch Loss: 0.0179\n",
      "Epoch [84/100], Step [50/50], Validation Batch Loss: 0.0178\n",
      "Epoch [85/100], Step [50/50], Validation Batch Loss: 0.0184\n",
      "Epoch [86/100], Step [50/50], Validation Batch Loss: 0.0132\n",
      "Epoch [87/100], Step [50/50], Validation Batch Loss: 0.0171\n",
      "Epoch [88/100], Step [50/50], Validation Batch Loss: 0.0190\n",
      "Epoch [89/100], Step [50/50], Validation Batch Loss: 0.0268\n",
      "Epoch [90/100], Step [50/50], Validation Batch Loss: 0.0218\n",
      "Epoch [91/100], Step [50/50], Validation Batch Loss: 0.0148\n",
      "Epoch [92/100], Step [50/50], Validation Batch Loss: 0.0180\n",
      "Epoch [93/100], Step [50/50], Validation Batch Loss: 0.0222\n",
      "Epoch [94/100], Step [50/50], Validation Batch Loss: 0.0193\n",
      "Epoch [95/100], Step [50/50], Validation Batch Loss: 0.0156\n",
      "Epoch [96/100], Step [50/50], Validation Batch Loss: 0.0241\n",
      "Epoch [97/100], Step [50/50], Validation Batch Loss: 0.0153\n",
      "Epoch [98/100], Step [50/50], Validation Batch Loss: 0.0280\n",
      "Epoch [99/100], Step [50/50], Validation Batch Loss: 0.0164\n",
      "Epoch [100/100], Step [50/50], Validation Batch Loss: 0.0197\n"
     ]
    }
   ],
   "source": [
    "synth_no_dp_model = Network(0.2)\n",
    "trainingEpoch_no_dp_loss = []\n",
    "validationEpoch_no_dp_loss = []\n",
    "run_model(synth_no_dp_model, trainingEpoch_no_dp_loss, validationEpoch_no_dp_loss, synth_no_dp_X, synth_no_dp_y, X_test, y_test)"
   ]
  },
  {
   "cell_type": "code",
   "execution_count": 39,
   "id": "880a0bd9-6370-4df2-ae00-ace9467e644a",
   "metadata": {},
   "outputs": [
    {
     "name": "stdout",
     "output_type": "stream",
     "text": [
      "==> not used params in network class: dict_keys([])\n",
      "Epoch [1/100], Step [50/50], Validation Batch Loss: 0.0452\n",
      "Epoch [2/100], Step [50/50], Validation Batch Loss: 0.0299\n",
      "Epoch [3/100], Step [50/50], Validation Batch Loss: 0.0307\n",
      "Epoch [4/100], Step [50/50], Validation Batch Loss: 0.0315\n",
      "Epoch [5/100], Step [50/50], Validation Batch Loss: 0.0319\n",
      "Epoch [6/100], Step [50/50], Validation Batch Loss: 0.0339\n",
      "Epoch [7/100], Step [50/50], Validation Batch Loss: 0.0349\n",
      "Epoch [8/100], Step [50/50], Validation Batch Loss: 0.0365\n",
      "Epoch [9/100], Step [50/50], Validation Batch Loss: 0.0363\n",
      "Epoch [10/100], Step [50/50], Validation Batch Loss: 0.0377\n",
      "Epoch [11/100], Step [50/50], Validation Batch Loss: 0.0396\n",
      "Epoch [12/100], Step [50/50], Validation Batch Loss: 0.0346\n",
      "Epoch [13/100], Step [50/50], Validation Batch Loss: 0.0369\n",
      "Epoch [14/100], Step [50/50], Validation Batch Loss: 0.0350\n",
      "Epoch [15/100], Step [50/50], Validation Batch Loss: 0.0383\n",
      "Epoch [16/100], Step [50/50], Validation Batch Loss: 0.0384\n",
      "Epoch [17/100], Step [50/50], Validation Batch Loss: 0.0385\n",
      "Epoch [18/100], Step [50/50], Validation Batch Loss: 0.0407\n",
      "Epoch [19/100], Step [50/50], Validation Batch Loss: 0.0401\n",
      "Epoch [20/100], Step [50/50], Validation Batch Loss: 0.0362\n",
      "Epoch [21/100], Step [50/50], Validation Batch Loss: 0.0375\n",
      "Epoch [22/100], Step [50/50], Validation Batch Loss: 0.0360\n",
      "Epoch [23/100], Step [50/50], Validation Batch Loss: 0.0346\n",
      "Epoch [24/100], Step [50/50], Validation Batch Loss: 0.0372\n",
      "Epoch [25/100], Step [50/50], Validation Batch Loss: 0.0367\n",
      "Epoch [26/100], Step [50/50], Validation Batch Loss: 0.0361\n",
      "Epoch [27/100], Step [50/50], Validation Batch Loss: 0.0388\n",
      "Epoch [28/100], Step [50/50], Validation Batch Loss: 0.0408\n",
      "Epoch [29/100], Step [50/50], Validation Batch Loss: 0.0416\n",
      "Epoch [30/100], Step [50/50], Validation Batch Loss: 0.0367\n",
      "Epoch [31/100], Step [50/50], Validation Batch Loss: 0.0380\n",
      "Epoch [32/100], Step [50/50], Validation Batch Loss: 0.0382\n",
      "Epoch [33/100], Step [50/50], Validation Batch Loss: 0.0377\n",
      "Epoch [34/100], Step [50/50], Validation Batch Loss: 0.0365\n",
      "Epoch [35/100], Step [50/50], Validation Batch Loss: 0.0411\n",
      "Epoch [36/100], Step [50/50], Validation Batch Loss: 0.0373\n",
      "Epoch [37/100], Step [50/50], Validation Batch Loss: 0.0359\n",
      "Epoch [38/100], Step [50/50], Validation Batch Loss: 0.0392\n",
      "Epoch [39/100], Step [50/50], Validation Batch Loss: 0.0390\n",
      "Epoch [40/100], Step [50/50], Validation Batch Loss: 0.0390\n",
      "Epoch [41/100], Step [50/50], Validation Batch Loss: 0.0378\n",
      "Epoch [42/100], Step [50/50], Validation Batch Loss: 0.0364\n",
      "Epoch [43/100], Step [50/50], Validation Batch Loss: 0.0370\n",
      "Epoch [44/100], Step [50/50], Validation Batch Loss: 0.0376\n",
      "Epoch [45/100], Step [50/50], Validation Batch Loss: 0.0383\n",
      "Epoch [46/100], Step [50/50], Validation Batch Loss: 0.0389\n",
      "Epoch [47/100], Step [50/50], Validation Batch Loss: 0.0397\n",
      "Epoch [48/100], Step [50/50], Validation Batch Loss: 0.0362\n",
      "Epoch [49/100], Step [50/50], Validation Batch Loss: 0.0354\n",
      "Epoch [50/100], Step [50/50], Validation Batch Loss: 0.0367\n",
      "Epoch [51/100], Step [50/50], Validation Batch Loss: 0.0410\n",
      "Epoch [52/100], Step [50/50], Validation Batch Loss: 0.0374\n",
      "Epoch [53/100], Step [50/50], Validation Batch Loss: 0.0402\n",
      "Epoch [54/100], Step [50/50], Validation Batch Loss: 0.0390\n",
      "Epoch [55/100], Step [50/50], Validation Batch Loss: 0.0404\n",
      "Epoch [56/100], Step [50/50], Validation Batch Loss: 0.0377\n",
      "Epoch [57/100], Step [50/50], Validation Batch Loss: 0.0387\n",
      "Epoch [58/100], Step [50/50], Validation Batch Loss: 0.0373\n",
      "Epoch [59/100], Step [50/50], Validation Batch Loss: 0.0371\n",
      "Epoch [60/100], Step [50/50], Validation Batch Loss: 0.0390\n",
      "Epoch [61/100], Step [50/50], Validation Batch Loss: 0.0387\n",
      "Epoch [62/100], Step [50/50], Validation Batch Loss: 0.0380\n",
      "Epoch [63/100], Step [50/50], Validation Batch Loss: 0.0381\n",
      "Epoch [64/100], Step [50/50], Validation Batch Loss: 0.0371\n",
      "Epoch [65/100], Step [50/50], Validation Batch Loss: 0.0376\n",
      "Epoch [66/100], Step [50/50], Validation Batch Loss: 0.0371\n",
      "Epoch [67/100], Step [50/50], Validation Batch Loss: 0.0402\n",
      "Epoch [68/100], Step [50/50], Validation Batch Loss: 0.0383\n",
      "Epoch [69/100], Step [50/50], Validation Batch Loss: 0.0383\n",
      "Epoch [70/100], Step [50/50], Validation Batch Loss: 0.0378\n",
      "Epoch [71/100], Step [50/50], Validation Batch Loss: 0.0378\n",
      "Epoch [72/100], Step [50/50], Validation Batch Loss: 0.0385\n",
      "Epoch [73/100], Step [50/50], Validation Batch Loss: 0.0386\n",
      "Epoch [74/100], Step [50/50], Validation Batch Loss: 0.0394\n",
      "Epoch [75/100], Step [50/50], Validation Batch Loss: 0.0385\n",
      "Epoch [76/100], Step [50/50], Validation Batch Loss: 0.0373\n",
      "Epoch [77/100], Step [50/50], Validation Batch Loss: 0.0387\n",
      "Epoch [78/100], Step [50/50], Validation Batch Loss: 0.0378\n",
      "Epoch [79/100], Step [50/50], Validation Batch Loss: 0.0369\n",
      "Epoch [80/100], Step [50/50], Validation Batch Loss: 0.0376\n",
      "Epoch [81/100], Step [50/50], Validation Batch Loss: 0.0380\n",
      "Epoch [82/100], Step [50/50], Validation Batch Loss: 0.0375\n",
      "Epoch [83/100], Step [50/50], Validation Batch Loss: 0.0385\n",
      "Epoch [84/100], Step [50/50], Validation Batch Loss: 0.0380\n",
      "Epoch [85/100], Step [50/50], Validation Batch Loss: 0.0385\n",
      "Epoch [86/100], Step [50/50], Validation Batch Loss: 0.0379\n",
      "Epoch [87/100], Step [50/50], Validation Batch Loss: 0.0380\n",
      "Epoch [88/100], Step [50/50], Validation Batch Loss: 0.0381\n",
      "Epoch [89/100], Step [50/50], Validation Batch Loss: 0.0392\n",
      "Epoch [90/100], Step [50/50], Validation Batch Loss: 0.0386\n",
      "Epoch [91/100], Step [50/50], Validation Batch Loss: 0.0384\n",
      "Epoch [92/100], Step [50/50], Validation Batch Loss: 0.0383\n",
      "Epoch [93/100], Step [50/50], Validation Batch Loss: 0.0389\n",
      "Epoch [94/100], Step [50/50], Validation Batch Loss: 0.0386\n",
      "Epoch [95/100], Step [50/50], Validation Batch Loss: 0.0376\n",
      "Epoch [96/100], Step [50/50], Validation Batch Loss: 0.0398\n",
      "Epoch [97/100], Step [50/50], Validation Batch Loss: 0.0399\n",
      "Epoch [98/100], Step [50/50], Validation Batch Loss: 0.0382\n",
      "Epoch [99/100], Step [50/50], Validation Batch Loss: 0.0376\n",
      "Epoch [100/100], Step [50/50], Validation Batch Loss: 0.0392\n"
     ]
    }
   ],
   "source": [
    "synth_dp_model = Network(0.2)\n",
    "trainingEpoch_dp_loss = []\n",
    "validationEpoch_dp_loss = []\n",
    "run_model(synth_dp_model, trainingEpoch_dp_loss, validationEpoch_dp_loss, synth_dp_X, synth_dp_y, X_test, y_test)"
   ]
  },
  {
   "cell_type": "code",
   "execution_count": 40,
   "id": "d55840bc-eac4-49af-a4cf-f2fc5a4f91a2",
   "metadata": {
    "tags": []
   },
   "outputs": [
    {
     "name": "stdout",
     "output_type": "stream",
     "text": [
      "==> not used params in network class: dict_keys([])\n",
      "Epoch [1/100], Step [50/50], Validation Batch Loss: 0.0543\n",
      "Epoch [2/100], Step [50/50], Validation Batch Loss: 0.0299\n",
      "Epoch [3/100], Step [50/50], Validation Batch Loss: 0.0295\n",
      "Epoch [4/100], Step [50/50], Validation Batch Loss: 0.0317\n",
      "Epoch [5/100], Step [50/50], Validation Batch Loss: 0.0334\n",
      "Epoch [6/100], Step [50/50], Validation Batch Loss: 0.0334\n",
      "Epoch [7/100], Step [50/50], Validation Batch Loss: 0.0362\n",
      "Epoch [8/100], Step [50/50], Validation Batch Loss: 0.0330\n",
      "Epoch [9/100], Step [50/50], Validation Batch Loss: 0.0356\n",
      "Epoch [10/100], Step [50/50], Validation Batch Loss: 0.0358\n",
      "Epoch [11/100], Step [50/50], Validation Batch Loss: 0.0346\n",
      "Epoch [12/100], Step [50/50], Validation Batch Loss: 0.0346\n",
      "Epoch [13/100], Step [50/50], Validation Batch Loss: 0.0393\n",
      "Epoch [14/100], Step [50/50], Validation Batch Loss: 0.0352\n",
      "Epoch [15/100], Step [50/50], Validation Batch Loss: 0.0521\n",
      "Epoch [16/100], Step [50/50], Validation Batch Loss: 0.0374\n",
      "Epoch [17/100], Step [50/50], Validation Batch Loss: 0.0372\n",
      "Epoch [18/100], Step [50/50], Validation Batch Loss: 0.0343\n",
      "Epoch [19/100], Step [50/50], Validation Batch Loss: 0.0369\n",
      "Epoch [20/100], Step [50/50], Validation Batch Loss: 0.0358\n",
      "Epoch [21/100], Step [50/50], Validation Batch Loss: 0.0357\n",
      "Epoch [22/100], Step [50/50], Validation Batch Loss: 0.0395\n",
      "Epoch [23/100], Step [50/50], Validation Batch Loss: 0.0369\n",
      "Epoch [24/100], Step [50/50], Validation Batch Loss: 0.0380\n",
      "Epoch [25/100], Step [50/50], Validation Batch Loss: 0.0381\n",
      "Epoch [26/100], Step [50/50], Validation Batch Loss: 0.0344\n",
      "Epoch [27/100], Step [50/50], Validation Batch Loss: 0.0330\n",
      "Epoch [28/100], Step [50/50], Validation Batch Loss: 0.0360\n",
      "Epoch [29/100], Step [50/50], Validation Batch Loss: 0.0395\n",
      "Epoch [30/100], Step [50/50], Validation Batch Loss: 0.0366\n",
      "Epoch [31/100], Step [50/50], Validation Batch Loss: 0.0373\n",
      "Epoch [32/100], Step [50/50], Validation Batch Loss: 0.0329\n",
      "Epoch [33/100], Step [50/50], Validation Batch Loss: 0.0355\n",
      "Epoch [34/100], Step [50/50], Validation Batch Loss: 0.0343\n",
      "Epoch [35/100], Step [50/50], Validation Batch Loss: 0.0347\n",
      "Epoch [36/100], Step [50/50], Validation Batch Loss: 0.0359\n",
      "Epoch [37/100], Step [50/50], Validation Batch Loss: 0.0402\n",
      "Epoch [38/100], Step [50/50], Validation Batch Loss: 0.0359\n",
      "Epoch [39/100], Step [50/50], Validation Batch Loss: 0.0397\n",
      "Epoch [40/100], Step [50/50], Validation Batch Loss: 0.0358\n",
      "Epoch [41/100], Step [50/50], Validation Batch Loss: 0.0375\n",
      "Epoch [42/100], Step [50/50], Validation Batch Loss: 0.0385\n",
      "Epoch [43/100], Step [50/50], Validation Batch Loss: 0.0371\n",
      "Epoch [44/100], Step [50/50], Validation Batch Loss: 0.0378\n",
      "Epoch [45/100], Step [50/50], Validation Batch Loss: 0.0382\n",
      "Epoch [46/100], Step [50/50], Validation Batch Loss: 0.0394\n",
      "Epoch [47/100], Step [50/50], Validation Batch Loss: 0.0364\n",
      "Epoch [48/100], Step [50/50], Validation Batch Loss: 0.0371\n",
      "Epoch [49/100], Step [50/50], Validation Batch Loss: 0.0384\n",
      "Epoch [50/100], Step [50/50], Validation Batch Loss: 0.0347\n",
      "Epoch [51/100], Step [50/50], Validation Batch Loss: 0.0400\n",
      "Epoch [52/100], Step [50/50], Validation Batch Loss: 0.0361\n",
      "Epoch [53/100], Step [50/50], Validation Batch Loss: 0.0361\n",
      "Epoch [54/100], Step [50/50], Validation Batch Loss: 0.0386\n",
      "Epoch [55/100], Step [50/50], Validation Batch Loss: 0.0359\n",
      "Epoch [56/100], Step [50/50], Validation Batch Loss: 0.0366\n",
      "Epoch [57/100], Step [50/50], Validation Batch Loss: 0.0394\n",
      "Epoch [58/100], Step [50/50], Validation Batch Loss: 0.0376\n",
      "Epoch [59/100], Step [50/50], Validation Batch Loss: 0.0398\n",
      "Epoch [60/100], Step [50/50], Validation Batch Loss: 0.0381\n",
      "Epoch [61/100], Step [50/50], Validation Batch Loss: 0.0404\n",
      "Epoch [62/100], Step [50/50], Validation Batch Loss: 0.0423\n",
      "Epoch [63/100], Step [50/50], Validation Batch Loss: 0.0416\n",
      "Epoch [64/100], Step [50/50], Validation Batch Loss: 0.0368\n",
      "Epoch [65/100], Step [50/50], Validation Batch Loss: 0.0371\n",
      "Epoch [66/100], Step [50/50], Validation Batch Loss: 0.0371\n",
      "Epoch [67/100], Step [50/50], Validation Batch Loss: 0.0399\n",
      "Epoch [68/100], Step [50/50], Validation Batch Loss: 0.0381\n",
      "Epoch [69/100], Step [50/50], Validation Batch Loss: 0.0430\n",
      "Epoch [70/100], Step [50/50], Validation Batch Loss: 0.0390\n",
      "Epoch [71/100], Step [50/50], Validation Batch Loss: 0.0378\n",
      "Epoch [72/100], Step [50/50], Validation Batch Loss: 0.0379\n",
      "Epoch [73/100], Step [50/50], Validation Batch Loss: 0.0376\n",
      "Epoch [74/100], Step [50/50], Validation Batch Loss: 0.0381\n",
      "Epoch [75/100], Step [50/50], Validation Batch Loss: 0.0359\n",
      "Epoch [76/100], Step [50/50], Validation Batch Loss: 0.0376\n",
      "Epoch [77/100], Step [50/50], Validation Batch Loss: 0.0409\n",
      "Epoch [78/100], Step [50/50], Validation Batch Loss: 0.0416\n",
      "Epoch [79/100], Step [50/50], Validation Batch Loss: 0.0371\n",
      "Epoch [80/100], Step [50/50], Validation Batch Loss: 0.0364\n",
      "Epoch [81/100], Step [50/50], Validation Batch Loss: 0.0367\n",
      "Epoch [82/100], Step [50/50], Validation Batch Loss: 0.0406\n",
      "Epoch [83/100], Step [50/50], Validation Batch Loss: 0.0434\n",
      "Epoch [84/100], Step [50/50], Validation Batch Loss: 0.0385\n",
      "Epoch [85/100], Step [50/50], Validation Batch Loss: 0.0369\n",
      "Epoch [86/100], Step [50/50], Validation Batch Loss: 0.0375\n",
      "Epoch [87/100], Step [50/50], Validation Batch Loss: 0.0376\n",
      "Epoch [88/100], Step [50/50], Validation Batch Loss: 0.0383\n",
      "Epoch [89/100], Step [50/50], Validation Batch Loss: 0.0393\n",
      "Epoch [90/100], Step [50/50], Validation Batch Loss: 0.0369\n",
      "Epoch [91/100], Step [50/50], Validation Batch Loss: 0.0363\n",
      "Epoch [92/100], Step [50/50], Validation Batch Loss: 0.0359\n",
      "Epoch [93/100], Step [50/50], Validation Batch Loss: 0.0350\n",
      "Epoch [94/100], Step [50/50], Validation Batch Loss: 0.0387\n",
      "Epoch [95/100], Step [50/50], Validation Batch Loss: 0.0421\n",
      "Epoch [96/100], Step [50/50], Validation Batch Loss: 0.0392\n",
      "Epoch [97/100], Step [50/50], Validation Batch Loss: 0.0413\n",
      "Epoch [98/100], Step [50/50], Validation Batch Loss: 0.0402\n",
      "Epoch [99/100], Step [50/50], Validation Batch Loss: 0.0375\n",
      "Epoch [100/100], Step [50/50], Validation Batch Loss: 0.0368\n"
     ]
    }
   ],
   "source": [
    "synth_dp_eps5_model = Network(0.2)\n",
    "trainingEpoch_dp_eps5_loss = []\n",
    "validationEpoch_dp_eps5_loss = []\n",
    "run_model(synth_dp_eps5_model, trainingEpoch_dp_eps5_loss, validationEpoch_dp_eps5_loss, synth_dp_eps5_X, synth_dp_eps5_y, X_test, y_test)"
   ]
  },
  {
   "cell_type": "code",
   "execution_count": 41,
   "id": "b0dfde13-a5cf-4981-996a-26951366f0f6",
   "metadata": {
    "tags": []
   },
   "outputs": [
    {
     "name": "stdout",
     "output_type": "stream",
     "text": [
      "==> not used params in network class: dict_keys([])\n",
      "Epoch [1/100], Step [49/49], Validation Batch Loss: 0.0309\n",
      "Epoch [2/100], Step [49/49], Validation Batch Loss: 0.0334\n",
      "Epoch [3/100], Step [49/49], Validation Batch Loss: 0.0395\n",
      "Epoch [4/100], Step [49/49], Validation Batch Loss: 0.0629\n",
      "Epoch [5/100], Step [49/49], Validation Batch Loss: 0.0728\n",
      "Epoch [6/100], Step [49/49], Validation Batch Loss: 0.0739\n",
      "Epoch [7/100], Step [49/49], Validation Batch Loss: 0.0478\n",
      "Epoch [8/100], Step [49/49], Validation Batch Loss: 0.0538\n",
      "Epoch [9/100], Step [49/49], Validation Batch Loss: 0.0476\n",
      "Epoch [10/100], Step [49/49], Validation Batch Loss: 0.0576\n",
      "Epoch [11/100], Step [49/49], Validation Batch Loss: 0.0524\n",
      "Epoch [12/100], Step [49/49], Validation Batch Loss: 0.0543\n",
      "Epoch [13/100], Step [49/49], Validation Batch Loss: 0.0486\n",
      "Epoch [14/100], Step [49/49], Validation Batch Loss: 0.0641\n",
      "Epoch [15/100], Step [49/49], Validation Batch Loss: 0.0542\n",
      "Epoch [16/100], Step [49/49], Validation Batch Loss: 0.0546\n",
      "Epoch [17/100], Step [49/49], Validation Batch Loss: 0.0473\n",
      "Epoch [18/100], Step [49/49], Validation Batch Loss: 0.0530\n",
      "Epoch [19/100], Step [49/49], Validation Batch Loss: 0.0492\n",
      "Epoch [20/100], Step [49/49], Validation Batch Loss: 0.0419\n",
      "Epoch [21/100], Step [49/49], Validation Batch Loss: 0.0480\n",
      "Epoch [22/100], Step [49/49], Validation Batch Loss: 0.0502\n",
      "Epoch [23/100], Step [49/49], Validation Batch Loss: 0.0409\n",
      "Epoch [24/100], Step [49/49], Validation Batch Loss: 0.0491\n",
      "Epoch [25/100], Step [49/49], Validation Batch Loss: 0.0486\n",
      "Epoch [26/100], Step [49/49], Validation Batch Loss: 0.0489\n",
      "Epoch [27/100], Step [49/49], Validation Batch Loss: 0.0486\n",
      "Epoch [28/100], Step [49/49], Validation Batch Loss: 0.0447\n",
      "Epoch [29/100], Step [49/49], Validation Batch Loss: 0.0445\n",
      "Epoch [30/100], Step [49/49], Validation Batch Loss: 0.0401\n",
      "Epoch [31/100], Step [49/49], Validation Batch Loss: 0.0521\n",
      "Epoch [32/100], Step [49/49], Validation Batch Loss: 0.0425\n",
      "Epoch [33/100], Step [49/49], Validation Batch Loss: 0.0458\n",
      "Epoch [34/100], Step [49/49], Validation Batch Loss: 0.0454\n",
      "Epoch [35/100], Step [49/49], Validation Batch Loss: 0.0516\n",
      "Epoch [36/100], Step [49/49], Validation Batch Loss: 0.0405\n",
      "Epoch [37/100], Step [49/49], Validation Batch Loss: 0.0405\n",
      "Epoch [38/100], Step [49/49], Validation Batch Loss: 0.0440\n",
      "Epoch [39/100], Step [49/49], Validation Batch Loss: 0.0430\n",
      "Epoch [40/100], Step [49/49], Validation Batch Loss: 0.0475\n",
      "Epoch [41/100], Step [49/49], Validation Batch Loss: 0.0489\n",
      "Epoch [42/100], Step [49/49], Validation Batch Loss: 0.0434\n",
      "Epoch [43/100], Step [49/49], Validation Batch Loss: 0.0454\n",
      "Epoch [44/100], Step [49/49], Validation Batch Loss: 0.0412\n",
      "Epoch [45/100], Step [49/49], Validation Batch Loss: 0.0415\n",
      "Epoch [46/100], Step [49/49], Validation Batch Loss: 0.0526\n",
      "Epoch [47/100], Step [49/49], Validation Batch Loss: 0.0476\n",
      "Epoch [48/100], Step [49/49], Validation Batch Loss: 0.0423\n",
      "Epoch [49/100], Step [49/49], Validation Batch Loss: 0.0478\n",
      "Epoch [50/100], Step [49/49], Validation Batch Loss: 0.0470\n",
      "Epoch [51/100], Step [49/49], Validation Batch Loss: 0.0450\n",
      "Epoch [52/100], Step [49/49], Validation Batch Loss: 0.0379\n",
      "Epoch [53/100], Step [49/49], Validation Batch Loss: 0.0410\n",
      "Epoch [54/100], Step [49/49], Validation Batch Loss: 0.0479\n",
      "Epoch [55/100], Step [49/49], Validation Batch Loss: 0.0570\n",
      "Epoch [56/100], Step [49/49], Validation Batch Loss: 0.0475\n",
      "Epoch [57/100], Step [49/49], Validation Batch Loss: 0.0391\n",
      "Epoch [58/100], Step [49/49], Validation Batch Loss: 0.0459\n",
      "Epoch [59/100], Step [49/49], Validation Batch Loss: 0.0477\n",
      "Epoch [60/100], Step [49/49], Validation Batch Loss: 0.0434\n",
      "Epoch [61/100], Step [49/49], Validation Batch Loss: 0.0460\n",
      "Epoch [62/100], Step [49/49], Validation Batch Loss: 0.0484\n",
      "Epoch [63/100], Step [49/49], Validation Batch Loss: 0.0451\n",
      "Epoch [64/100], Step [49/49], Validation Batch Loss: 0.0411\n",
      "Epoch [65/100], Step [49/49], Validation Batch Loss: 0.0404\n",
      "Epoch [66/100], Step [49/49], Validation Batch Loss: 0.0526\n",
      "Epoch [67/100], Step [49/49], Validation Batch Loss: 0.0482\n",
      "Epoch [68/100], Step [49/49], Validation Batch Loss: 0.0371\n",
      "Epoch [69/100], Step [49/49], Validation Batch Loss: 0.0441\n",
      "Epoch [70/100], Step [49/49], Validation Batch Loss: 0.0458\n",
      "Epoch [71/100], Step [49/49], Validation Batch Loss: 0.0479\n",
      "Epoch [72/100], Step [49/49], Validation Batch Loss: 0.0455\n",
      "Epoch [73/100], Step [49/49], Validation Batch Loss: 0.0429\n",
      "Epoch [74/100], Step [49/49], Validation Batch Loss: 0.0441\n",
      "Epoch [75/100], Step [49/49], Validation Batch Loss: 0.0447\n",
      "Epoch [76/100], Step [49/49], Validation Batch Loss: 0.0513\n",
      "Epoch [77/100], Step [49/49], Validation Batch Loss: 0.0395\n",
      "Epoch [78/100], Step [49/49], Validation Batch Loss: 0.0424\n",
      "Epoch [79/100], Step [49/49], Validation Batch Loss: 0.0513\n",
      "Epoch [80/100], Step [49/49], Validation Batch Loss: 0.0495\n",
      "Epoch [81/100], Step [49/49], Validation Batch Loss: 0.0464\n",
      "Epoch [82/100], Step [49/49], Validation Batch Loss: 0.0474\n",
      "Epoch [83/100], Step [49/49], Validation Batch Loss: 0.0454\n",
      "Epoch [84/100], Step [49/49], Validation Batch Loss: 0.0422\n",
      "Epoch [85/100], Step [49/49], Validation Batch Loss: 0.0474\n",
      "Epoch [86/100], Step [49/49], Validation Batch Loss: 0.0439\n",
      "Epoch [87/100], Step [49/49], Validation Batch Loss: 0.0423\n",
      "Epoch [88/100], Step [49/49], Validation Batch Loss: 0.0570\n",
      "Epoch [89/100], Step [49/49], Validation Batch Loss: 0.0415\n",
      "Epoch [90/100], Step [49/49], Validation Batch Loss: 0.0489\n",
      "Epoch [91/100], Step [49/49], Validation Batch Loss: 0.0479\n",
      "Epoch [92/100], Step [49/49], Validation Batch Loss: 0.0434\n",
      "Epoch [93/100], Step [49/49], Validation Batch Loss: 0.0449\n",
      "Epoch [94/100], Step [49/49], Validation Batch Loss: 0.0472\n",
      "Epoch [95/100], Step [49/49], Validation Batch Loss: 0.0455\n",
      "Epoch [96/100], Step [49/49], Validation Batch Loss: 0.0461\n",
      "Epoch [97/100], Step [49/49], Validation Batch Loss: 0.0409\n",
      "Epoch [98/100], Step [49/49], Validation Batch Loss: 0.0504\n",
      "Epoch [99/100], Step [49/49], Validation Batch Loss: 0.0460\n",
      "Epoch [100/100], Step [49/49], Validation Batch Loss: 0.0456\n"
     ]
    }
   ],
   "source": [
    "synth_dp_eps20_model = Network(0.2)\n",
    "trainingEpoch_dp_eps20_loss = []\n",
    "validationEpoch_dp_eps20_loss = []\n",
    "run_model(synth_dp_eps20_model, trainingEpoch_dp_eps20_loss, validationEpoch_dp_eps20_loss, synth_dp_eps20_X, synth_dp_eps20_y, X_test, y_test)"
   ]
  },
  {
   "cell_type": "code",
   "execution_count": 42,
   "id": "be847b58-690f-4891-99fd-ffc3351b471b",
   "metadata": {
    "tags": []
   },
   "outputs": [
    {
     "name": "stdout",
     "output_type": "stream",
     "text": [
      "==> not used params in network class: dict_keys([])\n",
      "Epoch [1/100], Step [40/40], Validation Batch Loss: 0.1299\n",
      "Epoch [2/100], Step [40/40], Validation Batch Loss: 0.0339\n",
      "Epoch [3/100], Step [40/40], Validation Batch Loss: 0.0342\n",
      "Epoch [4/100], Step [40/40], Validation Batch Loss: 0.0334\n",
      "Epoch [5/100], Step [40/40], Validation Batch Loss: 0.0341\n",
      "Epoch [6/100], Step [40/40], Validation Batch Loss: 0.0369\n",
      "Epoch [7/100], Step [40/40], Validation Batch Loss: 0.0430\n",
      "Epoch [8/100], Step [40/40], Validation Batch Loss: 0.0604\n",
      "Epoch [9/100], Step [40/40], Validation Batch Loss: 0.0704\n",
      "Epoch [10/100], Step [40/40], Validation Batch Loss: 0.0874\n",
      "Epoch [11/100], Step [40/40], Validation Batch Loss: 0.1098\n",
      "Epoch [12/100], Step [40/40], Validation Batch Loss: 0.1448\n",
      "Epoch [13/100], Step [40/40], Validation Batch Loss: 0.1848\n",
      "Epoch [14/100], Step [40/40], Validation Batch Loss: 0.2179\n",
      "Epoch [15/100], Step [40/40], Validation Batch Loss: 0.2555\n",
      "Epoch [16/100], Step [40/40], Validation Batch Loss: 0.2829\n",
      "Epoch [17/100], Step [40/40], Validation Batch Loss: 0.3076\n",
      "Epoch [18/100], Step [40/40], Validation Batch Loss: 0.3208\n",
      "Epoch [19/100], Step [40/40], Validation Batch Loss: 0.3183\n",
      "Epoch [20/100], Step [40/40], Validation Batch Loss: 0.3000\n",
      "Epoch [21/100], Step [40/40], Validation Batch Loss: 0.2938\n",
      "Epoch [22/100], Step [40/40], Validation Batch Loss: 0.2928\n",
      "Epoch [23/100], Step [40/40], Validation Batch Loss: 0.3020\n",
      "Epoch [24/100], Step [40/40], Validation Batch Loss: 0.2954\n",
      "Epoch [25/100], Step [40/40], Validation Batch Loss: 0.2901\n",
      "Epoch [26/100], Step [40/40], Validation Batch Loss: 0.3007\n",
      "Epoch [27/100], Step [40/40], Validation Batch Loss: 0.2812\n",
      "Epoch [28/100], Step [40/40], Validation Batch Loss: 0.3085\n",
      "Epoch [29/100], Step [40/40], Validation Batch Loss: 0.2965\n",
      "Epoch [30/100], Step [40/40], Validation Batch Loss: 0.2879\n",
      "Epoch [31/100], Step [40/40], Validation Batch Loss: 0.2675\n",
      "Epoch [32/100], Step [40/40], Validation Batch Loss: 0.2520\n",
      "Epoch [33/100], Step [40/40], Validation Batch Loss: 0.2512\n",
      "Epoch [34/100], Step [40/40], Validation Batch Loss: 0.2516\n",
      "Epoch [35/100], Step [40/40], Validation Batch Loss: 0.2564\n",
      "Epoch [36/100], Step [40/40], Validation Batch Loss: 0.2692\n",
      "Epoch [37/100], Step [40/40], Validation Batch Loss: 0.2621\n",
      "Epoch [38/100], Step [40/40], Validation Batch Loss: 0.2541\n",
      "Epoch [39/100], Step [40/40], Validation Batch Loss: 0.2520\n",
      "Epoch [40/100], Step [40/40], Validation Batch Loss: 0.2518\n",
      "Epoch [41/100], Step [40/40], Validation Batch Loss: 0.2318\n",
      "Epoch [42/100], Step [40/40], Validation Batch Loss: 0.2407\n",
      "Epoch [43/100], Step [40/40], Validation Batch Loss: 0.2355\n",
      "Epoch [44/100], Step [40/40], Validation Batch Loss: 0.2300\n",
      "Epoch [45/100], Step [40/40], Validation Batch Loss: 0.2322\n",
      "Epoch [46/100], Step [40/40], Validation Batch Loss: 0.2271\n",
      "Epoch [47/100], Step [40/40], Validation Batch Loss: 0.2314\n",
      "Epoch [48/100], Step [40/40], Validation Batch Loss: 0.2527\n",
      "Epoch [49/100], Step [40/40], Validation Batch Loss: 0.2368\n",
      "Epoch [50/100], Step [40/40], Validation Batch Loss: 0.2319\n",
      "Epoch [51/100], Step [40/40], Validation Batch Loss: 0.2265\n",
      "Epoch [52/100], Step [40/40], Validation Batch Loss: 0.2283\n",
      "Epoch [53/100], Step [40/40], Validation Batch Loss: 0.2316\n",
      "Epoch [54/100], Step [40/40], Validation Batch Loss: 0.2334\n",
      "Epoch [55/100], Step [40/40], Validation Batch Loss: 0.2123\n",
      "Epoch [56/100], Step [40/40], Validation Batch Loss: 0.1946\n",
      "Epoch [57/100], Step [40/40], Validation Batch Loss: 0.1974\n",
      "Epoch [58/100], Step [40/40], Validation Batch Loss: 0.2021\n",
      "Epoch [59/100], Step [40/40], Validation Batch Loss: 0.2134\n",
      "Epoch [60/100], Step [40/40], Validation Batch Loss: 0.2004\n",
      "Epoch [61/100], Step [40/40], Validation Batch Loss: 0.2111\n",
      "Epoch [62/100], Step [40/40], Validation Batch Loss: 0.1930\n",
      "Epoch [63/100], Step [40/40], Validation Batch Loss: 0.1924\n",
      "Epoch [64/100], Step [40/40], Validation Batch Loss: 0.1919\n",
      "Epoch [65/100], Step [40/40], Validation Batch Loss: 0.1849\n",
      "Epoch [66/100], Step [40/40], Validation Batch Loss: 0.1962\n",
      "Epoch [67/100], Step [40/40], Validation Batch Loss: 0.1935\n",
      "Epoch [68/100], Step [40/40], Validation Batch Loss: 0.1940\n",
      "Epoch [69/100], Step [40/40], Validation Batch Loss: 0.2069\n",
      "Epoch [70/100], Step [40/40], Validation Batch Loss: 0.2195\n",
      "Epoch [71/100], Step [40/40], Validation Batch Loss: 0.2223\n",
      "Epoch [72/100], Step [40/40], Validation Batch Loss: 0.2286\n",
      "Epoch [73/100], Step [40/40], Validation Batch Loss: 0.2217\n",
      "Epoch [74/100], Step [40/40], Validation Batch Loss: 0.2234\n",
      "Epoch [75/100], Step [40/40], Validation Batch Loss: 0.2189\n",
      "Epoch [76/100], Step [40/40], Validation Batch Loss: 0.2114\n",
      "Epoch [77/100], Step [40/40], Validation Batch Loss: 0.2057\n",
      "Epoch [78/100], Step [40/40], Validation Batch Loss: 0.2186\n",
      "Epoch [79/100], Step [40/40], Validation Batch Loss: 0.2076\n",
      "Epoch [80/100], Step [40/40], Validation Batch Loss: 0.2167\n",
      "Epoch [81/100], Step [40/40], Validation Batch Loss: 0.2048\n",
      "Epoch [82/100], Step [40/40], Validation Batch Loss: 0.1970\n",
      "Epoch [83/100], Step [40/40], Validation Batch Loss: 0.2105\n",
      "Epoch [84/100], Step [40/40], Validation Batch Loss: 0.2102\n",
      "Epoch [85/100], Step [40/40], Validation Batch Loss: 0.1893\n",
      "Epoch [86/100], Step [40/40], Validation Batch Loss: 0.1896\n",
      "Epoch [87/100], Step [40/40], Validation Batch Loss: 0.2070\n",
      "Epoch [88/100], Step [40/40], Validation Batch Loss: 0.2133\n",
      "Epoch [89/100], Step [40/40], Validation Batch Loss: 0.2249\n",
      "Epoch [90/100], Step [40/40], Validation Batch Loss: 0.2162\n",
      "Epoch [91/100], Step [40/40], Validation Batch Loss: 0.1927\n",
      "Epoch [92/100], Step [40/40], Validation Batch Loss: 0.1949\n",
      "Epoch [93/100], Step [40/40], Validation Batch Loss: 0.2030\n",
      "Epoch [94/100], Step [40/40], Validation Batch Loss: 0.2303\n",
      "Epoch [95/100], Step [40/40], Validation Batch Loss: 0.1916\n",
      "Epoch [96/100], Step [40/40], Validation Batch Loss: 0.2084\n",
      "Epoch [97/100], Step [40/40], Validation Batch Loss: 0.1976\n",
      "Epoch [98/100], Step [40/40], Validation Batch Loss: 0.1941\n",
      "Epoch [99/100], Step [40/40], Validation Batch Loss: 0.1643\n",
      "Epoch [100/100], Step [40/40], Validation Batch Loss: 0.1552\n"
     ]
    }
   ],
   "source": [
    "random_model = Network(0.2)\n",
    "trainingEpoch_random_loss = []\n",
    "validationEpoch_random_loss = []\n",
    "run_model(random_model, trainingEpoch_random_loss, validationEpoch_random_loss, random_X, random_y, X_test, y_test)"
   ]
  },
  {
   "cell_type": "code",
   "execution_count": 43,
   "id": "86a82bd1-092b-4be1-81b2-5637804f5a2e",
   "metadata": {},
   "outputs": [
    {
     "data": {
      "text/plain": [
       "<function matplotlib.pyplot.show(close=None, block=None)>"
      ]
     },
     "execution_count": 43,
     "metadata": {},
     "output_type": "execute_result"
    },
    {
     "data": {
      "image/png": "[encoded data removed]",
      "text/plain": [
       "<Figure size 1000x1000 with 1 Axes>"
      ]
     },
     "metadata": {},
     "output_type": "display_data"
    }
   ],
   "source": [
    "plt.figure(figsize=(10,10))\n",
    "plt.plot(trainingEpoch_loss, label='train_original')\n",
    "plt.plot(validationEpoch_loss,label='val_original')\n",
    "plt.plot(trainingEpoch_no_dp_loss, label='train_no_dp_synthetic')\n",
    "plt.plot(validationEpoch_no_dp_loss,label='val_no_dp_synthetic')\n",
    "plt.plot(trainingEpoch_dp_loss, label='train_dp_eps=1_synthetic')\n",
    "plt.plot(validationEpoch_dp_loss,label='val_dp_eps=1_synthetic')\n",
    "plt.plot(trainingEpoch_dp_eps5_loss, label='train_dp_eps=5_synthetic')\n",
    "plt.plot(validationEpoch_dp_eps5_loss,label='val_dp_eps=5_synthetic')\n",
    "plt.plot(trainingEpoch_dp_eps20_loss, label='train_dp_eps=20_synthetic')\n",
    "plt.plot(validationEpoch_dp_eps20_loss,label='val_dp_eps=20_synthetic')\n",
    "plt.plot(trainingEpoch_random_loss, label='train_random')\n",
    "plt.plot(validationEpoch_random_loss,label='val_random')\n",
    "plt.xlabel(\"Epoch\")\n",
    "plt.ylabel(\"Loss\")\n",
    "plt.legend()\n",
    "plt.show"
   ]
  },
  {
   "cell_type": "code",
   "execution_count": null,
   "id": "36cfc93a-8d70-42fb-8bd3-5845391fc6d9",
   "metadata": {},
   "outputs": [],
   "source": []
  }
 ],
 "metadata": {
  "kernelspec": {
   "display_name": "Python 3 (ipykernel)",
   "language": "python",
   "name": "python3"
  },
  "language_info": {
   "codemirror_mode": {
    "name": "ipython",
    "version": 3
   },
   "file_extension": ".py",
   "mimetype": "text/x-python",
   "name": "python",
   "nbconvert_exporter": "python",
   "pygments_lexer": "ipython3",
   "version": "3.10.5"
  }
 },
 "nbformat": 4,
 "nbformat_minor": 5
}
