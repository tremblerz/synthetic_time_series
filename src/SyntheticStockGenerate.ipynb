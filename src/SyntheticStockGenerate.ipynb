{
 "cells": [
  {
   "cell_type": "markdown",
   "id": "79c36b42-3f2a-4765-8021-a68a07416058",
   "metadata": {},
   "source": [
    "The basic expiremental setup here is we have a stock dataset for the price of GOOG for 50 different samples. Each sample represents a sequence of 10 prices of GOOG in the stock market that are ordered timewise.\n",
    "The columns in the dataset are [seq_id,\tseq_time_id, seq_temporal_Close, seq_temporal_High,\tseq_temporal_Low, seq_temporal_Open, seq_temporal_Volume, seq_out_Open_next]. All the columns represent temporal data except seq_id which is the id of the current sample and seq_out_Open_next which represents the open of the next day. I'm using all the columns to predict the close of the stock price in the 10th sample given. I'm using an LSTM layer with a dropout and then a linear layer to produce the close since this data isn't too complex. I trained the model with Adam and MSE loss."
   ]
  },
  {
   "cell_type": "code",
   "execution_count": 2,
   "id": "4b1340ee-503d-4538-96a7-766bd7b51665",
   "metadata": {
    "tags": []
   },
   "outputs": [],
   "source": [
    "import matplotlib.pyplot as plt"
   ]
  },
  {
   "cell_type": "code",
   "execution_count": null,
   "id": "5f2a9dba-e183-4ef1-bc6c-e1ec66e13b48",
   "metadata": {
    "tags": []
   },
   "outputs": [],
   "source": [
    "import sys\n",
    "from os.path import dirname\n",
    "sys.path.append(dirname('./synthcity/src/'))"
   ]
  },
  {
   "cell_type": "code",
   "execution_count": 4,
   "id": "4d1894a6-5cea-4c1e-88a9-ecd2df40445b",
   "metadata": {
    "tags": []
   },
   "outputs": [
    {
     "name": "stderr",
     "output_type": "stream",
     "text": [
      "C:\\Users\\ma7mo\\AppData\\Local\\Programs\\Python\\Python310\\lib\\site-packages\\tqdm\\auto.py:21: TqdmWarning: IProgress not found. Please update jupyter and ipywidgets. See https://ipywidgets.readthedocs.io/en/stable/user_install.html\n",
      "  from .autonotebook import tqdm as notebook_tqdm\n"
     ]
    }
   ],
   "source": [
    "import torch\n",
    "import torch.nn as nn\n",
    "import numpy as np"
   ]
  },
  {
   "cell_type": "code",
   "execution_count": 5,
   "id": "f6f97c69-5212-488c-87a2-866957209901",
   "metadata": {
    "tags": []
   },
   "outputs": [],
   "source": [
    "from sklearn.model_selection import train_test_split"
   ]
  },
  {
   "cell_type": "code",
   "execution_count": 6,
   "id": "b52757a1-4d54-4764-9666-4a1ceca1ee96",
   "metadata": {
    "tags": []
   },
   "outputs": [],
   "source": [
    "import torch.optim as optim\n",
    "from torch.utils.data import DataLoader"
   ]
  },
  {
   "cell_type": "code",
   "execution_count": 7,
   "id": "e525d301-f295-4083-95f2-53bbfba136c9",
   "metadata": {
    "tags": []
   },
   "outputs": [],
   "source": [
    "import seaborn as sns"
   ]
  },
  {
   "cell_type": "code",
   "execution_count": 8,
   "id": "0d4c644e-5d02-4fa6-9aba-72458133ca2d",
   "metadata": {
    "tags": []
   },
   "outputs": [
    {
     "name": "stdout",
     "output_type": "stream",
     "text": [
      "[KeOps] Warning : \n",
      "    The default C++ compiler could not be found on your system.\n",
      "    You need to either define the CXX environment variable or a symlink to the g++ command.\n",
      "    For example if g++-8 is the command you can do\n",
      "      import os\n",
      "      os.environ['CXX'] = 'g++-8'\n",
      "    \n",
      "[KeOps] Warning : Cuda libraries were not detected on the system ; using cpu only mode\n"
     ]
    }
   ],
   "source": [
    "from synthcity.plugins import Plugins\n",
    "from synthcity.benchmark import Benchmarks"
   ]
  },
  {
   "cell_type": "code",
   "execution_count": 9,
   "id": "653ee9b9-a2b6-4f96-949a-1daf76269980",
   "metadata": {
    "tags": []
   },
   "outputs": [
    {
     "data": {
      "text/plain": [
       "['timevae', 'timegan', 'fflows']"
      ]
     },
     "execution_count": 9,
     "metadata": {},
     "output_type": "execute_result"
    }
   ],
   "source": [
    "Plugins(categories=[\"time_series\"]).list()"
   ]
  },
  {
   "cell_type": "code",
   "execution_count": 10,
   "id": "43c46885-db3f-4d84-a3ca-b94a8b989eb0",
   "metadata": {
    "tags": []
   },
   "outputs": [],
   "source": [
    "from synthcity.utils.datasets.time_series.pbc import PBCDataloader\n",
    "from synthcity.utils.datasets.time_series.google_stocks import GoogleStocksDataloader\n",
    "from synthcity.plugins.core.dataloader import TimeSeriesDataLoader"
   ]
  },
  {
   "cell_type": "code",
   "execution_count": 11,
   "id": "064a33d7-36ab-4a66-a2f1-915024b80aeb",
   "metadata": {
    "tags": []
   },
   "outputs": [],
   "source": [
    "static_data, temporal_data, horizons, outcome = GoogleStocksDataloader().load()"
   ]
  },
  {
   "cell_type": "code",
   "execution_count": 12,
   "id": "4ef065f6-9f3d-4e66-bb5e-af45b5c4acb6",
   "metadata": {
    "tags": []
   },
   "outputs": [],
   "source": [
    "data = TimeSeriesDataLoader(\n",
    "    temporal_data=temporal_data,\n",
    "    observation_times=horizons,\n",
    "    static_data=static_data,\n",
    "    outcome=outcome,\n",
    ")"
   ]
  },
  {
   "cell_type": "code",
   "execution_count": 13,
   "id": "2ea5f0e0-0af9-4a9a-9429-4b643b7428f8",
   "metadata": {
    "tags": []
   },
   "outputs": [
    {
     "data": {
      "text/html": [
       "<div>\n",
       "<style scoped>\n",
       "    .dataframe tbody tr th:only-of-type {\n",
       "        vertical-align: middle;\n",
       "    }\n",
       "\n",
       "    .dataframe tbody tr th {\n",
       "        vertical-align: top;\n",
       "    }\n",
       "\n",
       "    .dataframe thead th {\n",
       "        text-align: right;\n",
       "    }\n",
       "</style>\n",
       "<table border=\"1\" class=\"dataframe\">\n",
       "  <thead>\n",
       "    <tr style=\"text-align: right;\">\n",
       "      <th></th>\n",
       "      <th>seq_id</th>\n",
       "      <th>seq_time_id</th>\n",
       "      <th>seq_temporal_Close</th>\n",
       "      <th>seq_temporal_High</th>\n",
       "      <th>seq_temporal_Low</th>\n",
       "      <th>seq_temporal_Open</th>\n",
       "      <th>seq_temporal_Volume</th>\n",
       "      <th>seq_out_Open_next</th>\n",
       "    </tr>\n",
       "  </thead>\n",
       "  <tbody>\n",
       "    <tr>\n",
       "      <th>0</th>\n",
       "      <td>0</td>\n",
       "      <td>0.261364</td>\n",
       "      <td>0.449439</td>\n",
       "      <td>0.359247</td>\n",
       "      <td>0.403651</td>\n",
       "      <td>0.359753</td>\n",
       "      <td>0.166763</td>\n",
       "      <td>0.710852</td>\n",
       "    </tr>\n",
       "    <tr>\n",
       "      <th>1</th>\n",
       "      <td>0</td>\n",
       "      <td>0.250000</td>\n",
       "      <td>0.410585</td>\n",
       "      <td>0.373123</td>\n",
       "      <td>0.431552</td>\n",
       "      <td>0.399038</td>\n",
       "      <td>0.211437</td>\n",
       "      <td>0.710852</td>\n",
       "    </tr>\n",
       "    <tr>\n",
       "      <th>2</th>\n",
       "      <td>0</td>\n",
       "      <td>0.238636</td>\n",
       "      <td>0.433749</td>\n",
       "      <td>0.384961</td>\n",
       "      <td>0.422686</td>\n",
       "      <td>0.378984</td>\n",
       "      <td>0.249088</td>\n",
       "      <td>0.710852</td>\n",
       "    </tr>\n",
       "    <tr>\n",
       "      <th>3</th>\n",
       "      <td>0</td>\n",
       "      <td>0.204545</td>\n",
       "      <td>0.427522</td>\n",
       "      <td>0.355707</td>\n",
       "      <td>0.284146</td>\n",
       "      <td>0.225962</td>\n",
       "      <td>0.382690</td>\n",
       "      <td>0.710852</td>\n",
       "    </tr>\n",
       "    <tr>\n",
       "      <th>4</th>\n",
       "      <td>0</td>\n",
       "      <td>0.193182</td>\n",
       "      <td>0.276463</td>\n",
       "      <td>0.165675</td>\n",
       "      <td>0.190483</td>\n",
       "      <td>0.099863</td>\n",
       "      <td>0.265592</td>\n",
       "      <td>0.710852</td>\n",
       "    </tr>\n",
       "    <tr>\n",
       "      <th>...</th>\n",
       "      <td>...</td>\n",
       "      <td>...</td>\n",
       "      <td>...</td>\n",
       "      <td>...</td>\n",
       "      <td>...</td>\n",
       "      <td>...</td>\n",
       "      <td>...</td>\n",
       "      <td>...</td>\n",
       "    </tr>\n",
       "    <tr>\n",
       "      <th>495</th>\n",
       "      <td>49</td>\n",
       "      <td>0.670455</td>\n",
       "      <td>0.651805</td>\n",
       "      <td>0.589351</td>\n",
       "      <td>0.633246</td>\n",
       "      <td>0.564835</td>\n",
       "      <td>0.252658</td>\n",
       "      <td>0.246566</td>\n",
       "    </tr>\n",
       "    <tr>\n",
       "      <th>496</th>\n",
       "      <td>49</td>\n",
       "      <td>0.659091</td>\n",
       "      <td>0.587297</td>\n",
       "      <td>0.569527</td>\n",
       "      <td>0.626597</td>\n",
       "      <td>0.557005</td>\n",
       "      <td>0.261217</td>\n",
       "      <td>0.246566</td>\n",
       "    </tr>\n",
       "    <tr>\n",
       "      <th>497</th>\n",
       "      <td>49</td>\n",
       "      <td>0.647727</td>\n",
       "      <td>0.605604</td>\n",
       "      <td>0.569527</td>\n",
       "      <td>0.594394</td>\n",
       "      <td>0.552061</td>\n",
       "      <td>0.165112</td>\n",
       "      <td>0.246566</td>\n",
       "    </tr>\n",
       "    <tr>\n",
       "      <th>498</th>\n",
       "      <td>49</td>\n",
       "      <td>0.636364</td>\n",
       "      <td>0.590535</td>\n",
       "      <td>0.540625</td>\n",
       "      <td>0.587745</td>\n",
       "      <td>0.510852</td>\n",
       "      <td>0.220572</td>\n",
       "      <td>0.246566</td>\n",
       "    </tr>\n",
       "    <tr>\n",
       "      <th>499</th>\n",
       "      <td>49</td>\n",
       "      <td>0.602273</td>\n",
       "      <td>0.521170</td>\n",
       "      <td>0.459784</td>\n",
       "      <td>0.513299</td>\n",
       "      <td>0.451786</td>\n",
       "      <td>0.194089</td>\n",
       "      <td>0.246566</td>\n",
       "    </tr>\n",
       "  </tbody>\n",
       "</table>\n",
       "<p>500 rows × 8 columns</p>\n",
       "</div>"
      ],
      "text/plain": [
       "     seq_id  seq_time_id  seq_temporal_Close  seq_temporal_High  \\\n",
       "0         0     0.261364            0.449439           0.359247   \n",
       "1         0     0.250000            0.410585           0.373123   \n",
       "2         0     0.238636            0.433749           0.384961   \n",
       "3         0     0.204545            0.427522           0.355707   \n",
       "4         0     0.193182            0.276463           0.165675   \n",
       "..      ...          ...                 ...                ...   \n",
       "495      49     0.670455            0.651805           0.589351   \n",
       "496      49     0.659091            0.587297           0.569527   \n",
       "497      49     0.647727            0.605604           0.569527   \n",
       "498      49     0.636364            0.590535           0.540625   \n",
       "499      49     0.602273            0.521170           0.459784   \n",
       "\n",
       "     seq_temporal_Low  seq_temporal_Open  seq_temporal_Volume  \\\n",
       "0            0.403651           0.359753             0.166763   \n",
       "1            0.431552           0.399038             0.211437   \n",
       "2            0.422686           0.378984             0.249088   \n",
       "3            0.284146           0.225962             0.382690   \n",
       "4            0.190483           0.099863             0.265592   \n",
       "..                ...                ...                  ...   \n",
       "495          0.633246           0.564835             0.252658   \n",
       "496          0.626597           0.557005             0.261217   \n",
       "497          0.594394           0.552061             0.165112   \n",
       "498          0.587745           0.510852             0.220572   \n",
       "499          0.513299           0.451786             0.194089   \n",
       "\n",
       "     seq_out_Open_next  \n",
       "0             0.710852  \n",
       "1             0.710852  \n",
       "2             0.710852  \n",
       "3             0.710852  \n",
       "4             0.710852  \n",
       "..                 ...  \n",
       "495           0.246566  \n",
       "496           0.246566  \n",
       "497           0.246566  \n",
       "498           0.246566  \n",
       "499           0.246566  \n",
       "\n",
       "[500 rows x 8 columns]"
      ]
     },
     "execution_count": 13,
     "metadata": {},
     "output_type": "execute_result"
    }
   ],
   "source": [
    "data"
   ]
  },
  {
   "cell_type": "code",
   "execution_count": 12,
   "id": "fe5534cf-d166-4a0c-b7d3-f86f2fb0f751",
   "metadata": {
    "tags": []
   },
   "outputs": [],
   "source": [
    "delta = 1/ (len(data) * np.log(len(data)))"
   ]
  },
  {
   "cell_type": "code",
   "execution_count": 13,
   "id": "4a470f3b-6207-47b4-921f-5a1b36448618",
   "metadata": {
    "tags": []
   },
   "outputs": [
    {
     "name": "stderr",
     "output_type": "stream",
     "text": [
      "[2023-09-05T13:12:42.352173-0400][8876][CRITICAL] load failed: \n",
      "arfpy is not installed. Please install it with pip install arfpy.\n",
      "Please be aware that arfpy is only available for python >= 3.8.\n",
      "\n",
      "[2023-09-05T13:12:42.352173-0400][8876][CRITICAL] load failed: module 'synthcity.plugins.generic.plugin_arf' has no attribute 'plugin'\n",
      "[2023-09-05T13:12:42.353172-0400][8876][CRITICAL] module plugin_arf load failed\n",
      "[2023-09-05T13:12:42.675656-0400][8876][CRITICAL] module disabled: C:\\Users\\ma7mo\\Desktop\\synthetic_time_series\\src\\./synthcity/src\\synthcity\\plugins\\generic\\plugin_goggle.py\n",
      "[2023-09-05T13:12:42.676604-0400][8876][CRITICAL] load failed: \n",
      "GReaT is not installed. Please install it with pip install GReaT.\n",
      "Please be aware that GReaT is only available for python >= 3.9.\n",
      "\n",
      "[2023-09-05T13:12:42.676604-0400][8876][CRITICAL] load failed: module 'synthcity.plugins.generic.plugin_great' has no attribute 'plugin'\n",
      "[2023-09-05T13:12:42.677603-0400][8876][CRITICAL] module plugin_great load failed\n"
     ]
    }
   ],
   "source": [
    "syn_model_without_dp = Plugins().get(\"timegan\", dp_enabled=False)"
   ]
  },
  {
   "cell_type": "code",
   "execution_count": 14,
   "id": "9cc35756-3761-4d58-b321-8070164db7e1",
   "metadata": {
    "tags": []
   },
   "outputs": [
    {
     "name": "stderr",
     "output_type": "stream",
     "text": [
      "[2023-09-05T13:12:43.222493-0400][8876][CRITICAL] load failed: module 'synthcity.plugins.generic.plugin_arf' has no attribute 'plugin'\n",
      "[2023-09-05T13:12:43.222493-0400][8876][CRITICAL] load failed: module 'synthcity.plugins.generic.plugin_arf' has no attribute 'plugin'\n",
      "[2023-09-05T13:12:43.223494-0400][8876][CRITICAL] load failed: module 'synthcity.plugins.generic.plugin_arf' has no attribute 'plugin'\n",
      "[2023-09-05T13:12:43.223494-0400][8876][CRITICAL] load failed: module 'synthcity.plugins.generic.plugin_arf' has no attribute 'plugin'\n",
      "[2023-09-05T13:12:43.224494-0400][8876][CRITICAL] module plugin_arf load failed\n",
      "[2023-09-05T13:12:43.224494-0400][8876][CRITICAL] module plugin_arf load failed\n",
      "[2023-09-05T13:12:43.225494-0400][8876][CRITICAL] module disabled: C:\\Users\\ma7mo\\Desktop\\synthetic_time_series\\src\\./synthcity/src\\synthcity\\plugins\\generic\\plugin_goggle.py\n",
      "[2023-09-05T13:12:43.225494-0400][8876][CRITICAL] module disabled: C:\\Users\\ma7mo\\Desktop\\synthetic_time_series\\src\\./synthcity/src\\synthcity\\plugins\\generic\\plugin_goggle.py\n",
      "[2023-09-05T13:12:43.225494-0400][8876][CRITICAL] load failed: module 'synthcity.plugins.generic.plugin_great' has no attribute 'plugin'\n",
      "[2023-09-05T13:12:43.225494-0400][8876][CRITICAL] load failed: module 'synthcity.plugins.generic.plugin_great' has no attribute 'plugin'\n",
      "[2023-09-05T13:12:43.226495-0400][8876][CRITICAL] load failed: module 'synthcity.plugins.generic.plugin_great' has no attribute 'plugin'\n",
      "[2023-09-05T13:12:43.226495-0400][8876][CRITICAL] load failed: module 'synthcity.plugins.generic.plugin_great' has no attribute 'plugin'\n",
      "[2023-09-05T13:12:43.226495-0400][8876][CRITICAL] module plugin_great load failed\n",
      "[2023-09-05T13:12:43.226495-0400][8876][CRITICAL] module plugin_great load failed\n"
     ]
    }
   ],
   "source": [
    "syn_model_with_dp_eps1 = Plugins().get(\"timegan\", mode=\"DPRNN\", dp_enabled=True, n_iter=300, epsilon=1., delta = delta)"
   ]
  },
  {
   "cell_type": "code",
   "execution_count": 15,
   "id": "6903da31-091a-45a4-b01a-8e5b0dff5d7b",
   "metadata": {
    "tags": []
   },
   "outputs": [
    {
     "name": "stderr",
     "output_type": "stream",
     "text": [
      "[2023-09-05T13:12:43.238648-0400][8876][CRITICAL] load failed: module 'synthcity.plugins.generic.plugin_arf' has no attribute 'plugin'\n",
      "[2023-09-05T13:12:43.238648-0400][8876][CRITICAL] load failed: module 'synthcity.plugins.generic.plugin_arf' has no attribute 'plugin'\n",
      "[2023-09-05T13:12:43.239649-0400][8876][CRITICAL] load failed: module 'synthcity.plugins.generic.plugin_arf' has no attribute 'plugin'\n",
      "[2023-09-05T13:12:43.239649-0400][8876][CRITICAL] load failed: module 'synthcity.plugins.generic.plugin_arf' has no attribute 'plugin'\n",
      "[2023-09-05T13:12:43.240648-0400][8876][CRITICAL] module plugin_arf load failed\n",
      "[2023-09-05T13:12:43.240648-0400][8876][CRITICAL] module plugin_arf load failed\n",
      "[2023-09-05T13:12:43.240648-0400][8876][CRITICAL] module disabled: C:\\Users\\ma7mo\\Desktop\\synthetic_time_series\\src\\./synthcity/src\\synthcity\\plugins\\generic\\plugin_goggle.py\n",
      "[2023-09-05T13:12:43.240648-0400][8876][CRITICAL] module disabled: C:\\Users\\ma7mo\\Desktop\\synthetic_time_series\\src\\./synthcity/src\\synthcity\\plugins\\generic\\plugin_goggle.py\n",
      "[2023-09-05T13:12:43.241649-0400][8876][CRITICAL] load failed: module 'synthcity.plugins.generic.plugin_great' has no attribute 'plugin'\n",
      "[2023-09-05T13:12:43.241649-0400][8876][CRITICAL] load failed: module 'synthcity.plugins.generic.plugin_great' has no attribute 'plugin'\n",
      "[2023-09-05T13:12:43.242649-0400][8876][CRITICAL] load failed: module 'synthcity.plugins.generic.plugin_great' has no attribute 'plugin'\n",
      "[2023-09-05T13:12:43.242649-0400][8876][CRITICAL] load failed: module 'synthcity.plugins.generic.plugin_great' has no attribute 'plugin'\n",
      "[2023-09-05T13:12:43.243649-0400][8876][CRITICAL] module plugin_great load failed\n",
      "[2023-09-05T13:12:43.243649-0400][8876][CRITICAL] module plugin_great load failed\n"
     ]
    }
   ],
   "source": [
    "syn_model_with_dp_eps5 = Plugins().get(\"timegan\", mode=\"DPRNN\", dp_enabled=True, n_iter=300, epsilon=5., delta = delta)"
   ]
  },
  {
   "cell_type": "code",
   "execution_count": 16,
   "id": "2f40b45c-cdc6-43bf-b672-11fe129458b2",
   "metadata": {
    "tags": []
   },
   "outputs": [
    {
     "name": "stderr",
     "output_type": "stream",
     "text": [
      "[2023-09-05T13:12:43.254875-0400][8876][CRITICAL] load failed: module 'synthcity.plugins.generic.plugin_arf' has no attribute 'plugin'\n",
      "[2023-09-05T13:12:43.254875-0400][8876][CRITICAL] load failed: module 'synthcity.plugins.generic.plugin_arf' has no attribute 'plugin'\n",
      "[2023-09-05T13:12:43.255877-0400][8876][CRITICAL] load failed: module 'synthcity.plugins.generic.plugin_arf' has no attribute 'plugin'\n",
      "[2023-09-05T13:12:43.255877-0400][8876][CRITICAL] load failed: module 'synthcity.plugins.generic.plugin_arf' has no attribute 'plugin'\n",
      "[2023-09-05T13:12:43.256875-0400][8876][CRITICAL] module plugin_arf load failed\n",
      "[2023-09-05T13:12:43.256875-0400][8876][CRITICAL] module plugin_arf load failed\n",
      "[2023-09-05T13:12:43.257875-0400][8876][CRITICAL] module disabled: C:\\Users\\ma7mo\\Desktop\\synthetic_time_series\\src\\./synthcity/src\\synthcity\\plugins\\generic\\plugin_goggle.py\n",
      "[2023-09-05T13:12:43.257875-0400][8876][CRITICAL] module disabled: C:\\Users\\ma7mo\\Desktop\\synthetic_time_series\\src\\./synthcity/src\\synthcity\\plugins\\generic\\plugin_goggle.py\n",
      "[2023-09-05T13:12:43.258876-0400][8876][CRITICAL] load failed: module 'synthcity.plugins.generic.plugin_great' has no attribute 'plugin'\n",
      "[2023-09-05T13:12:43.258876-0400][8876][CRITICAL] load failed: module 'synthcity.plugins.generic.plugin_great' has no attribute 'plugin'\n",
      "[2023-09-05T13:12:43.259876-0400][8876][CRITICAL] load failed: module 'synthcity.plugins.generic.plugin_great' has no attribute 'plugin'\n",
      "[2023-09-05T13:12:43.259876-0400][8876][CRITICAL] load failed: module 'synthcity.plugins.generic.plugin_great' has no attribute 'plugin'\n",
      "[2023-09-05T13:12:43.259876-0400][8876][CRITICAL] module plugin_great load failed\n",
      "[2023-09-05T13:12:43.259876-0400][8876][CRITICAL] module plugin_great load failed\n"
     ]
    }
   ],
   "source": [
    "syn_model_with_dp_eps20 = Plugins().get(\"timegan\", mode=\"DPRNN\", dp_enabled=True, n_iter=300, epsilon=20., delta = delta)"
   ]
  },
  {
   "cell_type": "code",
   "execution_count": 17,
   "id": "b3285d5b-c23c-4340-87a6-903e4375ef9b",
   "metadata": {
    "tags": []
   },
   "outputs": [
    {
     "name": "stderr",
     "output_type": "stream",
     "text": [
      "100%|██████████████████████████████████████████████████████████████████████████████| 1000/1000 [07:14<00:00,  2.30it/s]\n"
     ]
    },
    {
     "data": {
      "text/plain": [
       "<synthcity.plugins.time_series.plugin_timegan.TimeGANPlugin at 0x24ad0327520>"
      ]
     },
     "execution_count": 17,
     "metadata": {},
     "output_type": "execute_result"
    }
   ],
   "source": [
    "syn_model_without_dp.fit(data)"
   ]
  },
  {
   "cell_type": "code",
   "execution_count": 18,
   "id": "982abc55-9ab7-4922-8e61-e14b0b6bceb1",
   "metadata": {
    "tags": []
   },
   "outputs": [
    {
     "name": "stdout",
     "output_type": "stream",
     "text": [
      "Enabling DP Privacy Engine: epsilon= 1.0 delta= 0.00032182238498800495 max_grad_norm= 2.0 secure_mode= False\n"
     ]
    },
    {
     "name": "stderr",
     "output_type": "stream",
     "text": [
      "100%|████████████████████████████████████████████████████████████████████████████████| 300/300 [31:34<00:00,  6.32s/it]\n"
     ]
    },
    {
     "data": {
      "text/plain": [
       "<synthcity.plugins.time_series.plugin_timegan.TimeGANPlugin at 0x24ad0326c80>"
      ]
     },
     "execution_count": 18,
     "metadata": {},
     "output_type": "execute_result"
    }
   ],
   "source": [
    "syn_model_with_dp_eps1.fit(data)"
   ]
  },
  {
   "cell_type": "code",
   "execution_count": 19,
   "id": "310207ad-75ce-4dde-ab95-4edf2fbe86c8",
   "metadata": {
    "tags": []
   },
   "outputs": [
    {
     "name": "stdout",
     "output_type": "stream",
     "text": [
      "Enabling DP Privacy Engine: epsilon= 5.0 delta= 0.00032182238498800495 max_grad_norm= 2.0 secure_mode= False\n"
     ]
    },
    {
     "name": "stderr",
     "output_type": "stream",
     "text": [
      "100%|██████████████████████████████████████████████████████████████████████████████| 300/300 [1:29:26<00:00, 17.89s/it]\n"
     ]
    },
    {
     "data": {
      "text/plain": [
       "<synthcity.plugins.time_series.plugin_timegan.TimeGANPlugin at 0x24ad0326dd0>"
      ]
     },
     "execution_count": 19,
     "metadata": {},
     "output_type": "execute_result"
    }
   ],
   "source": [
    "syn_model_with_dp_eps5.fit(data)"
   ]
  },
  {
   "cell_type": "code",
   "execution_count": 20,
   "id": "0c5e7e38-095f-4d1a-8590-f31bd2a1a1cc",
   "metadata": {
    "tags": []
   },
   "outputs": [
    {
     "name": "stdout",
     "output_type": "stream",
     "text": [
      "Enabling DP Privacy Engine: epsilon= 20.0 delta= 0.00032182238498800495 max_grad_norm= 2.0 secure_mode= False\n"
     ]
    },
    {
     "name": "stderr",
     "output_type": "stream",
     "text": [
      "100%|██████████████████████████████████████████████████████████████████████████████| 300/300 [2:38:53<00:00, 31.78s/it]\n"
     ]
    },
    {
     "data": {
      "text/plain": [
       "<synthcity.plugins.time_series.plugin_timegan.TimeGANPlugin at 0x24aff925570>"
      ]
     },
     "execution_count": 20,
     "metadata": {},
     "output_type": "execute_result"
    }
   ],
   "source": [
    "syn_model_with_dp_eps20.fit(data)"
   ]
  },
  {
   "cell_type": "code",
   "execution_count": 21,
   "id": "94bcd526-04ff-4dee-bced-d98b9fd19b42",
   "metadata": {
    "tags": []
   },
   "outputs": [],
   "source": [
    "synth_data_without_dp = syn_model_without_dp.generate(count=len(data)/10)"
   ]
  },
  {
   "cell_type": "code",
   "execution_count": 22,
   "id": "49fa174f-66d8-49ee-8bca-c2b54f3fb020",
   "metadata": {
    "tags": []
   },
   "outputs": [],
   "source": [
    "synth_data_with_dp = syn_model_with_dp_eps1.generate(count=len(data)/10)"
   ]
  },
  {
   "cell_type": "code",
   "execution_count": 23,
   "id": "3a8423e0-4051-482d-a620-121a6e440905",
   "metadata": {
    "tags": []
   },
   "outputs": [],
   "source": [
    "synth_data_with_dp_eps5 = syn_model_with_dp_eps5.generate(count=len(data)/10)"
   ]
  },
  {
   "cell_type": "code",
   "execution_count": 24,
   "id": "91d761f0-437b-43c6-a248-ce8285cbd7d7",
   "metadata": {
    "tags": []
   },
   "outputs": [],
   "source": [
    "synth_data_with_dp_eps20 = syn_model_with_dp_eps20.generate(count=len(data)/10)"
   ]
  },
  {
   "cell_type": "code",
   "execution_count": 25,
   "id": "6a84a505-3068-4d82-aed8-011ae5b6f58d",
   "metadata": {
    "tags": []
   },
   "outputs": [],
   "source": [
    "def create_sequence(dataset, seq_len):\n",
    "    sequences = []\n",
    "    labels = []\n",
    "\n",
    "\n",
    "    for index in range(0, len(dataset)//seq_len): # Selecting 50 rows at a time\n",
    "        sequences.append(dataset.iloc[index*seq_len:(index+1)*seq_len-1])\n",
    "        labels.append(dataset.iloc[(index+1)*seq_len-1][2])\n",
    "    return (np.array(sequences),np.array(labels))"
   ]
  },
  {
   "cell_type": "code",
   "execution_count": 26,
   "id": "744b087d-b32a-4a0b-9209-ec887832fdc3",
   "metadata": {
    "tags": []
   },
   "outputs": [],
   "source": [
    "def create_sequence_np(dataset, seq_len):\n",
    "    sequences = []\n",
    "    labels = []\n",
    "    for index in range(0, len(dataset)): # Selecting 50 rows at a time\n",
    "        sequences.append(dataset[index][:-1])\n",
    "        labels.append(dataset[index][-1][2])\n",
    "    return (np.array(sequences),np.array(labels))"
   ]
  },
  {
   "cell_type": "code",
   "execution_count": 65,
   "id": "b52b35ec-5016-42b1-966e-5b8a1b8618f2",
   "metadata": {
    "tags": []
   },
   "outputs": [],
   "source": [
    "class Network(nn.Module):\n",
    "    def __init__(self, dropout,\n",
    "                 input_dim=8, num_classes = 1, hidden_size = 10, **kwargs):\n",
    "\n",
    "        super(Network, self).__init__()\n",
    "\n",
    "        print(\"==> not used params in network class:\", kwargs.keys())\n",
    "\n",
    "        self.input_dim = input_dim\n",
    "        self.dropout = dropout\n",
    "        self.hidden_size = hidden_size\n",
    "\n",
    "\n",
    "        # Main part of the network\n",
    "        self.lstm_layers = nn.ModuleList()\n",
    "        self.lstm_layers.append(nn.LSTM(input_size=input_dim,hidden_size=self.hidden_size))\n",
    "        self.lstm_layers.append(nn.Dropout(p=dropout))\n",
    "        # self.lstm_layers.append(nn.LSTM(input_size=self.hidden_size,\n",
    "        #                    hidden_size=self.hidden_size))\n",
    "        # self.lstm_layers.append(nn.Dropout(p=dropout))\n",
    "        # self.lstm_layers.append(nn.LSTM(input_size=self.hidden_size,\n",
    "        #                    hidden_size=self.hidden_size))\n",
    "        # self.lstm_layers.append(nn.Dropout(p=dropout))\n",
    "        # Output layer\n",
    "        self.output_layer = nn.Linear(self.hidden_size, num_classes)\n",
    "        # self.output_activation = nn.Sigmoid()\n",
    "\n",
    "    def forward(self, X, lengths=None):\n",
    "        # Input layer\n",
    "        X = X.to(torch.float32)\n",
    "        mX = X\n",
    "        # Main part of the network\n",
    "        i = 0\n",
    "        for lstm in self.lstm_layers:\n",
    "            if i % 2 == 0:\n",
    "                output, _ = lstm(mX)\n",
    "            else:\n",
    "                output = lstm(mX)\n",
    "            mX = output\n",
    "            i += 1\n",
    "        L = output[:, -1, :]\n",
    "        # Output layer\n",
    "        y = self.output_layer(L)\n",
    "        return y\n"
   ]
  },
  {
   "cell_type": "code",
   "execution_count": 66,
   "id": "a0f448a0-040b-4bf6-9db4-2ef345388c33",
   "metadata": {
    "tags": []
   },
   "outputs": [],
   "source": [
    "def run_model(model, training_error, testing_error, X_train, y_train, X_test, y_test):\n",
    "    loss = nn.MSELoss()\n",
    "    train_loader = DataLoader(list(zip(X_train, y_train)), batch_size=1)\n",
    "    val_loader = DataLoader(list(zip(X_test, y_test)), batch_size=1, shuffle=True)\n",
    "    optimizer = optim.Adam(model.parameters(), lr=0.001, betas=(0.9, 0.999))\n",
    "    for epoch in range(0, 100):\n",
    "        model.train()\n",
    "        step_loss = []\n",
    "        for i, batch in enumerate(train_loader):\n",
    "            optimizer.zero_grad()\n",
    "            inputs, targets = batch\n",
    "            outputs = model(inputs)\n",
    "            targets = targets.reshape(tuple(outputs.shape))\n",
    "            targets = targets.to(torch.float32)\n",
    "            batch_loss = loss(outputs, targets)\n",
    "            batch_loss.backward()\n",
    "            optimizer.step()\n",
    "            step_loss.append(batch_loss.item())\n",
    "        training_error.append(np.array(step_loss).mean())\n",
    "        model.eval()\n",
    "        val_loss = 0\n",
    "        with torch.no_grad():\n",
    "            num_batches = 0\n",
    "            res = {}\n",
    "            y_true = []\n",
    "            predictions = []\n",
    "            for batch in val_loader:\n",
    "                inputs, targets = batch\n",
    "                outputs = model(inputs)\n",
    "                targets = targets.reshape(tuple(outputs.shape))\n",
    "                targets = targets.to(torch.float32)\n",
    "                batch_loss = loss(outputs, targets)\n",
    "                val_loss += batch_loss.item()\n",
    "                num_batches += 1\n",
    "            val_loss /= num_batches\n",
    "            print('Epoch [{}/{}], Step [{}/{}], Validation Batch Loss: {:.4f}'\n",
    "                    .format(epoch + 1, 100, i + 1, len(train_loader), val_loss))\n",
    "        testing_error.append(val_loss)"
   ]
  },
  {
   "cell_type": "code",
   "execution_count": 46,
   "id": "1689f004-4ea7-4c5e-a199-12f8712f4b3e",
   "metadata": {
    "tags": []
   },
   "outputs": [],
   "source": [
    "random_data = np.random.rand(40, 10, 8)"
   ]
  },
  {
   "cell_type": "code",
   "execution_count": 47,
   "id": "40f7f6b7-aa93-49f3-a23a-51f77ed88b2a",
   "metadata": {
    "tags": []
   },
   "outputs": [],
   "source": [
    "X, y = create_sequence(data.dataframe(), 10)"
   ]
  },
  {
   "cell_type": "code",
   "execution_count": 48,
   "id": "0bf6be23-8db5-4cbd-a242-cc6aae852f8c",
   "metadata": {
    "tags": []
   },
   "outputs": [],
   "source": [
    "synth_no_dp_X, synth_no_dp_y = create_sequence(synth_data_without_dp.dataframe(), 10)"
   ]
  },
  {
   "cell_type": "code",
   "execution_count": 49,
   "id": "251aa4cf-1d71-4c12-9276-abc88148c442",
   "metadata": {
    "tags": []
   },
   "outputs": [],
   "source": [
    "synth_dp_X, synth_dp_y = create_sequence(synth_data_with_dp.dataframe(), 10)"
   ]
  },
  {
   "cell_type": "code",
   "execution_count": 50,
   "id": "de83343b-9cd7-48c8-a8ec-8dca5ce9d4f9",
   "metadata": {
    "tags": []
   },
   "outputs": [],
   "source": [
    "synth_dp_eps5_X, synth_dp_eps5_y = create_sequence(synth_data_with_dp_eps5.dataframe(), 10)"
   ]
  },
  {
   "cell_type": "code",
   "execution_count": 51,
   "id": "8e75c3a6-0021-40bb-a843-16b06fad18c9",
   "metadata": {
    "tags": []
   },
   "outputs": [],
   "source": [
    "synth_dp_eps20_X, synth_dp_eps20_y = create_sequence(synth_data_with_dp_eps20.dataframe(), 10)"
   ]
  },
  {
   "cell_type": "code",
   "execution_count": 52,
   "id": "3005c959-b73d-43fd-9d0b-6e5b80658b83",
   "metadata": {
    "tags": []
   },
   "outputs": [],
   "source": [
    "random_X, random_y = create_sequence_np(random_data, 10)"
   ]
  },
  {
   "cell_type": "code",
   "execution_count": 53,
   "id": "a86fc7e1-2284-4f09-904c-c7cb35f52f64",
   "metadata": {
    "tags": []
   },
   "outputs": [],
   "source": [
    "X_train, X_test, y_train, y_test = train_test_split(X, y, test_size=0.33, random_state=42)"
   ]
  },
  {
   "cell_type": "code",
   "execution_count": 67,
   "id": "8c52fa08-e81e-4102-b319-4b0b286e555c",
   "metadata": {
    "tags": []
   },
   "outputs": [
    {
     "name": "stdout",
     "output_type": "stream",
     "text": [
      "==> not used params in network class: dict_keys([])\n",
      "Epoch [1/100], Step [33/33], Validation Batch Loss: 0.1573\n",
      "Epoch [2/100], Step [33/33], Validation Batch Loss: 0.0753\n",
      "Epoch [3/100], Step [33/33], Validation Batch Loss: 0.0459\n",
      "Epoch [4/100], Step [33/33], Validation Batch Loss: 0.0334\n",
      "Epoch [5/100], Step [33/33], Validation Batch Loss: 0.0285\n",
      "Epoch [6/100], Step [33/33], Validation Batch Loss: 0.0270\n",
      "Epoch [7/100], Step [33/33], Validation Batch Loss: 0.0265\n",
      "Epoch [8/100], Step [33/33], Validation Batch Loss: 0.0264\n",
      "Epoch [9/100], Step [33/33], Validation Batch Loss: 0.0251\n",
      "Epoch [10/100], Step [33/33], Validation Batch Loss: 0.0249\n",
      "Epoch [11/100], Step [33/33], Validation Batch Loss: 0.0249\n",
      "Epoch [12/100], Step [33/33], Validation Batch Loss: 0.0252\n",
      "Epoch [13/100], Step [33/33], Validation Batch Loss: 0.0260\n",
      "Epoch [14/100], Step [33/33], Validation Batch Loss: 0.0254\n",
      "Epoch [15/100], Step [33/33], Validation Batch Loss: 0.0257\n",
      "Epoch [16/100], Step [33/33], Validation Batch Loss: 0.0257\n",
      "Epoch [17/100], Step [33/33], Validation Batch Loss: 0.0244\n",
      "Epoch [18/100], Step [33/33], Validation Batch Loss: 0.0256\n",
      "Epoch [19/100], Step [33/33], Validation Batch Loss: 0.0222\n",
      "Epoch [20/100], Step [33/33], Validation Batch Loss: 0.0207\n",
      "Epoch [21/100], Step [33/33], Validation Batch Loss: 0.0207\n",
      "Epoch [22/100], Step [33/33], Validation Batch Loss: 0.0186\n",
      "Epoch [23/100], Step [33/33], Validation Batch Loss: 0.0167\n",
      "Epoch [24/100], Step [33/33], Validation Batch Loss: 0.0179\n",
      "Epoch [25/100], Step [33/33], Validation Batch Loss: 0.0162\n",
      "Epoch [26/100], Step [33/33], Validation Batch Loss: 0.0153\n",
      "Epoch [27/100], Step [33/33], Validation Batch Loss: 0.0139\n",
      "Epoch [28/100], Step [33/33], Validation Batch Loss: 0.0111\n",
      "Epoch [29/100], Step [33/33], Validation Batch Loss: 0.0106\n",
      "Epoch [30/100], Step [33/33], Validation Batch Loss: 0.0097\n",
      "Epoch [31/100], Step [33/33], Validation Batch Loss: 0.0106\n",
      "Epoch [32/100], Step [33/33], Validation Batch Loss: 0.0081\n",
      "Epoch [33/100], Step [33/33], Validation Batch Loss: 0.0075\n",
      "Epoch [34/100], Step [33/33], Validation Batch Loss: 0.0066\n",
      "Epoch [35/100], Step [33/33], Validation Batch Loss: 0.0060\n",
      "Epoch [36/100], Step [33/33], Validation Batch Loss: 0.0074\n",
      "Epoch [37/100], Step [33/33], Validation Batch Loss: 0.0053\n",
      "Epoch [38/100], Step [33/33], Validation Batch Loss: 0.0051\n",
      "Epoch [39/100], Step [33/33], Validation Batch Loss: 0.0089\n",
      "Epoch [40/100], Step [33/33], Validation Batch Loss: 0.0071\n",
      "Epoch [41/100], Step [33/33], Validation Batch Loss: 0.0058\n",
      "Epoch [42/100], Step [33/33], Validation Batch Loss: 0.0046\n",
      "Epoch [43/100], Step [33/33], Validation Batch Loss: 0.0038\n",
      "Epoch [44/100], Step [33/33], Validation Batch Loss: 0.0036\n",
      "Epoch [45/100], Step [33/33], Validation Batch Loss: 0.0039\n",
      "Epoch [46/100], Step [33/33], Validation Batch Loss: 0.0042\n",
      "Epoch [47/100], Step [33/33], Validation Batch Loss: 0.0034\n",
      "Epoch [48/100], Step [33/33], Validation Batch Loss: 0.0039\n",
      "Epoch [49/100], Step [33/33], Validation Batch Loss: 0.0037\n",
      "Epoch [50/100], Step [33/33], Validation Batch Loss: 0.0026\n",
      "Epoch [51/100], Step [33/33], Validation Batch Loss: 0.0031\n",
      "Epoch [52/100], Step [33/33], Validation Batch Loss: 0.0029\n",
      "Epoch [53/100], Step [33/33], Validation Batch Loss: 0.0026\n",
      "Epoch [54/100], Step [33/33], Validation Batch Loss: 0.0032\n",
      "Epoch [55/100], Step [33/33], Validation Batch Loss: 0.0033\n",
      "Epoch [56/100], Step [33/33], Validation Batch Loss: 0.0047\n",
      "Epoch [57/100], Step [33/33], Validation Batch Loss: 0.0026\n",
      "Epoch [58/100], Step [33/33], Validation Batch Loss: 0.0026\n",
      "Epoch [59/100], Step [33/33], Validation Batch Loss: 0.0039\n",
      "Epoch [60/100], Step [33/33], Validation Batch Loss: 0.0035\n",
      "Epoch [61/100], Step [33/33], Validation Batch Loss: 0.0034\n",
      "Epoch [62/100], Step [33/33], Validation Batch Loss: 0.0028\n",
      "Epoch [63/100], Step [33/33], Validation Batch Loss: 0.0040\n",
      "Epoch [64/100], Step [33/33], Validation Batch Loss: 0.0023\n",
      "Epoch [65/100], Step [33/33], Validation Batch Loss: 0.0025\n",
      "Epoch [66/100], Step [33/33], Validation Batch Loss: 0.0030\n",
      "Epoch [67/100], Step [33/33], Validation Batch Loss: 0.0023\n",
      "Epoch [68/100], Step [33/33], Validation Batch Loss: 0.0033\n",
      "Epoch [69/100], Step [33/33], Validation Batch Loss: 0.0040\n",
      "Epoch [70/100], Step [33/33], Validation Batch Loss: 0.0029\n",
      "Epoch [71/100], Step [33/33], Validation Batch Loss: 0.0039\n",
      "Epoch [72/100], Step [33/33], Validation Batch Loss: 0.0026\n",
      "Epoch [73/100], Step [33/33], Validation Batch Loss: 0.0026\n",
      "Epoch [74/100], Step [33/33], Validation Batch Loss: 0.0021\n",
      "Epoch [75/100], Step [33/33], Validation Batch Loss: 0.0017\n",
      "Epoch [76/100], Step [33/33], Validation Batch Loss: 0.0023\n",
      "Epoch [77/100], Step [33/33], Validation Batch Loss: 0.0026\n",
      "Epoch [78/100], Step [33/33], Validation Batch Loss: 0.0028\n",
      "Epoch [79/100], Step [33/33], Validation Batch Loss: 0.0029\n",
      "Epoch [80/100], Step [33/33], Validation Batch Loss: 0.0026\n",
      "Epoch [81/100], Step [33/33], Validation Batch Loss: 0.0066\n",
      "Epoch [82/100], Step [33/33], Validation Batch Loss: 0.0022\n",
      "Epoch [83/100], Step [33/33], Validation Batch Loss: 0.0021\n",
      "Epoch [84/100], Step [33/33], Validation Batch Loss: 0.0023\n",
      "Epoch [85/100], Step [33/33], Validation Batch Loss: 0.0021\n",
      "Epoch [86/100], Step [33/33], Validation Batch Loss: 0.0024\n",
      "Epoch [87/100], Step [33/33], Validation Batch Loss: 0.0033\n",
      "Epoch [88/100], Step [33/33], Validation Batch Loss: 0.0033\n",
      "Epoch [89/100], Step [33/33], Validation Batch Loss: 0.0030\n",
      "Epoch [90/100], Step [33/33], Validation Batch Loss: 0.0016\n",
      "Epoch [91/100], Step [33/33], Validation Batch Loss: 0.0018\n",
      "Epoch [92/100], Step [33/33], Validation Batch Loss: 0.0018\n",
      "Epoch [93/100], Step [33/33], Validation Batch Loss: 0.0020\n",
      "Epoch [94/100], Step [33/33], Validation Batch Loss: 0.0022\n",
      "Epoch [95/100], Step [33/33], Validation Batch Loss: 0.0021\n",
      "Epoch [96/100], Step [33/33], Validation Batch Loss: 0.0021\n",
      "Epoch [97/100], Step [33/33], Validation Batch Loss: 0.0022\n",
      "Epoch [98/100], Step [33/33], Validation Batch Loss: 0.0028\n",
      "Epoch [99/100], Step [33/33], Validation Batch Loss: 0.0026\n",
      "Epoch [100/100], Step [33/33], Validation Batch Loss: 0.0022\n"
     ]
    }
   ],
   "source": [
    "model = Network(0.2)\n",
    "trainingEpoch_loss = []\n",
    "validationEpoch_loss = []\n",
    "run_model(model, trainingEpoch_loss, validationEpoch_loss, X_train, y_train, X_test, y_test)"
   ]
  },
  {
   "cell_type": "code",
   "execution_count": 68,
   "id": "c06d224f-30eb-419c-a29b-148e33d09147",
   "metadata": {
    "tags": []
   },
   "outputs": [
    {
     "name": "stdout",
     "output_type": "stream",
     "text": [
      "==> not used params in network class: dict_keys([])\n",
      "Epoch [1/100], Step [50/50], Validation Batch Loss: 0.1185\n",
      "Epoch [2/100], Step [50/50], Validation Batch Loss: 0.0502\n",
      "Epoch [3/100], Step [50/50], Validation Batch Loss: 0.0359\n",
      "Epoch [4/100], Step [50/50], Validation Batch Loss: 0.0334\n",
      "Epoch [5/100], Step [50/50], Validation Batch Loss: 0.0335\n",
      "Epoch [6/100], Step [50/50], Validation Batch Loss: 0.0333\n",
      "Epoch [7/100], Step [50/50], Validation Batch Loss: 0.0338\n",
      "Epoch [8/100], Step [50/50], Validation Batch Loss: 0.0336\n",
      "Epoch [9/100], Step [50/50], Validation Batch Loss: 0.0334\n",
      "Epoch [10/100], Step [50/50], Validation Batch Loss: 0.0340\n",
      "Epoch [11/100], Step [50/50], Validation Batch Loss: 0.0328\n",
      "Epoch [12/100], Step [50/50], Validation Batch Loss: 0.0312\n",
      "Epoch [13/100], Step [50/50], Validation Batch Loss: 0.0312\n",
      "Epoch [14/100], Step [50/50], Validation Batch Loss: 0.0299\n",
      "Epoch [15/100], Step [50/50], Validation Batch Loss: 0.0284\n",
      "Epoch [16/100], Step [50/50], Validation Batch Loss: 0.0261\n",
      "Epoch [17/100], Step [50/50], Validation Batch Loss: 0.0245\n",
      "Epoch [18/100], Step [50/50], Validation Batch Loss: 0.0232\n",
      "Epoch [19/100], Step [50/50], Validation Batch Loss: 0.0237\n",
      "Epoch [20/100], Step [50/50], Validation Batch Loss: 0.0210\n",
      "Epoch [21/100], Step [50/50], Validation Batch Loss: 0.0205\n",
      "Epoch [22/100], Step [50/50], Validation Batch Loss: 0.0199\n",
      "Epoch [23/100], Step [50/50], Validation Batch Loss: 0.0203\n",
      "Epoch [24/100], Step [50/50], Validation Batch Loss: 0.0196\n",
      "Epoch [25/100], Step [50/50], Validation Batch Loss: 0.0192\n",
      "Epoch [26/100], Step [50/50], Validation Batch Loss: 0.0152\n",
      "Epoch [27/100], Step [50/50], Validation Batch Loss: 0.0127\n",
      "Epoch [28/100], Step [50/50], Validation Batch Loss: 0.0110\n",
      "Epoch [29/100], Step [50/50], Validation Batch Loss: 0.0089\n",
      "Epoch [30/100], Step [50/50], Validation Batch Loss: 0.0094\n",
      "Epoch [31/100], Step [50/50], Validation Batch Loss: 0.0080\n",
      "Epoch [32/100], Step [50/50], Validation Batch Loss: 0.0069\n",
      "Epoch [33/100], Step [50/50], Validation Batch Loss: 0.0060\n",
      "Epoch [34/100], Step [50/50], Validation Batch Loss: 0.0065\n",
      "Epoch [35/100], Step [50/50], Validation Batch Loss: 0.0059\n",
      "Epoch [36/100], Step [50/50], Validation Batch Loss: 0.0067\n",
      "Epoch [37/100], Step [50/50], Validation Batch Loss: 0.0068\n",
      "Epoch [38/100], Step [50/50], Validation Batch Loss: 0.0070\n",
      "Epoch [39/100], Step [50/50], Validation Batch Loss: 0.0066\n",
      "Epoch [40/100], Step [50/50], Validation Batch Loss: 0.0042\n",
      "Epoch [41/100], Step [50/50], Validation Batch Loss: 0.0054\n",
      "Epoch [42/100], Step [50/50], Validation Batch Loss: 0.0056\n",
      "Epoch [43/100], Step [50/50], Validation Batch Loss: 0.0057\n",
      "Epoch [44/100], Step [50/50], Validation Batch Loss: 0.0048\n",
      "Epoch [45/100], Step [50/50], Validation Batch Loss: 0.0055\n",
      "Epoch [46/100], Step [50/50], Validation Batch Loss: 0.0046\n",
      "Epoch [47/100], Step [50/50], Validation Batch Loss: 0.0072\n",
      "Epoch [48/100], Step [50/50], Validation Batch Loss: 0.0071\n",
      "Epoch [49/100], Step [50/50], Validation Batch Loss: 0.0046\n",
      "Epoch [50/100], Step [50/50], Validation Batch Loss: 0.0063\n",
      "Epoch [51/100], Step [50/50], Validation Batch Loss: 0.0055\n",
      "Epoch [52/100], Step [50/50], Validation Batch Loss: 0.0074\n",
      "Epoch [53/100], Step [50/50], Validation Batch Loss: 0.0051\n",
      "Epoch [54/100], Step [50/50], Validation Batch Loss: 0.0058\n",
      "Epoch [55/100], Step [50/50], Validation Batch Loss: 0.0042\n",
      "Epoch [56/100], Step [50/50], Validation Batch Loss: 0.0059\n",
      "Epoch [57/100], Step [50/50], Validation Batch Loss: 0.0058\n",
      "Epoch [58/100], Step [50/50], Validation Batch Loss: 0.0081\n",
      "Epoch [59/100], Step [50/50], Validation Batch Loss: 0.0089\n",
      "Epoch [60/100], Step [50/50], Validation Batch Loss: 0.0041\n",
      "Epoch [61/100], Step [50/50], Validation Batch Loss: 0.0091\n",
      "Epoch [62/100], Step [50/50], Validation Batch Loss: 0.0059\n",
      "Epoch [63/100], Step [50/50], Validation Batch Loss: 0.0054\n",
      "Epoch [64/100], Step [50/50], Validation Batch Loss: 0.0064\n",
      "Epoch [65/100], Step [50/50], Validation Batch Loss: 0.0067\n",
      "Epoch [66/100], Step [50/50], Validation Batch Loss: 0.0077\n",
      "Epoch [67/100], Step [50/50], Validation Batch Loss: 0.0108\n",
      "Epoch [68/100], Step [50/50], Validation Batch Loss: 0.0037\n",
      "Epoch [69/100], Step [50/50], Validation Batch Loss: 0.0107\n",
      "Epoch [70/100], Step [50/50], Validation Batch Loss: 0.0104\n",
      "Epoch [71/100], Step [50/50], Validation Batch Loss: 0.0057\n",
      "Epoch [72/100], Step [50/50], Validation Batch Loss: 0.0064\n",
      "Epoch [73/100], Step [50/50], Validation Batch Loss: 0.0088\n",
      "Epoch [74/100], Step [50/50], Validation Batch Loss: 0.0053\n",
      "Epoch [75/100], Step [50/50], Validation Batch Loss: 0.0111\n",
      "Epoch [76/100], Step [50/50], Validation Batch Loss: 0.0047\n",
      "Epoch [77/100], Step [50/50], Validation Batch Loss: 0.0090\n",
      "Epoch [78/100], Step [50/50], Validation Batch Loss: 0.0070\n",
      "Epoch [79/100], Step [50/50], Validation Batch Loss: 0.0060\n",
      "Epoch [80/100], Step [50/50], Validation Batch Loss: 0.0103\n",
      "Epoch [81/100], Step [50/50], Validation Batch Loss: 0.0064\n",
      "Epoch [82/100], Step [50/50], Validation Batch Loss: 0.0065\n",
      "Epoch [83/100], Step [50/50], Validation Batch Loss: 0.0064\n",
      "Epoch [84/100], Step [50/50], Validation Batch Loss: 0.0104\n",
      "Epoch [85/100], Step [50/50], Validation Batch Loss: 0.0084\n",
      "Epoch [86/100], Step [50/50], Validation Batch Loss: 0.0071\n",
      "Epoch [87/100], Step [50/50], Validation Batch Loss: 0.0079\n",
      "Epoch [88/100], Step [50/50], Validation Batch Loss: 0.0043\n",
      "Epoch [89/100], Step [50/50], Validation Batch Loss: 0.0116\n",
      "Epoch [90/100], Step [50/50], Validation Batch Loss: 0.0075\n",
      "Epoch [91/100], Step [50/50], Validation Batch Loss: 0.0091\n",
      "Epoch [92/100], Step [50/50], Validation Batch Loss: 0.0094\n",
      "Epoch [93/100], Step [50/50], Validation Batch Loss: 0.0067\n",
      "Epoch [94/100], Step [50/50], Validation Batch Loss: 0.0080\n",
      "Epoch [95/100], Step [50/50], Validation Batch Loss: 0.0067\n",
      "Epoch [96/100], Step [50/50], Validation Batch Loss: 0.0097\n",
      "Epoch [97/100], Step [50/50], Validation Batch Loss: 0.0061\n",
      "Epoch [98/100], Step [50/50], Validation Batch Loss: 0.0073\n",
      "Epoch [99/100], Step [50/50], Validation Batch Loss: 0.0069\n",
      "Epoch [100/100], Step [50/50], Validation Batch Loss: 0.0047\n"
     ]
    }
   ],
   "source": [
    "synth_no_dp_model = Network(0.2)\n",
    "trainingEpoch_no_dp_loss = []\n",
    "validationEpoch_no_dp_loss = []\n",
    "run_model(synth_no_dp_model, trainingEpoch_no_dp_loss, validationEpoch_no_dp_loss, synth_no_dp_X, synth_no_dp_y, X_test, y_test)"
   ]
  },
  {
   "cell_type": "code",
   "execution_count": 69,
   "id": "880a0bd9-6370-4df2-ae00-ace9467e644a",
   "metadata": {},
   "outputs": [
    {
     "name": "stdout",
     "output_type": "stream",
     "text": [
      "==> not used params in network class: dict_keys([])\n",
      "Epoch [1/100], Step [50/50], Validation Batch Loss: 0.0635\n",
      "Epoch [2/100], Step [50/50], Validation Batch Loss: 0.0329\n",
      "Epoch [3/100], Step [50/50], Validation Batch Loss: 0.0332\n",
      "Epoch [4/100], Step [50/50], Validation Batch Loss: 0.0345\n",
      "Epoch [5/100], Step [50/50], Validation Batch Loss: 0.0367\n",
      "Epoch [6/100], Step [50/50], Validation Batch Loss: 0.0347\n",
      "Epoch [7/100], Step [50/50], Validation Batch Loss: 0.0345\n",
      "Epoch [8/100], Step [50/50], Validation Batch Loss: 0.0357\n",
      "Epoch [9/100], Step [50/50], Validation Batch Loss: 0.0365\n",
      "Epoch [10/100], Step [50/50], Validation Batch Loss: 0.0363\n",
      "Epoch [11/100], Step [50/50], Validation Batch Loss: 0.0376\n",
      "Epoch [12/100], Step [50/50], Validation Batch Loss: 0.0358\n",
      "Epoch [13/100], Step [50/50], Validation Batch Loss: 0.0353\n",
      "Epoch [14/100], Step [50/50], Validation Batch Loss: 0.0362\n",
      "Epoch [15/100], Step [50/50], Validation Batch Loss: 0.0358\n",
      "Epoch [16/100], Step [50/50], Validation Batch Loss: 0.0341\n",
      "Epoch [17/100], Step [50/50], Validation Batch Loss: 0.0352\n",
      "Epoch [18/100], Step [50/50], Validation Batch Loss: 0.0357\n",
      "Epoch [19/100], Step [50/50], Validation Batch Loss: 0.0360\n",
      "Epoch [20/100], Step [50/50], Validation Batch Loss: 0.0355\n",
      "Epoch [21/100], Step [50/50], Validation Batch Loss: 0.0361\n",
      "Epoch [22/100], Step [50/50], Validation Batch Loss: 0.0344\n",
      "Epoch [23/100], Step [50/50], Validation Batch Loss: 0.0350\n",
      "Epoch [24/100], Step [50/50], Validation Batch Loss: 0.0349\n",
      "Epoch [25/100], Step [50/50], Validation Batch Loss: 0.0348\n",
      "Epoch [26/100], Step [50/50], Validation Batch Loss: 0.0354\n",
      "Epoch [27/100], Step [50/50], Validation Batch Loss: 0.0356\n",
      "Epoch [28/100], Step [50/50], Validation Batch Loss: 0.0364\n",
      "Epoch [29/100], Step [50/50], Validation Batch Loss: 0.0349\n",
      "Epoch [30/100], Step [50/50], Validation Batch Loss: 0.0352\n",
      "Epoch [31/100], Step [50/50], Validation Batch Loss: 0.0361\n",
      "Epoch [32/100], Step [50/50], Validation Batch Loss: 0.0358\n",
      "Epoch [33/100], Step [50/50], Validation Batch Loss: 0.0363\n",
      "Epoch [34/100], Step [50/50], Validation Batch Loss: 0.0360\n",
      "Epoch [35/100], Step [50/50], Validation Batch Loss: 0.0356\n",
      "Epoch [36/100], Step [50/50], Validation Batch Loss: 0.0369\n",
      "Epoch [37/100], Step [50/50], Validation Batch Loss: 0.0361\n",
      "Epoch [38/100], Step [50/50], Validation Batch Loss: 0.0360\n",
      "Epoch [39/100], Step [50/50], Validation Batch Loss: 0.0365\n",
      "Epoch [40/100], Step [50/50], Validation Batch Loss: 0.0361\n",
      "Epoch [41/100], Step [50/50], Validation Batch Loss: 0.0362\n",
      "Epoch [42/100], Step [50/50], Validation Batch Loss: 0.0360\n",
      "Epoch [43/100], Step [50/50], Validation Batch Loss: 0.0365\n",
      "Epoch [44/100], Step [50/50], Validation Batch Loss: 0.0386\n",
      "Epoch [45/100], Step [50/50], Validation Batch Loss: 0.0378\n",
      "Epoch [46/100], Step [50/50], Validation Batch Loss: 0.0372\n",
      "Epoch [47/100], Step [50/50], Validation Batch Loss: 0.0371\n",
      "Epoch [48/100], Step [50/50], Validation Batch Loss: 0.0369\n",
      "Epoch [49/100], Step [50/50], Validation Batch Loss: 0.0362\n",
      "Epoch [50/100], Step [50/50], Validation Batch Loss: 0.0371\n",
      "Epoch [51/100], Step [50/50], Validation Batch Loss: 0.0378\n",
      "Epoch [52/100], Step [50/50], Validation Batch Loss: 0.0376\n",
      "Epoch [53/100], Step [50/50], Validation Batch Loss: 0.0364\n",
      "Epoch [54/100], Step [50/50], Validation Batch Loss: 0.0382\n",
      "Epoch [55/100], Step [50/50], Validation Batch Loss: 0.0379\n",
      "Epoch [56/100], Step [50/50], Validation Batch Loss: 0.0375\n",
      "Epoch [57/100], Step [50/50], Validation Batch Loss: 0.0375\n",
      "Epoch [58/100], Step [50/50], Validation Batch Loss: 0.0374\n",
      "Epoch [59/100], Step [50/50], Validation Batch Loss: 0.0375\n",
      "Epoch [60/100], Step [50/50], Validation Batch Loss: 0.0376\n",
      "Epoch [61/100], Step [50/50], Validation Batch Loss: 0.0373\n",
      "Epoch [62/100], Step [50/50], Validation Batch Loss: 0.0381\n",
      "Epoch [63/100], Step [50/50], Validation Batch Loss: 0.0379\n",
      "Epoch [64/100], Step [50/50], Validation Batch Loss: 0.0382\n",
      "Epoch [65/100], Step [50/50], Validation Batch Loss: 0.0384\n",
      "Epoch [66/100], Step [50/50], Validation Batch Loss: 0.0383\n",
      "Epoch [67/100], Step [50/50], Validation Batch Loss: 0.0379\n",
      "Epoch [68/100], Step [50/50], Validation Batch Loss: 0.0381\n",
      "Epoch [69/100], Step [50/50], Validation Batch Loss: 0.0375\n",
      "Epoch [70/100], Step [50/50], Validation Batch Loss: 0.0382\n",
      "Epoch [71/100], Step [50/50], Validation Batch Loss: 0.0380\n",
      "Epoch [72/100], Step [50/50], Validation Batch Loss: 0.0384\n",
      "Epoch [73/100], Step [50/50], Validation Batch Loss: 0.0383\n",
      "Epoch [74/100], Step [50/50], Validation Batch Loss: 0.0384\n",
      "Epoch [75/100], Step [50/50], Validation Batch Loss: 0.0380\n",
      "Epoch [76/100], Step [50/50], Validation Batch Loss: 0.0381\n",
      "Epoch [77/100], Step [50/50], Validation Batch Loss: 0.0387\n",
      "Epoch [78/100], Step [50/50], Validation Batch Loss: 0.0385\n",
      "Epoch [79/100], Step [50/50], Validation Batch Loss: 0.0387\n",
      "Epoch [80/100], Step [50/50], Validation Batch Loss: 0.0390\n",
      "Epoch [81/100], Step [50/50], Validation Batch Loss: 0.0391\n",
      "Epoch [82/100], Step [50/50], Validation Batch Loss: 0.0387\n",
      "Epoch [83/100], Step [50/50], Validation Batch Loss: 0.0396\n",
      "Epoch [84/100], Step [50/50], Validation Batch Loss: 0.0391\n",
      "Epoch [85/100], Step [50/50], Validation Batch Loss: 0.0398\n",
      "Epoch [86/100], Step [50/50], Validation Batch Loss: 0.0383\n",
      "Epoch [87/100], Step [50/50], Validation Batch Loss: 0.0384\n",
      "Epoch [88/100], Step [50/50], Validation Batch Loss: 0.0392\n",
      "Epoch [89/100], Step [50/50], Validation Batch Loss: 0.0385\n",
      "Epoch [90/100], Step [50/50], Validation Batch Loss: 0.0398\n",
      "Epoch [91/100], Step [50/50], Validation Batch Loss: 0.0386\n",
      "Epoch [92/100], Step [50/50], Validation Batch Loss: 0.0398\n",
      "Epoch [93/100], Step [50/50], Validation Batch Loss: 0.0392\n",
      "Epoch [94/100], Step [50/50], Validation Batch Loss: 0.0400\n",
      "Epoch [95/100], Step [50/50], Validation Batch Loss: 0.0394\n",
      "Epoch [96/100], Step [50/50], Validation Batch Loss: 0.0392\n",
      "Epoch [97/100], Step [50/50], Validation Batch Loss: 0.0396\n",
      "Epoch [98/100], Step [50/50], Validation Batch Loss: 0.0393\n",
      "Epoch [99/100], Step [50/50], Validation Batch Loss: 0.0402\n",
      "Epoch [100/100], Step [50/50], Validation Batch Loss: 0.0395\n"
     ]
    }
   ],
   "source": [
    "synth_dp_model = Network(0.2)\n",
    "trainingEpoch_dp_loss = []\n",
    "validationEpoch_dp_loss = []\n",
    "run_model(synth_dp_model, trainingEpoch_dp_loss, validationEpoch_dp_loss, synth_dp_X, synth_dp_y, X_test, y_test)"
   ]
  },
  {
   "cell_type": "code",
   "execution_count": 61,
   "id": "d55840bc-eac4-49af-a4cf-f2fc5a4f91a2",
   "metadata": {
    "tags": []
   },
   "outputs": [
    {
     "name": "stdout",
     "output_type": "stream",
     "text": [
      "==> not used params in network class: dict_keys([])\n",
      "Epoch [1/100], Step [50/50], Validation Batch Loss: 0.0396\n",
      "Epoch [2/100], Step [50/50], Validation Batch Loss: 0.0356\n",
      "Epoch [3/100], Step [50/50], Validation Batch Loss: 0.0401\n",
      "Epoch [4/100], Step [50/50], Validation Batch Loss: 0.0403\n",
      "Epoch [5/100], Step [50/50], Validation Batch Loss: 0.0409\n",
      "Epoch [6/100], Step [50/50], Validation Batch Loss: 0.0396\n",
      "Epoch [7/100], Step [50/50], Validation Batch Loss: 0.0396\n",
      "Epoch [8/100], Step [50/50], Validation Batch Loss: 0.0396\n",
      "Epoch [9/100], Step [50/50], Validation Batch Loss: 0.0398\n",
      "Epoch [10/100], Step [50/50], Validation Batch Loss: 0.0401\n",
      "Epoch [11/100], Step [50/50], Validation Batch Loss: 0.0401\n",
      "Epoch [12/100], Step [50/50], Validation Batch Loss: 0.0401\n",
      "Epoch [13/100], Step [50/50], Validation Batch Loss: 0.0405\n",
      "Epoch [14/100], Step [50/50], Validation Batch Loss: 0.0389\n",
      "Epoch [15/100], Step [50/50], Validation Batch Loss: 0.0397\n",
      "Epoch [16/100], Step [50/50], Validation Batch Loss: 0.0399\n",
      "Epoch [17/100], Step [50/50], Validation Batch Loss: 0.0400\n",
      "Epoch [18/100], Step [50/50], Validation Batch Loss: 0.0395\n",
      "Epoch [19/100], Step [50/50], Validation Batch Loss: 0.0392\n",
      "Epoch [20/100], Step [50/50], Validation Batch Loss: 0.0415\n",
      "Epoch [21/100], Step [50/50], Validation Batch Loss: 0.0405\n",
      "Epoch [22/100], Step [50/50], Validation Batch Loss: 0.0408\n",
      "Epoch [23/100], Step [50/50], Validation Batch Loss: 0.0409\n",
      "Epoch [24/100], Step [50/50], Validation Batch Loss: 0.0386\n",
      "Epoch [25/100], Step [50/50], Validation Batch Loss: 0.0394\n",
      "Epoch [26/100], Step [50/50], Validation Batch Loss: 0.0392\n",
      "Epoch [27/100], Step [50/50], Validation Batch Loss: 0.0396\n",
      "Epoch [28/100], Step [50/50], Validation Batch Loss: 0.0394\n",
      "Epoch [29/100], Step [50/50], Validation Batch Loss: 0.0392\n",
      "Epoch [30/100], Step [50/50], Validation Batch Loss: 0.0395\n",
      "Epoch [31/100], Step [50/50], Validation Batch Loss: 0.0402\n",
      "Epoch [32/100], Step [50/50], Validation Batch Loss: 0.0407\n",
      "Epoch [33/100], Step [50/50], Validation Batch Loss: 0.0386\n",
      "Epoch [34/100], Step [50/50], Validation Batch Loss: 0.0394\n",
      "Epoch [35/100], Step [50/50], Validation Batch Loss: 0.0398\n",
      "Epoch [36/100], Step [50/50], Validation Batch Loss: 0.0392\n",
      "Epoch [37/100], Step [50/50], Validation Batch Loss: 0.0383\n",
      "Epoch [38/100], Step [50/50], Validation Batch Loss: 0.0396\n",
      "Epoch [39/100], Step [50/50], Validation Batch Loss: 0.0401\n",
      "Epoch [40/100], Step [50/50], Validation Batch Loss: 0.0394\n",
      "Epoch [41/100], Step [50/50], Validation Batch Loss: 0.0394\n",
      "Epoch [42/100], Step [50/50], Validation Batch Loss: 0.0401\n",
      "Epoch [43/100], Step [50/50], Validation Batch Loss: 0.0395\n",
      "Epoch [44/100], Step [50/50], Validation Batch Loss: 0.0398\n",
      "Epoch [45/100], Step [50/50], Validation Batch Loss: 0.0394\n",
      "Epoch [46/100], Step [50/50], Validation Batch Loss: 0.0391\n",
      "Epoch [47/100], Step [50/50], Validation Batch Loss: 0.0398\n",
      "Epoch [48/100], Step [50/50], Validation Batch Loss: 0.0400\n",
      "Epoch [49/100], Step [50/50], Validation Batch Loss: 0.0390\n",
      "Epoch [50/100], Step [50/50], Validation Batch Loss: 0.0394\n",
      "Epoch [51/100], Step [50/50], Validation Batch Loss: 0.0386\n",
      "Epoch [52/100], Step [50/50], Validation Batch Loss: 0.0401\n",
      "Epoch [53/100], Step [50/50], Validation Batch Loss: 0.0401\n",
      "Epoch [54/100], Step [50/50], Validation Batch Loss: 0.0396\n",
      "Epoch [55/100], Step [50/50], Validation Batch Loss: 0.0391\n",
      "Epoch [56/100], Step [50/50], Validation Batch Loss: 0.0406\n",
      "Epoch [57/100], Step [50/50], Validation Batch Loss: 0.0397\n",
      "Epoch [58/100], Step [50/50], Validation Batch Loss: 0.0395\n",
      "Epoch [59/100], Step [50/50], Validation Batch Loss: 0.0400\n",
      "Epoch [60/100], Step [50/50], Validation Batch Loss: 0.0389\n",
      "Epoch [61/100], Step [50/50], Validation Batch Loss: 0.0387\n",
      "Epoch [62/100], Step [50/50], Validation Batch Loss: 0.0394\n",
      "Epoch [63/100], Step [50/50], Validation Batch Loss: 0.0405\n",
      "Epoch [64/100], Step [50/50], Validation Batch Loss: 0.0392\n",
      "Epoch [65/100], Step [50/50], Validation Batch Loss: 0.0395\n",
      "Epoch [66/100], Step [50/50], Validation Batch Loss: 0.0389\n",
      "Epoch [67/100], Step [50/50], Validation Batch Loss: 0.0391\n",
      "Epoch [68/100], Step [50/50], Validation Batch Loss: 0.0396\n",
      "Epoch [69/100], Step [50/50], Validation Batch Loss: 0.0387\n",
      "Epoch [70/100], Step [50/50], Validation Batch Loss: 0.0387\n",
      "Epoch [71/100], Step [50/50], Validation Batch Loss: 0.0400\n",
      "Epoch [72/100], Step [50/50], Validation Batch Loss: 0.0392\n",
      "Epoch [73/100], Step [50/50], Validation Batch Loss: 0.0404\n",
      "Epoch [74/100], Step [50/50], Validation Batch Loss: 0.0393\n",
      "Epoch [75/100], Step [50/50], Validation Batch Loss: 0.0391\n",
      "Epoch [76/100], Step [50/50], Validation Batch Loss: 0.0398\n",
      "Epoch [77/100], Step [50/50], Validation Batch Loss: 0.0392\n",
      "Epoch [78/100], Step [50/50], Validation Batch Loss: 0.0385\n",
      "Epoch [79/100], Step [50/50], Validation Batch Loss: 0.0401\n",
      "Epoch [80/100], Step [50/50], Validation Batch Loss: 0.0394\n",
      "Epoch [81/100], Step [50/50], Validation Batch Loss: 0.0391\n",
      "Epoch [82/100], Step [50/50], Validation Batch Loss: 0.0394\n",
      "Epoch [83/100], Step [50/50], Validation Batch Loss: 0.0390\n",
      "Epoch [84/100], Step [50/50], Validation Batch Loss: 0.0393\n",
      "Epoch [85/100], Step [50/50], Validation Batch Loss: 0.0381\n",
      "Epoch [86/100], Step [50/50], Validation Batch Loss: 0.0399\n",
      "Epoch [87/100], Step [50/50], Validation Batch Loss: 0.0398\n",
      "Epoch [88/100], Step [50/50], Validation Batch Loss: 0.0384\n",
      "Epoch [89/100], Step [50/50], Validation Batch Loss: 0.0396\n",
      "Epoch [90/100], Step [50/50], Validation Batch Loss: 0.0393\n",
      "Epoch [91/100], Step [50/50], Validation Batch Loss: 0.0397\n",
      "Epoch [92/100], Step [50/50], Validation Batch Loss: 0.0391\n",
      "Epoch [93/100], Step [50/50], Validation Batch Loss: 0.0391\n",
      "Epoch [94/100], Step [50/50], Validation Batch Loss: 0.0389\n",
      "Epoch [95/100], Step [50/50], Validation Batch Loss: 0.0390\n",
      "Epoch [96/100], Step [50/50], Validation Batch Loss: 0.0389\n",
      "Epoch [97/100], Step [50/50], Validation Batch Loss: 0.0391\n",
      "Epoch [98/100], Step [50/50], Validation Batch Loss: 0.0392\n",
      "Epoch [99/100], Step [50/50], Validation Batch Loss: 0.0389\n",
      "Epoch [100/100], Step [50/50], Validation Batch Loss: 0.0397\n"
     ]
    }
   ],
   "source": [
    "synth_dp_eps5_model = Network(0.2)\n",
    "trainingEpoch_dp_eps5_loss = []\n",
    "validationEpoch_dp_eps5_loss = []\n",
    "run_model(synth_dp_eps5_model, trainingEpoch_dp_eps5_loss, validationEpoch_dp_eps5_loss, synth_dp_eps5_X, synth_dp_eps5_y, X_test, y_test)"
   ]
  },
  {
   "cell_type": "code",
   "execution_count": 62,
   "id": "b0dfde13-a5cf-4981-996a-26951366f0f6",
   "metadata": {
    "tags": []
   },
   "outputs": [
    {
     "name": "stdout",
     "output_type": "stream",
     "text": [
      "==> not used params in network class: dict_keys([])\n",
      "Epoch [1/100], Step [49/49], Validation Batch Loss: 0.0759\n",
      "Epoch [2/100], Step [49/49], Validation Batch Loss: 0.0346\n",
      "Epoch [3/100], Step [49/49], Validation Batch Loss: 0.0390\n",
      "Epoch [4/100], Step [49/49], Validation Batch Loss: 0.0435\n",
      "Epoch [5/100], Step [49/49], Validation Batch Loss: 0.0408\n",
      "Epoch [6/100], Step [49/49], Validation Batch Loss: 0.0429\n",
      "Epoch [7/100], Step [49/49], Validation Batch Loss: 0.0423\n",
      "Epoch [8/100], Step [49/49], Validation Batch Loss: 0.0437\n",
      "Epoch [9/100], Step [49/49], Validation Batch Loss: 0.0434\n",
      "Epoch [10/100], Step [49/49], Validation Batch Loss: 0.0426\n",
      "Epoch [11/100], Step [49/49], Validation Batch Loss: 0.0439\n",
      "Epoch [12/100], Step [49/49], Validation Batch Loss: 0.0432\n",
      "Epoch [13/100], Step [49/49], Validation Batch Loss: 0.0489\n",
      "Epoch [14/100], Step [49/49], Validation Batch Loss: 0.0441\n",
      "Epoch [15/100], Step [49/49], Validation Batch Loss: 0.0460\n",
      "Epoch [16/100], Step [49/49], Validation Batch Loss: 0.0440\n",
      "Epoch [17/100], Step [49/49], Validation Batch Loss: 0.0501\n",
      "Epoch [18/100], Step [49/49], Validation Batch Loss: 0.0477\n",
      "Epoch [19/100], Step [49/49], Validation Batch Loss: 0.0440\n",
      "Epoch [20/100], Step [49/49], Validation Batch Loss: 0.0434\n",
      "Epoch [21/100], Step [49/49], Validation Batch Loss: 0.0461\n",
      "Epoch [22/100], Step [49/49], Validation Batch Loss: 0.0465\n",
      "Epoch [23/100], Step [49/49], Validation Batch Loss: 0.0448\n",
      "Epoch [24/100], Step [49/49], Validation Batch Loss: 0.0468\n",
      "Epoch [25/100], Step [49/49], Validation Batch Loss: 0.0461\n",
      "Epoch [26/100], Step [49/49], Validation Batch Loss: 0.0445\n",
      "Epoch [27/100], Step [49/49], Validation Batch Loss: 0.0474\n",
      "Epoch [28/100], Step [49/49], Validation Batch Loss: 0.0450\n",
      "Epoch [29/100], Step [49/49], Validation Batch Loss: 0.0469\n",
      "Epoch [30/100], Step [49/49], Validation Batch Loss: 0.0474\n",
      "Epoch [31/100], Step [49/49], Validation Batch Loss: 0.0462\n",
      "Epoch [32/100], Step [49/49], Validation Batch Loss: 0.0478\n",
      "Epoch [33/100], Step [49/49], Validation Batch Loss: 0.0458\n",
      "Epoch [34/100], Step [49/49], Validation Batch Loss: 0.0444\n",
      "Epoch [35/100], Step [49/49], Validation Batch Loss: 0.0438\n",
      "Epoch [36/100], Step [49/49], Validation Batch Loss: 0.0473\n",
      "Epoch [37/100], Step [49/49], Validation Batch Loss: 0.0430\n",
      "Epoch [38/100], Step [49/49], Validation Batch Loss: 0.0470\n",
      "Epoch [39/100], Step [49/49], Validation Batch Loss: 0.0450\n",
      "Epoch [40/100], Step [49/49], Validation Batch Loss: 0.0467\n",
      "Epoch [41/100], Step [49/49], Validation Batch Loss: 0.0467\n",
      "Epoch [42/100], Step [49/49], Validation Batch Loss: 0.0423\n",
      "Epoch [43/100], Step [49/49], Validation Batch Loss: 0.0456\n",
      "Epoch [44/100], Step [49/49], Validation Batch Loss: 0.0477\n",
      "Epoch [45/100], Step [49/49], Validation Batch Loss: 0.0448\n",
      "Epoch [46/100], Step [49/49], Validation Batch Loss: 0.0461\n",
      "Epoch [47/100], Step [49/49], Validation Batch Loss: 0.0442\n",
      "Epoch [48/100], Step [49/49], Validation Batch Loss: 0.0451\n",
      "Epoch [49/100], Step [49/49], Validation Batch Loss: 0.0449\n",
      "Epoch [50/100], Step [49/49], Validation Batch Loss: 0.0418\n",
      "Epoch [51/100], Step [49/49], Validation Batch Loss: 0.0464\n",
      "Epoch [52/100], Step [49/49], Validation Batch Loss: 0.0452\n",
      "Epoch [53/100], Step [49/49], Validation Batch Loss: 0.0418\n",
      "Epoch [54/100], Step [49/49], Validation Batch Loss: 0.0433\n",
      "Epoch [55/100], Step [49/49], Validation Batch Loss: 0.0414\n",
      "Epoch [56/100], Step [49/49], Validation Batch Loss: 0.0446\n",
      "Epoch [57/100], Step [49/49], Validation Batch Loss: 0.0431\n",
      "Epoch [58/100], Step [49/49], Validation Batch Loss: 0.0427\n",
      "Epoch [59/100], Step [49/49], Validation Batch Loss: 0.0431\n",
      "Epoch [60/100], Step [49/49], Validation Batch Loss: 0.0417\n",
      "Epoch [61/100], Step [49/49], Validation Batch Loss: 0.0453\n",
      "Epoch [62/100], Step [49/49], Validation Batch Loss: 0.0471\n",
      "Epoch [63/100], Step [49/49], Validation Batch Loss: 0.0456\n",
      "Epoch [64/100], Step [49/49], Validation Batch Loss: 0.0450\n",
      "Epoch [65/100], Step [49/49], Validation Batch Loss: 0.0437\n",
      "Epoch [66/100], Step [49/49], Validation Batch Loss: 0.0460\n",
      "Epoch [67/100], Step [49/49], Validation Batch Loss: 0.0446\n",
      "Epoch [68/100], Step [49/49], Validation Batch Loss: 0.0439\n",
      "Epoch [69/100], Step [49/49], Validation Batch Loss: 0.0429\n",
      "Epoch [70/100], Step [49/49], Validation Batch Loss: 0.0420\n",
      "Epoch [71/100], Step [49/49], Validation Batch Loss: 0.0441\n",
      "Epoch [72/100], Step [49/49], Validation Batch Loss: 0.0446\n",
      "Epoch [73/100], Step [49/49], Validation Batch Loss: 0.0401\n",
      "Epoch [74/100], Step [49/49], Validation Batch Loss: 0.0424\n",
      "Epoch [75/100], Step [49/49], Validation Batch Loss: 0.0429\n",
      "Epoch [76/100], Step [49/49], Validation Batch Loss: 0.0445\n",
      "Epoch [77/100], Step [49/49], Validation Batch Loss: 0.0432\n",
      "Epoch [78/100], Step [49/49], Validation Batch Loss: 0.0474\n",
      "Epoch [79/100], Step [49/49], Validation Batch Loss: 0.0415\n",
      "Epoch [80/100], Step [49/49], Validation Batch Loss: 0.0434\n",
      "Epoch [81/100], Step [49/49], Validation Batch Loss: 0.0465\n",
      "Epoch [82/100], Step [49/49], Validation Batch Loss: 0.0463\n",
      "Epoch [83/100], Step [49/49], Validation Batch Loss: 0.0425\n",
      "Epoch [84/100], Step [49/49], Validation Batch Loss: 0.0382\n",
      "Epoch [85/100], Step [49/49], Validation Batch Loss: 0.0436\n",
      "Epoch [86/100], Step [49/49], Validation Batch Loss: 0.0443\n",
      "Epoch [87/100], Step [49/49], Validation Batch Loss: 0.0433\n",
      "Epoch [88/100], Step [49/49], Validation Batch Loss: 0.0480\n",
      "Epoch [89/100], Step [49/49], Validation Batch Loss: 0.0419\n",
      "Epoch [90/100], Step [49/49], Validation Batch Loss: 0.0458\n",
      "Epoch [91/100], Step [49/49], Validation Batch Loss: 0.0411\n",
      "Epoch [92/100], Step [49/49], Validation Batch Loss: 0.0408\n",
      "Epoch [93/100], Step [49/49], Validation Batch Loss: 0.0488\n",
      "Epoch [94/100], Step [49/49], Validation Batch Loss: 0.0431\n",
      "Epoch [95/100], Step [49/49], Validation Batch Loss: 0.0419\n",
      "Epoch [96/100], Step [49/49], Validation Batch Loss: 0.0429\n",
      "Epoch [97/100], Step [49/49], Validation Batch Loss: 0.0415\n",
      "Epoch [98/100], Step [49/49], Validation Batch Loss: 0.0443\n",
      "Epoch [99/100], Step [49/49], Validation Batch Loss: 0.0403\n",
      "Epoch [100/100], Step [49/49], Validation Batch Loss: 0.0424\n"
     ]
    }
   ],
   "source": [
    "synth_dp_eps20_model = Network(0.2)\n",
    "trainingEpoch_dp_eps20_loss = []\n",
    "validationEpoch_dp_eps20_loss = []\n",
    "run_model(synth_dp_eps20_model, trainingEpoch_dp_eps20_loss, validationEpoch_dp_eps20_loss, synth_dp_eps20_X, synth_dp_eps20_y, X_test, y_test)"
   ]
  },
  {
   "cell_type": "code",
   "execution_count": 63,
   "id": "be847b58-690f-4891-99fd-ffc3351b471b",
   "metadata": {
    "tags": []
   },
   "outputs": [
    {
     "name": "stdout",
     "output_type": "stream",
     "text": [
      "==> not used params in network class: dict_keys([])\n",
      "Epoch [1/100], Step [40/40], Validation Batch Loss: 0.3844\n",
      "Epoch [2/100], Step [40/40], Validation Batch Loss: 0.2750\n",
      "Epoch [3/100], Step [40/40], Validation Batch Loss: 0.1035\n",
      "Epoch [4/100], Step [40/40], Validation Batch Loss: 0.0314\n",
      "Epoch [5/100], Step [40/40], Validation Batch Loss: 0.0352\n",
      "Epoch [6/100], Step [40/40], Validation Batch Loss: 0.0378\n",
      "Epoch [7/100], Step [40/40], Validation Batch Loss: 0.0419\n",
      "Epoch [8/100], Step [40/40], Validation Batch Loss: 0.0396\n",
      "Epoch [9/100], Step [40/40], Validation Batch Loss: 0.0401\n",
      "Epoch [10/100], Step [40/40], Validation Batch Loss: 0.0364\n",
      "Epoch [11/100], Step [40/40], Validation Batch Loss: 0.0374\n",
      "Epoch [12/100], Step [40/40], Validation Batch Loss: 0.0385\n",
      "Epoch [13/100], Step [40/40], Validation Batch Loss: 0.0370\n",
      "Epoch [14/100], Step [40/40], Validation Batch Loss: 0.0357\n",
      "Epoch [15/100], Step [40/40], Validation Batch Loss: 0.0391\n",
      "Epoch [16/100], Step [40/40], Validation Batch Loss: 0.0390\n",
      "Epoch [17/100], Step [40/40], Validation Batch Loss: 0.0364\n",
      "Epoch [18/100], Step [40/40], Validation Batch Loss: 0.0344\n",
      "Epoch [19/100], Step [40/40], Validation Batch Loss: 0.0380\n",
      "Epoch [20/100], Step [40/40], Validation Batch Loss: 0.0434\n",
      "Epoch [21/100], Step [40/40], Validation Batch Loss: 0.0391\n",
      "Epoch [22/100], Step [40/40], Validation Batch Loss: 0.0369\n",
      "Epoch [23/100], Step [40/40], Validation Batch Loss: 0.0372\n",
      "Epoch [24/100], Step [40/40], Validation Batch Loss: 0.0377\n",
      "Epoch [25/100], Step [40/40], Validation Batch Loss: 0.0380\n",
      "Epoch [26/100], Step [40/40], Validation Batch Loss: 0.0415\n",
      "Epoch [27/100], Step [40/40], Validation Batch Loss: 0.0417\n",
      "Epoch [28/100], Step [40/40], Validation Batch Loss: 0.0378\n",
      "Epoch [29/100], Step [40/40], Validation Batch Loss: 0.0397\n",
      "Epoch [30/100], Step [40/40], Validation Batch Loss: 0.0411\n",
      "Epoch [31/100], Step [40/40], Validation Batch Loss: 0.0385\n",
      "Epoch [32/100], Step [40/40], Validation Batch Loss: 0.0396\n",
      "Epoch [33/100], Step [40/40], Validation Batch Loss: 0.0388\n",
      "Epoch [34/100], Step [40/40], Validation Batch Loss: 0.0380\n",
      "Epoch [35/100], Step [40/40], Validation Batch Loss: 0.0394\n",
      "Epoch [36/100], Step [40/40], Validation Batch Loss: 0.0374\n",
      "Epoch [37/100], Step [40/40], Validation Batch Loss: 0.0389\n",
      "Epoch [38/100], Step [40/40], Validation Batch Loss: 0.0383\n",
      "Epoch [39/100], Step [40/40], Validation Batch Loss: 0.0381\n",
      "Epoch [40/100], Step [40/40], Validation Batch Loss: 0.0384\n",
      "Epoch [41/100], Step [40/40], Validation Batch Loss: 0.0372\n",
      "Epoch [42/100], Step [40/40], Validation Batch Loss: 0.0365\n",
      "Epoch [43/100], Step [40/40], Validation Batch Loss: 0.0375\n",
      "Epoch [44/100], Step [40/40], Validation Batch Loss: 0.0378\n",
      "Epoch [45/100], Step [40/40], Validation Batch Loss: 0.0375\n",
      "Epoch [46/100], Step [40/40], Validation Batch Loss: 0.0396\n",
      "Epoch [47/100], Step [40/40], Validation Batch Loss: 0.0411\n",
      "Epoch [48/100], Step [40/40], Validation Batch Loss: 0.0399\n",
      "Epoch [49/100], Step [40/40], Validation Batch Loss: 0.0432\n",
      "Epoch [50/100], Step [40/40], Validation Batch Loss: 0.0450\n",
      "Epoch [51/100], Step [40/40], Validation Batch Loss: 0.0432\n",
      "Epoch [52/100], Step [40/40], Validation Batch Loss: 0.0428\n",
      "Epoch [53/100], Step [40/40], Validation Batch Loss: 0.0400\n",
      "Epoch [54/100], Step [40/40], Validation Batch Loss: 0.0398\n",
      "Epoch [55/100], Step [40/40], Validation Batch Loss: 0.0414\n",
      "Epoch [56/100], Step [40/40], Validation Batch Loss: 0.0437\n",
      "Epoch [57/100], Step [40/40], Validation Batch Loss: 0.0406\n",
      "Epoch [58/100], Step [40/40], Validation Batch Loss: 0.0435\n",
      "Epoch [59/100], Step [40/40], Validation Batch Loss: 0.0427\n",
      "Epoch [60/100], Step [40/40], Validation Batch Loss: 0.0413\n",
      "Epoch [61/100], Step [40/40], Validation Batch Loss: 0.0417\n",
      "Epoch [62/100], Step [40/40], Validation Batch Loss: 0.0426\n",
      "Epoch [63/100], Step [40/40], Validation Batch Loss: 0.0422\n",
      "Epoch [64/100], Step [40/40], Validation Batch Loss: 0.0404\n",
      "Epoch [65/100], Step [40/40], Validation Batch Loss: 0.0410\n",
      "Epoch [66/100], Step [40/40], Validation Batch Loss: 0.0416\n",
      "Epoch [67/100], Step [40/40], Validation Batch Loss: 0.0419\n",
      "Epoch [68/100], Step [40/40], Validation Batch Loss: 0.0443\n",
      "Epoch [69/100], Step [40/40], Validation Batch Loss: 0.0446\n",
      "Epoch [70/100], Step [40/40], Validation Batch Loss: 0.0424\n",
      "Epoch [71/100], Step [40/40], Validation Batch Loss: 0.0420\n",
      "Epoch [72/100], Step [40/40], Validation Batch Loss: 0.0425\n",
      "Epoch [73/100], Step [40/40], Validation Batch Loss: 0.0462\n",
      "Epoch [74/100], Step [40/40], Validation Batch Loss: 0.0455\n",
      "Epoch [75/100], Step [40/40], Validation Batch Loss: 0.0467\n",
      "Epoch [76/100], Step [40/40], Validation Batch Loss: 0.0516\n",
      "Epoch [77/100], Step [40/40], Validation Batch Loss: 0.0487\n",
      "Epoch [78/100], Step [40/40], Validation Batch Loss: 0.0471\n",
      "Epoch [79/100], Step [40/40], Validation Batch Loss: 0.0487\n",
      "Epoch [80/100], Step [40/40], Validation Batch Loss: 0.0484\n",
      "Epoch [81/100], Step [40/40], Validation Batch Loss: 0.0474\n",
      "Epoch [82/100], Step [40/40], Validation Batch Loss: 0.0488\n",
      "Epoch [83/100], Step [40/40], Validation Batch Loss: 0.0506\n",
      "Epoch [84/100], Step [40/40], Validation Batch Loss: 0.0510\n",
      "Epoch [85/100], Step [40/40], Validation Batch Loss: 0.0547\n",
      "Epoch [86/100], Step [40/40], Validation Batch Loss: 0.0537\n",
      "Epoch [87/100], Step [40/40], Validation Batch Loss: 0.0570\n",
      "Epoch [88/100], Step [40/40], Validation Batch Loss: 0.0535\n",
      "Epoch [89/100], Step [40/40], Validation Batch Loss: 0.0546\n",
      "Epoch [90/100], Step [40/40], Validation Batch Loss: 0.0561\n",
      "Epoch [91/100], Step [40/40], Validation Batch Loss: 0.0585\n",
      "Epoch [92/100], Step [40/40], Validation Batch Loss: 0.0572\n",
      "Epoch [93/100], Step [40/40], Validation Batch Loss: 0.0579\n",
      "Epoch [94/100], Step [40/40], Validation Batch Loss: 0.0579\n",
      "Epoch [95/100], Step [40/40], Validation Batch Loss: 0.0642\n",
      "Epoch [96/100], Step [40/40], Validation Batch Loss: 0.0703\n",
      "Epoch [97/100], Step [40/40], Validation Batch Loss: 0.0716\n",
      "Epoch [98/100], Step [40/40], Validation Batch Loss: 0.0649\n",
      "Epoch [99/100], Step [40/40], Validation Batch Loss: 0.0725\n",
      "Epoch [100/100], Step [40/40], Validation Batch Loss: 0.0682\n"
     ]
    }
   ],
   "source": [
    "random_model = Network(0.2)\n",
    "trainingEpoch_random_loss = []\n",
    "validationEpoch_random_loss = []\n",
    "run_model(random_model, trainingEpoch_random_loss, validationEpoch_random_loss, random_X, random_y, X_test, y_test)"
   ]
  },
  {
   "cell_type": "code",
   "execution_count": 64,
   "id": "86a82bd1-092b-4be1-81b2-5637804f5a2e",
   "metadata": {},
   "outputs": [
    {
     "data": {
      "text/plain": [
       "<function matplotlib.pyplot.show(close=None, block=None)>"
      ]
     },
     "execution_count": 64,
     "metadata": {},
     "output_type": "execute_result"
    },
    {
     "data": {
      "image/png": "[encoded data removed]",
      "text/plain": [
       "<Figure size 1000x1000 with 1 Axes>"
      ]
     },
     "metadata": {},
     "output_type": "display_data"
    }
   ],
   "source": [
    "plt.figure(figsize=(10,10))\n",
    "plt.plot(trainingEpoch_loss, label='train_original')\n",
    "plt.plot(validationEpoch_loss,label='val_original')\n",
    "plt.plot(trainingEpoch_no_dp_loss, label='train_no_dp_synthetic')\n",
    "plt.plot(validationEpoch_no_dp_loss,label='val_no_dp_synthetic')\n",
    "plt.plot(trainingEpoch_dp_loss, label='train_dp_eps=1_synthetic')\n",
    "plt.plot(validationEpoch_dp_loss,label='val_dp_eps=1_synthetic')\n",
    "plt.plot(trainingEpoch_dp_eps5_loss, label='train_dp_eps=5_synthetic')\n",
    "plt.plot(validationEpoch_dp_eps5_loss,label='val_dp_eps=5_synthetic')\n",
    "plt.plot(trainingEpoch_dp_eps20_loss, label='train_dp_eps=20_synthetic')\n",
    "plt.plot(validationEpoch_dp_eps20_loss,label='val_dp_eps=20_synthetic')\n",
    "plt.plot(trainingEpoch_random_loss, label='train_random')\n",
    "plt.plot(validationEpoch_random_loss,label='val_random')\n",
    "plt.xlabel(\"Epoch\")\n",
    "plt.ylabel(\"Loss\")\n",
    "plt.legend()\n",
    "plt.show"
   ]
  },
  {
   "cell_type": "code",
   "execution_count": null,
   "id": "36cfc93a-8d70-42fb-8bd3-5845391fc6d9",
   "metadata": {},
   "outputs": [],
   "source": []
  }
 ],
 "metadata": {
  "kernelspec": {
   "display_name": "Python 3 (ipykernel)",
   "language": "python",
   "name": "python3"
  },
  "language_info": {
   "codemirror_mode": {
    "name": "ipython",
    "version": 3
   },
   "file_extension": ".py",
   "mimetype": "text/x-python",
   "name": "python",
   "nbconvert_exporter": "python",
   "pygments_lexer": "ipython3",
   "version": "3.10.5"
  }
 },
 "nbformat": 4,
 "nbformat_minor": 5
}
