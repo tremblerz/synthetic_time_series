{
 "cells": [
  {
   "cell_type": "markdown",
   "id": "79c36b42-3f2a-4765-8021-a68a07416058",
   "metadata": {},
   "source": [
    "The basic expiremental setup here is we have a stock dataset for the price of GOOG for 50 different samples. Each sample represents a sequence of 10 prices of GOOG in the stock market that are ordered timewise.\n",
    "The columns in the dataset are [seq_id,\tseq_time_id, seq_temporal_Close, seq_temporal_High,\tseq_temporal_Low, seq_temporal_Open, seq_temporal_Volume, seq_out_Open_next]. All the columns represent temporal data except seq_id which is the id of the current sample and seq_out_Open_next which represents the open of the next day. I'm using all the columns to predict the close of the stock price in the 10th sample given. I'm using an LSTM layer with a dropout and then a linear layer to produce the close since this data isn't too complex. I trained the model with Adam and MSE loss."
   ]
  },
  {
   "cell_type": "code",
   "execution_count": 1,
   "id": "4b1340ee-503d-4538-96a7-766bd7b51665",
   "metadata": {
    "tags": []
   },
   "outputs": [],
   "source": [
    "import matplotlib.pyplot as plt"
   ]
  },
  {
   "cell_type": "code",
   "execution_count": 2,
   "id": "5f2a9dba-e183-4ef1-bc6c-e1ec66e13b48",
   "metadata": {
    "tags": []
   },
   "outputs": [],
   "source": [
    "import sys\n",
    "from os.path import dirname\n",
    "sys.path.append(dirname('./synthcity/src/'))"
   ]
  },
  {
   "cell_type": "code",
   "execution_count": 3,
   "id": "4d1894a6-5cea-4c1e-88a9-ecd2df40445b",
   "metadata": {
    "tags": []
   },
   "outputs": [
    {
     "name": "stderr",
     "output_type": "stream",
     "text": [
      "C:\\Users\\ma7mo\\AppData\\Local\\Programs\\Python\\Python310\\lib\\site-packages\\tqdm\\auto.py:21: TqdmWarning: IProgress not found. Please update jupyter and ipywidgets. See https://ipywidgets.readthedocs.io/en/stable/user_install.html\n",
      "  from .autonotebook import tqdm as notebook_tqdm\n"
     ]
    }
   ],
   "source": [
    "import torch\n",
    "import torch.nn as nn\n",
    "import numpy as np"
   ]
  },
  {
   "cell_type": "code",
   "execution_count": 4,
   "id": "f6f97c69-5212-488c-87a2-866957209901",
   "metadata": {
    "tags": []
   },
   "outputs": [],
   "source": [
    "from sklearn.model_selection import train_test_split"
   ]
  },
  {
   "cell_type": "code",
   "execution_count": 5,
   "id": "b52757a1-4d54-4764-9666-4a1ceca1ee96",
   "metadata": {
    "tags": []
   },
   "outputs": [],
   "source": [
    "import torch.optim as optim\n",
    "from torch.utils.data import DataLoader"
   ]
  },
  {
   "cell_type": "code",
   "execution_count": 6,
   "id": "e525d301-f295-4083-95f2-53bbfba136c9",
   "metadata": {
    "tags": []
   },
   "outputs": [],
   "source": [
    "import seaborn as sns"
   ]
  },
  {
   "cell_type": "code",
   "execution_count": 7,
   "id": "0d4c644e-5d02-4fa6-9aba-72458133ca2d",
   "metadata": {
    "tags": []
   },
   "outputs": [
    {
     "name": "stdout",
     "output_type": "stream",
     "text": [
      "[KeOps] Warning : \n",
      "    The default C++ compiler could not be found on your system.\n",
      "    You need to either define the CXX environment variable or a symlink to the g++ command.\n",
      "    For example if g++-8 is the command you can do\n",
      "      import os\n",
      "      os.environ['CXX'] = 'g++-8'\n",
      "    \n",
      "[KeOps] Warning : Cuda libraries were not detected on the system ; using cpu only mode\n"
     ]
    }
   ],
   "source": [
    "from synthcity.plugins import Plugins\n",
    "from synthcity.benchmark import Benchmarks"
   ]
  },
  {
   "cell_type": "code",
   "execution_count": 8,
   "id": "653ee9b9-a2b6-4f96-949a-1daf76269980",
   "metadata": {
    "tags": []
   },
   "outputs": [
    {
     "data": {
      "text/plain": [
       "['fflows', 'timegan', 'timevae']"
      ]
     },
     "execution_count": 8,
     "metadata": {},
     "output_type": "execute_result"
    }
   ],
   "source": [
    "Plugins(categories=[\"time_series\"]).list()"
   ]
  },
  {
   "cell_type": "code",
   "execution_count": 9,
   "id": "43c46885-db3f-4d84-a3ca-b94a8b989eb0",
   "metadata": {
    "tags": []
   },
   "outputs": [],
   "source": [
    "from synthcity.utils.datasets.time_series.pbc import PBCDataloader\n",
    "from synthcity.utils.datasets.time_series.google_stocks import GoogleStocksDataloader\n",
    "from synthcity.plugins.core.dataloader import TimeSeriesDataLoader"
   ]
  },
  {
   "cell_type": "code",
   "execution_count": 10,
   "id": "064a33d7-36ab-4a66-a2f1-915024b80aeb",
   "metadata": {
    "tags": []
   },
   "outputs": [],
   "source": [
    "static_data, temporal_data, horizons, outcome = GoogleStocksDataloader().load()"
   ]
  },
  {
   "cell_type": "code",
   "execution_count": 11,
   "id": "4ef065f6-9f3d-4e66-bb5e-af45b5c4acb6",
   "metadata": {
    "tags": []
   },
   "outputs": [],
   "source": [
    "data = TimeSeriesDataLoader(\n",
    "    temporal_data=temporal_data,\n",
    "    observation_times=horizons,\n",
    "    static_data=static_data,\n",
    "    outcome=outcome,\n",
    ")"
   ]
  },
  {
   "cell_type": "code",
   "execution_count": 12,
   "id": "2ea5f0e0-0af9-4a9a-9429-4b643b7428f8",
   "metadata": {
    "tags": []
   },
   "outputs": [
    {
     "data": {
      "text/html": [
       "<div>\n",
       "<style scoped>\n",
       "    .dataframe tbody tr th:only-of-type {\n",
       "        vertical-align: middle;\n",
       "    }\n",
       "\n",
       "    .dataframe tbody tr th {\n",
       "        vertical-align: top;\n",
       "    }\n",
       "\n",
       "    .dataframe thead th {\n",
       "        text-align: right;\n",
       "    }\n",
       "</style>\n",
       "<table border=\"1\" class=\"dataframe\">\n",
       "  <thead>\n",
       "    <tr style=\"text-align: right;\">\n",
       "      <th></th>\n",
       "      <th>seq_id</th>\n",
       "      <th>seq_time_id</th>\n",
       "      <th>seq_temporal_Close</th>\n",
       "      <th>seq_temporal_High</th>\n",
       "      <th>seq_temporal_Low</th>\n",
       "      <th>seq_temporal_Open</th>\n",
       "      <th>seq_temporal_Volume</th>\n",
       "      <th>seq_out_Open_next</th>\n",
       "    </tr>\n",
       "  </thead>\n",
       "  <tbody>\n",
       "    <tr>\n",
       "      <th>0</th>\n",
       "      <td>0</td>\n",
       "      <td>0.500000</td>\n",
       "      <td>0.297323</td>\n",
       "      <td>0.260691</td>\n",
       "      <td>0.270926</td>\n",
       "      <td>0.286676</td>\n",
       "      <td>0.537287</td>\n",
       "      <td>0.710852</td>\n",
       "    </tr>\n",
       "    <tr>\n",
       "      <th>1</th>\n",
       "      <td>0</td>\n",
       "      <td>0.488636</td>\n",
       "      <td>0.310959</td>\n",
       "      <td>0.261540</td>\n",
       "      <td>0.262191</td>\n",
       "      <td>0.247939</td>\n",
       "      <td>0.583420</td>\n",
       "      <td>0.710852</td>\n",
       "    </tr>\n",
       "    <tr>\n",
       "      <th>2</th>\n",
       "      <td>0</td>\n",
       "      <td>0.477273</td>\n",
       "      <td>0.379826</td>\n",
       "      <td>0.468139</td>\n",
       "      <td>0.383181</td>\n",
       "      <td>0.492445</td>\n",
       "      <td>1.000000</td>\n",
       "      <td>0.710852</td>\n",
       "    </tr>\n",
       "    <tr>\n",
       "      <th>3</th>\n",
       "      <td>0</td>\n",
       "      <td>0.443182</td>\n",
       "      <td>0.641220</td>\n",
       "      <td>0.837864</td>\n",
       "      <td>0.652282</td>\n",
       "      <td>0.767858</td>\n",
       "      <td>0.893648</td>\n",
       "      <td>0.710852</td>\n",
       "    </tr>\n",
       "    <tr>\n",
       "      <th>4</th>\n",
       "      <td>0</td>\n",
       "      <td>0.431818</td>\n",
       "      <td>0.751308</td>\n",
       "      <td>0.781931</td>\n",
       "      <td>0.737940</td>\n",
       "      <td>0.810440</td>\n",
       "      <td>0.810209</td>\n",
       "      <td>0.710852</td>\n",
       "    </tr>\n",
       "    <tr>\n",
       "      <th>...</th>\n",
       "      <td>...</td>\n",
       "      <td>...</td>\n",
       "      <td>...</td>\n",
       "      <td>...</td>\n",
       "      <td>...</td>\n",
       "      <td>...</td>\n",
       "      <td>...</td>\n",
       "      <td>...</td>\n",
       "    </tr>\n",
       "    <tr>\n",
       "      <th>495</th>\n",
       "      <td>49</td>\n",
       "      <td>0.170455</td>\n",
       "      <td>0.178331</td>\n",
       "      <td>0.096998</td>\n",
       "      <td>0.070274</td>\n",
       "      <td>0.000000</td>\n",
       "      <td>0.391364</td>\n",
       "      <td>0.246566</td>\n",
       "    </tr>\n",
       "    <tr>\n",
       "      <th>496</th>\n",
       "      <td>49</td>\n",
       "      <td>0.125000</td>\n",
       "      <td>0.000000</td>\n",
       "      <td>0.000000</td>\n",
       "      <td>0.000000</td>\n",
       "      <td>0.054121</td>\n",
       "      <td>0.436308</td>\n",
       "      <td>0.246566</td>\n",
       "    </tr>\n",
       "    <tr>\n",
       "      <th>497</th>\n",
       "      <td>49</td>\n",
       "      <td>0.113636</td>\n",
       "      <td>0.136612</td>\n",
       "      <td>0.044604</td>\n",
       "      <td>0.110952</td>\n",
       "      <td>0.062088</td>\n",
       "      <td>0.045596</td>\n",
       "      <td>0.246566</td>\n",
       "    </tr>\n",
       "    <tr>\n",
       "      <th>498</th>\n",
       "      <td>49</td>\n",
       "      <td>0.102273</td>\n",
       "      <td>0.164757</td>\n",
       "      <td>0.162135</td>\n",
       "      <td>0.166754</td>\n",
       "      <td>0.204533</td>\n",
       "      <td>0.195471</td>\n",
       "      <td>0.246566</td>\n",
       "    </tr>\n",
       "    <tr>\n",
       "      <th>499</th>\n",
       "      <td>49</td>\n",
       "      <td>0.090909</td>\n",
       "      <td>0.245703</td>\n",
       "      <td>0.213537</td>\n",
       "      <td>0.224863</td>\n",
       "      <td>0.163049</td>\n",
       "      <td>0.063596</td>\n",
       "      <td>0.246566</td>\n",
       "    </tr>\n",
       "  </tbody>\n",
       "</table>\n",
       "<p>500 rows × 8 columns</p>\n",
       "</div>"
      ],
      "text/plain": [
       "     seq_id  seq_time_id  seq_temporal_Close  seq_temporal_High  \\\n",
       "0         0     0.500000            0.297323           0.260691   \n",
       "1         0     0.488636            0.310959           0.261540   \n",
       "2         0     0.477273            0.379826           0.468139   \n",
       "3         0     0.443182            0.641220           0.837864   \n",
       "4         0     0.431818            0.751308           0.781931   \n",
       "..      ...          ...                 ...                ...   \n",
       "495      49     0.170455            0.178331           0.096998   \n",
       "496      49     0.125000            0.000000           0.000000   \n",
       "497      49     0.113636            0.136612           0.044604   \n",
       "498      49     0.102273            0.164757           0.162135   \n",
       "499      49     0.090909            0.245703           0.213537   \n",
       "\n",
       "     seq_temporal_Low  seq_temporal_Open  seq_temporal_Volume  \\\n",
       "0            0.270926           0.286676             0.537287   \n",
       "1            0.262191           0.247939             0.583420   \n",
       "2            0.383181           0.492445             1.000000   \n",
       "3            0.652282           0.767858             0.893648   \n",
       "4            0.737940           0.810440             0.810209   \n",
       "..                ...                ...                  ...   \n",
       "495          0.070274           0.000000             0.391364   \n",
       "496          0.000000           0.054121             0.436308   \n",
       "497          0.110952           0.062088             0.045596   \n",
       "498          0.166754           0.204533             0.195471   \n",
       "499          0.224863           0.163049             0.063596   \n",
       "\n",
       "     seq_out_Open_next  \n",
       "0             0.710852  \n",
       "1             0.710852  \n",
       "2             0.710852  \n",
       "3             0.710852  \n",
       "4             0.710852  \n",
       "..                 ...  \n",
       "495           0.246566  \n",
       "496           0.246566  \n",
       "497           0.246566  \n",
       "498           0.246566  \n",
       "499           0.246566  \n",
       "\n",
       "[500 rows x 8 columns]"
      ]
     },
     "execution_count": 12,
     "metadata": {},
     "output_type": "execute_result"
    }
   ],
   "source": [
    "data"
   ]
  },
  {
   "cell_type": "code",
   "execution_count": 13,
   "id": "22c8e978-1359-4dce-af6c-d364d25782a8",
   "metadata": {
    "tags": []
   },
   "outputs": [],
   "source": [
    "train, test = train_test_split(data.dataframe(), test_size=0.2)"
   ]
  },
  {
   "cell_type": "code",
   "execution_count": 14,
   "id": "4d53515f-1cdc-4272-9f83-4fe215b35527",
   "metadata": {
    "tags": []
   },
   "outputs": [
    {
     "data": {
      "text/html": [
       "<div>\n",
       "<style scoped>\n",
       "    .dataframe tbody tr th:only-of-type {\n",
       "        vertical-align: middle;\n",
       "    }\n",
       "\n",
       "    .dataframe tbody tr th {\n",
       "        vertical-align: top;\n",
       "    }\n",
       "\n",
       "    .dataframe thead th {\n",
       "        text-align: right;\n",
       "    }\n",
       "</style>\n",
       "<table border=\"1\" class=\"dataframe\">\n",
       "  <thead>\n",
       "    <tr style=\"text-align: right;\">\n",
       "      <th></th>\n",
       "      <th>seq_id</th>\n",
       "      <th>seq_time_id</th>\n",
       "      <th>seq_temporal_Close</th>\n",
       "      <th>seq_temporal_High</th>\n",
       "      <th>seq_temporal_Low</th>\n",
       "      <th>seq_temporal_Open</th>\n",
       "      <th>seq_temporal_Volume</th>\n",
       "      <th>seq_out_Open_next</th>\n",
       "    </tr>\n",
       "  </thead>\n",
       "  <tbody>\n",
       "    <tr>\n",
       "      <th>161</th>\n",
       "      <td>16</td>\n",
       "      <td>0.977273</td>\n",
       "      <td>0.938730</td>\n",
       "      <td>0.932455</td>\n",
       "      <td>0.917341</td>\n",
       "      <td>0.944781</td>\n",
       "      <td>0.290232</td>\n",
       "      <td>0.387225</td>\n",
       "    </tr>\n",
       "    <tr>\n",
       "      <th>491</th>\n",
       "      <td>49</td>\n",
       "      <td>0.238636</td>\n",
       "      <td>0.433749</td>\n",
       "      <td>0.384961</td>\n",
       "      <td>0.422686</td>\n",
       "      <td>0.378984</td>\n",
       "      <td>0.249088</td>\n",
       "      <td>0.246566</td>\n",
       "    </tr>\n",
       "    <tr>\n",
       "      <th>218</th>\n",
       "      <td>21</td>\n",
       "      <td>0.829545</td>\n",
       "      <td>0.732379</td>\n",
       "      <td>0.732512</td>\n",
       "      <td>0.772230</td>\n",
       "      <td>0.756044</td>\n",
       "      <td>0.120629</td>\n",
       "      <td>0.286676</td>\n",
       "    </tr>\n",
       "    <tr>\n",
       "      <th>121</th>\n",
       "      <td>12</td>\n",
       "      <td>0.897727</td>\n",
       "      <td>0.791407</td>\n",
       "      <td>0.784055</td>\n",
       "      <td>0.800261</td>\n",
       "      <td>0.751374</td>\n",
       "      <td>0.140203</td>\n",
       "      <td>0.552061</td>\n",
       "    </tr>\n",
       "    <tr>\n",
       "      <th>271</th>\n",
       "      <td>27</td>\n",
       "      <td>0.636364</td>\n",
       "      <td>0.590535</td>\n",
       "      <td>0.540625</td>\n",
       "      <td>0.587745</td>\n",
       "      <td>0.510852</td>\n",
       "      <td>0.220572</td>\n",
       "      <td>0.597390</td>\n",
       "    </tr>\n",
       "    <tr>\n",
       "      <th>...</th>\n",
       "      <td>...</td>\n",
       "      <td>...</td>\n",
       "      <td>...</td>\n",
       "      <td>...</td>\n",
       "      <td>...</td>\n",
       "      <td>...</td>\n",
       "      <td>...</td>\n",
       "      <td>...</td>\n",
       "    </tr>\n",
       "    <tr>\n",
       "      <th>424</th>\n",
       "      <td>42</td>\n",
       "      <td>0.204545</td>\n",
       "      <td>0.427522</td>\n",
       "      <td>0.355707</td>\n",
       "      <td>0.284146</td>\n",
       "      <td>0.225962</td>\n",
       "      <td>0.382690</td>\n",
       "      <td>0.054121</td>\n",
       "    </tr>\n",
       "    <tr>\n",
       "      <th>287</th>\n",
       "      <td>28</td>\n",
       "      <td>0.090909</td>\n",
       "      <td>0.245703</td>\n",
       "      <td>0.213537</td>\n",
       "      <td>0.224863</td>\n",
       "      <td>0.163049</td>\n",
       "      <td>0.063596</td>\n",
       "      <td>0.390659</td>\n",
       "    </tr>\n",
       "    <tr>\n",
       "      <th>99</th>\n",
       "      <td>9</td>\n",
       "      <td>0.875000</td>\n",
       "      <td>0.696887</td>\n",
       "      <td>0.652789</td>\n",
       "      <td>0.677836</td>\n",
       "      <td>0.661264</td>\n",
       "      <td>0.185147</td>\n",
       "      <td>0.607281</td>\n",
       "    </tr>\n",
       "    <tr>\n",
       "      <th>247</th>\n",
       "      <td>24</td>\n",
       "      <td>0.727273</td>\n",
       "      <td>0.745205</td>\n",
       "      <td>0.717502</td>\n",
       "      <td>0.755411</td>\n",
       "      <td>0.684753</td>\n",
       "      <td>0.239609</td>\n",
       "      <td>0.767858</td>\n",
       "    </tr>\n",
       "    <tr>\n",
       "      <th>464</th>\n",
       "      <td>46</td>\n",
       "      <td>0.659091</td>\n",
       "      <td>0.587297</td>\n",
       "      <td>0.569527</td>\n",
       "      <td>0.626597</td>\n",
       "      <td>0.557005</td>\n",
       "      <td>0.261217</td>\n",
       "      <td>0.166072</td>\n",
       "    </tr>\n",
       "  </tbody>\n",
       "</table>\n",
       "<p>400 rows × 8 columns</p>\n",
       "</div>"
      ],
      "text/plain": [
       "     seq_id  seq_time_id  seq_temporal_Close  seq_temporal_High  \\\n",
       "161      16     0.977273            0.938730           0.932455   \n",
       "491      49     0.238636            0.433749           0.384961   \n",
       "218      21     0.829545            0.732379           0.732512   \n",
       "121      12     0.897727            0.791407           0.784055   \n",
       "271      27     0.636364            0.590535           0.540625   \n",
       "..      ...          ...                 ...                ...   \n",
       "424      42     0.204545            0.427522           0.355707   \n",
       "287      28     0.090909            0.245703           0.213537   \n",
       "99        9     0.875000            0.696887           0.652789   \n",
       "247      24     0.727273            0.745205           0.717502   \n",
       "464      46     0.659091            0.587297           0.569527   \n",
       "\n",
       "     seq_temporal_Low  seq_temporal_Open  seq_temporal_Volume  \\\n",
       "161          0.917341           0.944781             0.290232   \n",
       "491          0.422686           0.378984             0.249088   \n",
       "218          0.772230           0.756044             0.120629   \n",
       "121          0.800261           0.751374             0.140203   \n",
       "271          0.587745           0.510852             0.220572   \n",
       "..                ...                ...                  ...   \n",
       "424          0.284146           0.225962             0.382690   \n",
       "287          0.224863           0.163049             0.063596   \n",
       "99           0.677836           0.661264             0.185147   \n",
       "247          0.755411           0.684753             0.239609   \n",
       "464          0.626597           0.557005             0.261217   \n",
       "\n",
       "     seq_out_Open_next  \n",
       "161           0.387225  \n",
       "491           0.246566  \n",
       "218           0.286676  \n",
       "121           0.552061  \n",
       "271           0.597390  \n",
       "..                 ...  \n",
       "424           0.054121  \n",
       "287           0.390659  \n",
       "99            0.607281  \n",
       "247           0.767858  \n",
       "464           0.166072  \n",
       "\n",
       "[400 rows x 8 columns]"
      ]
     },
     "execution_count": 14,
     "metadata": {},
     "output_type": "execute_result"
    }
   ],
   "source": [
    "train"
   ]
  },
  {
   "cell_type": "code",
   "execution_count": 13,
   "id": "fe5534cf-d166-4a0c-b7d3-f86f2fb0f751",
   "metadata": {
    "tags": []
   },
   "outputs": [],
   "source": [
    "delta = 1/ (len(data) * np.log(len(data)))"
   ]
  },
  {
   "cell_type": "code",
   "execution_count": 14,
   "id": "4a470f3b-6207-47b4-921f-5a1b36448618",
   "metadata": {
    "tags": []
   },
   "outputs": [
    {
     "name": "stderr",
     "output_type": "stream",
     "text": [
      "[2023-09-11T20:47:30.342577-0400][6672][CRITICAL] load failed: \n",
      "arfpy is not installed. Please install it with pip install arfpy.\n",
      "Please be aware that arfpy is only available for python >= 3.8.\n",
      "\n",
      "[2023-09-11T20:47:30.343581-0400][6672][CRITICAL] load failed: module 'synthcity.plugins.generic.plugin_arf' has no attribute 'plugin'\n",
      "[2023-09-11T20:47:30.343581-0400][6672][CRITICAL] module plugin_arf load failed\n",
      "[2023-09-11T20:47:31.807930-0400][6672][CRITICAL] module disabled: C:\\Users\\ma7mo\\Desktop\\synthetic_time_series\\src\\./synthcity/src\\synthcity\\plugins\\generic\\plugin_goggle.py\n",
      "[2023-09-11T20:47:31.809930-0400][6672][CRITICAL] load failed: \n",
      "GReaT is not installed. Please install it with pip install GReaT.\n",
      "Please be aware that GReaT is only available for python >= 3.9.\n",
      "\n",
      "[2023-09-11T20:47:31.810930-0400][6672][CRITICAL] load failed: module 'synthcity.plugins.generic.plugin_great' has no attribute 'plugin'\n",
      "[2023-09-11T20:47:31.810930-0400][6672][CRITICAL] module plugin_great load failed\n"
     ]
    }
   ],
   "source": [
    "syn_model_without_dp = Plugins().get(\"timegan\", dp_enabled=False)"
   ]
  },
  {
   "cell_type": "code",
   "execution_count": 15,
   "id": "9cc35756-3761-4d58-b321-8070164db7e1",
   "metadata": {
    "tags": []
   },
   "outputs": [
    {
     "name": "stderr",
     "output_type": "stream",
     "text": [
      "[2023-09-11T20:47:33.109944-0400][6672][CRITICAL] load failed: module 'synthcity.plugins.generic.plugin_arf' has no attribute 'plugin'\n",
      "[2023-09-11T20:47:33.109944-0400][6672][CRITICAL] load failed: module 'synthcity.plugins.generic.plugin_arf' has no attribute 'plugin'\n",
      "[2023-09-11T20:47:33.111939-0400][6672][CRITICAL] load failed: module 'synthcity.plugins.generic.plugin_arf' has no attribute 'plugin'\n",
      "[2023-09-11T20:47:33.111939-0400][6672][CRITICAL] load failed: module 'synthcity.plugins.generic.plugin_arf' has no attribute 'plugin'\n",
      "[2023-09-11T20:47:33.113172-0400][6672][CRITICAL] module plugin_arf load failed\n",
      "[2023-09-11T20:47:33.113172-0400][6672][CRITICAL] module plugin_arf load failed\n",
      "[2023-09-11T20:47:33.113940-0400][6672][CRITICAL] module disabled: C:\\Users\\ma7mo\\Desktop\\synthetic_time_series\\src\\./synthcity/src\\synthcity\\plugins\\generic\\plugin_goggle.py\n",
      "[2023-09-11T20:47:33.113940-0400][6672][CRITICAL] module disabled: C:\\Users\\ma7mo\\Desktop\\synthetic_time_series\\src\\./synthcity/src\\synthcity\\plugins\\generic\\plugin_goggle.py\n",
      "[2023-09-11T20:47:33.115003-0400][6672][CRITICAL] load failed: module 'synthcity.plugins.generic.plugin_great' has no attribute 'plugin'\n",
      "[2023-09-11T20:47:33.115003-0400][6672][CRITICAL] load failed: module 'synthcity.plugins.generic.plugin_great' has no attribute 'plugin'\n",
      "[2023-09-11T20:47:33.115003-0400][6672][CRITICAL] load failed: module 'synthcity.plugins.generic.plugin_great' has no attribute 'plugin'\n",
      "[2023-09-11T20:47:33.115003-0400][6672][CRITICAL] load failed: module 'synthcity.plugins.generic.plugin_great' has no attribute 'plugin'\n",
      "[2023-09-11T20:47:33.116005-0400][6672][CRITICAL] module plugin_great load failed\n",
      "[2023-09-11T20:47:33.116005-0400][6672][CRITICAL] module plugin_great load failed\n"
     ]
    }
   ],
   "source": [
    "syn_model_with_dp_eps1 = Plugins().get(\"timegan\", mode=\"DPRNN\", dp_enabled=True, n_iter=300, epsilon=1., delta = delta)"
   ]
  },
  {
   "cell_type": "code",
   "execution_count": 16,
   "id": "6903da31-091a-45a4-b01a-8e5b0dff5d7b",
   "metadata": {
    "tags": []
   },
   "outputs": [
    {
     "name": "stderr",
     "output_type": "stream",
     "text": [
      "[2023-09-11T20:47:33.141117-0400][6672][CRITICAL] load failed: module 'synthcity.plugins.generic.plugin_arf' has no attribute 'plugin'\n",
      "[2023-09-11T20:47:33.141117-0400][6672][CRITICAL] load failed: module 'synthcity.plugins.generic.plugin_arf' has no attribute 'plugin'\n",
      "[2023-09-11T20:47:33.141117-0400][6672][CRITICAL] load failed: module 'synthcity.plugins.generic.plugin_arf' has no attribute 'plugin'\n",
      "[2023-09-11T20:47:33.141117-0400][6672][CRITICAL] load failed: module 'synthcity.plugins.generic.plugin_arf' has no attribute 'plugin'\n",
      "[2023-09-11T20:47:33.142307-0400][6672][CRITICAL] module plugin_arf load failed\n",
      "[2023-09-11T20:47:33.142307-0400][6672][CRITICAL] module plugin_arf load failed\n",
      "[2023-09-11T20:47:33.143310-0400][6672][CRITICAL] module disabled: C:\\Users\\ma7mo\\Desktop\\synthetic_time_series\\src\\./synthcity/src\\synthcity\\plugins\\generic\\plugin_goggle.py\n",
      "[2023-09-11T20:47:33.143310-0400][6672][CRITICAL] module disabled: C:\\Users\\ma7mo\\Desktop\\synthetic_time_series\\src\\./synthcity/src\\synthcity\\plugins\\generic\\plugin_goggle.py\n",
      "[2023-09-11T20:47:33.144311-0400][6672][CRITICAL] load failed: module 'synthcity.plugins.generic.plugin_great' has no attribute 'plugin'\n",
      "[2023-09-11T20:47:33.144311-0400][6672][CRITICAL] load failed: module 'synthcity.plugins.generic.plugin_great' has no attribute 'plugin'\n",
      "[2023-09-11T20:47:33.145407-0400][6672][CRITICAL] load failed: module 'synthcity.plugins.generic.plugin_great' has no attribute 'plugin'\n",
      "[2023-09-11T20:47:33.145407-0400][6672][CRITICAL] load failed: module 'synthcity.plugins.generic.plugin_great' has no attribute 'plugin'\n",
      "[2023-09-11T20:47:33.146409-0400][6672][CRITICAL] module plugin_great load failed\n",
      "[2023-09-11T20:47:33.146409-0400][6672][CRITICAL] module plugin_great load failed\n"
     ]
    }
   ],
   "source": [
    "syn_model_with_dp_eps5 = Plugins().get(\"timegan\", mode=\"DPRNN\", dp_enabled=True, n_iter=300, epsilon=5., delta = delta)"
   ]
  },
  {
   "cell_type": "code",
   "execution_count": 17,
   "id": "2f40b45c-cdc6-43bf-b672-11fe129458b2",
   "metadata": {
    "tags": []
   },
   "outputs": [
    {
     "name": "stderr",
     "output_type": "stream",
     "text": [
      "[2023-09-11T20:47:33.171024-0400][6672][CRITICAL] load failed: module 'synthcity.plugins.generic.plugin_arf' has no attribute 'plugin'\n",
      "[2023-09-11T20:47:33.171024-0400][6672][CRITICAL] load failed: module 'synthcity.plugins.generic.plugin_arf' has no attribute 'plugin'\n",
      "[2023-09-11T20:47:33.171024-0400][6672][CRITICAL] load failed: module 'synthcity.plugins.generic.plugin_arf' has no attribute 'plugin'\n",
      "[2023-09-11T20:47:33.171024-0400][6672][CRITICAL] load failed: module 'synthcity.plugins.generic.plugin_arf' has no attribute 'plugin'\n",
      "[2023-09-11T20:47:33.172206-0400][6672][CRITICAL] module plugin_arf load failed\n",
      "[2023-09-11T20:47:33.172206-0400][6672][CRITICAL] module plugin_arf load failed\n",
      "[2023-09-11T20:47:33.173209-0400][6672][CRITICAL] module disabled: C:\\Users\\ma7mo\\Desktop\\synthetic_time_series\\src\\./synthcity/src\\synthcity\\plugins\\generic\\plugin_goggle.py\n",
      "[2023-09-11T20:47:33.173209-0400][6672][CRITICAL] module disabled: C:\\Users\\ma7mo\\Desktop\\synthetic_time_series\\src\\./synthcity/src\\synthcity\\plugins\\generic\\plugin_goggle.py\n",
      "[2023-09-11T20:47:33.174209-0400][6672][CRITICAL] load failed: module 'synthcity.plugins.generic.plugin_great' has no attribute 'plugin'\n",
      "[2023-09-11T20:47:33.174209-0400][6672][CRITICAL] load failed: module 'synthcity.plugins.generic.plugin_great' has no attribute 'plugin'\n",
      "[2023-09-11T20:47:33.174976-0400][6672][CRITICAL] load failed: module 'synthcity.plugins.generic.plugin_great' has no attribute 'plugin'\n",
      "[2023-09-11T20:47:33.174976-0400][6672][CRITICAL] load failed: module 'synthcity.plugins.generic.plugin_great' has no attribute 'plugin'\n",
      "[2023-09-11T20:47:33.174976-0400][6672][CRITICAL] module plugin_great load failed\n",
      "[2023-09-11T20:47:33.174976-0400][6672][CRITICAL] module plugin_great load failed\n"
     ]
    }
   ],
   "source": [
    "syn_model_with_dp_eps20 = Plugins().get(\"timegan\", mode=\"DPRNN\", dp_enabled=True, n_iter=300, epsilon=20., delta = delta)"
   ]
  },
  {
   "cell_type": "code",
   "execution_count": 18,
   "id": "b3285d5b-c23c-4340-87a6-903e4375ef9b",
   "metadata": {
    "tags": []
   },
   "outputs": [
    {
     "name": "stderr",
     "output_type": "stream",
     "text": [
      "100%|██████████████████████████████████████████████████████████████████████████████| 1000/1000 [09:11<00:00,  1.81it/s]\n"
     ]
    },
    {
     "data": {
      "text/plain": [
       "<synthcity.plugins.time_series.plugin_timegan.TimeGANPlugin at 0x1aaa42e4a00>"
      ]
     },
     "execution_count": 18,
     "metadata": {},
     "output_type": "execute_result"
    }
   ],
   "source": [
    "syn_model_without_dp.fit(data)"
   ]
  },
  {
   "cell_type": "code",
   "execution_count": 19,
   "id": "982abc55-9ab7-4922-8e61-e14b0b6bceb1",
   "metadata": {
    "tags": []
   },
   "outputs": [
    {
     "name": "stdout",
     "output_type": "stream",
     "text": [
      "Enabling DP Privacy Engine: epsilon= 1.0 delta= 0.00032182238498800495 max_grad_norm= 2.0 secure_mode= False\n"
     ]
    },
    {
     "name": "stderr",
     "output_type": "stream",
     "text": [
      "100%|████████████████████████████████████████████████████████████████████████████████| 300/300 [34:02<00:00,  6.81s/it]\n"
     ]
    },
    {
     "data": {
      "text/plain": [
       "<synthcity.plugins.time_series.plugin_timegan.TimeGANPlugin at 0x1aaa78ef0a0>"
      ]
     },
     "execution_count": 19,
     "metadata": {},
     "output_type": "execute_result"
    }
   ],
   "source": [
    "syn_model_with_dp_eps1.fit(data)"
   ]
  },
  {
   "cell_type": "code",
   "execution_count": 20,
   "id": "310207ad-75ce-4dde-ab95-4edf2fbe86c8",
   "metadata": {
    "tags": []
   },
   "outputs": [
    {
     "name": "stdout",
     "output_type": "stream",
     "text": [
      "Enabling DP Privacy Engine: epsilon= 5.0 delta= 0.00032182238498800495 max_grad_norm= 2.0 secure_mode= False\n"
     ]
    },
    {
     "name": "stderr",
     "output_type": "stream",
     "text": [
      "100%|█████████████████████████████████████████████████████████████████████████████| 300/300 [1:35:12<00:00, 19.04s/it]\n"
     ]
    },
    {
     "data": {
      "text/plain": [
       "<synthcity.plugins.time_series.plugin_timegan.TimeGANPlugin at 0x1aaa4338370>"
      ]
     },
     "execution_count": 20,
     "metadata": {},
     "output_type": "execute_result"
    }
   ],
   "source": [
    "syn_model_with_dp_eps5.fit(data)"
   ]
  },
  {
   "cell_type": "code",
   "execution_count": 21,
   "id": "0c5e7e38-095f-4d1a-8590-f31bd2a1a1cc",
   "metadata": {
    "tags": []
   },
   "outputs": [
    {
     "name": "stdout",
     "output_type": "stream",
     "text": [
      "Enabling DP Privacy Engine: epsilon= 20.0 delta= 0.00032182238498800495 max_grad_norm= 2.0 secure_mode= False\n"
     ]
    },
    {
     "name": "stderr",
     "output_type": "stream",
     "text": [
      "100%|█████████████████████████████████████████████████████████████████████████████| 300/300 [8:12:00<00:00, 98.40s/it]\n"
     ]
    },
    {
     "data": {
      "text/plain": [
       "<synthcity.plugins.time_series.plugin_timegan.TimeGANPlugin at 0x1aaa78ee9e0>"
      ]
     },
     "execution_count": 21,
     "metadata": {},
     "output_type": "execute_result"
    }
   ],
   "source": [
    "syn_model_with_dp_eps20.fit(data)"
   ]
  },
  {
   "cell_type": "code",
   "execution_count": 22,
   "id": "94bcd526-04ff-4dee-bced-d98b9fd19b42",
   "metadata": {
    "tags": []
   },
   "outputs": [],
   "source": [
    "synth_data_without_dp = syn_model_without_dp.generate(count=len(data)/10)"
   ]
  },
  {
   "cell_type": "code",
   "execution_count": 23,
   "id": "49fa174f-66d8-49ee-8bca-c2b54f3fb020",
   "metadata": {
    "tags": []
   },
   "outputs": [],
   "source": [
    "synth_data_with_dp = syn_model_with_dp_eps1.generate(count=len(data)/10)"
   ]
  },
  {
   "cell_type": "code",
   "execution_count": 24,
   "id": "3a8423e0-4051-482d-a620-121a6e440905",
   "metadata": {
    "tags": []
   },
   "outputs": [],
   "source": [
    "synth_data_with_dp_eps5 = syn_model_with_dp_eps5.generate(count=len(data)/10)"
   ]
  },
  {
   "cell_type": "code",
   "execution_count": 25,
   "id": "91d761f0-437b-43c6-a248-ce8285cbd7d7",
   "metadata": {
    "tags": []
   },
   "outputs": [],
   "source": [
    "synth_data_with_dp_eps20 = syn_model_with_dp_eps20.generate(count=len(data)/10)"
   ]
  },
  {
   "cell_type": "code",
   "execution_count": 26,
   "id": "6a84a505-3068-4d82-aed8-011ae5b6f58d",
   "metadata": {
    "tags": []
   },
   "outputs": [],
   "source": [
    "def create_sequence(dataset, seq_len):\n",
    "    sequences = []\n",
    "    labels = []\n",
    "\n",
    "\n",
    "    for index in range(0, len(dataset)//seq_len): # Selecting 50 rows at a time\n",
    "        sequences.append(dataset.iloc[index*seq_len:(index+1)*seq_len-1])\n",
    "        labels.append(dataset.iloc[(index+1)*seq_len-1][2])\n",
    "    return (np.array(sequences),np.array(labels))"
   ]
  },
  {
   "cell_type": "code",
   "execution_count": 27,
   "id": "744b087d-b32a-4a0b-9209-ec887832fdc3",
   "metadata": {
    "tags": []
   },
   "outputs": [],
   "source": [
    "def create_sequence_np(dataset, seq_len):\n",
    "    sequences = []\n",
    "    labels = []\n",
    "    for index in range(0, len(dataset)): # Selecting 50 rows at a time\n",
    "        sequences.append(dataset[index][:-1])\n",
    "        labels.append(dataset[index][-1][2])\n",
    "    return (np.array(sequences),np.array(labels))"
   ]
  },
  {
   "cell_type": "code",
   "execution_count": 28,
   "id": "b52b35ec-5016-42b1-966e-5b8a1b8618f2",
   "metadata": {
    "tags": []
   },
   "outputs": [],
   "source": [
    "class Network(nn.Module):\n",
    "    def __init__(self, dropout,\n",
    "                 input_dim=8, num_classes = 1, hidden_size = 10, **kwargs):\n",
    "\n",
    "        super(Network, self).__init__()\n",
    "\n",
    "        print(\"==> not used params in network class:\", kwargs.keys())\n",
    "\n",
    "        self.input_dim = input_dim\n",
    "        self.dropout = dropout\n",
    "        self.hidden_size = hidden_size\n",
    "\n",
    "\n",
    "        # Main part of the network\n",
    "        self.lstm_layers = nn.ModuleList()\n",
    "        self.lstm_layers.append(nn.LSTM(input_size=input_dim,hidden_size=self.hidden_size))\n",
    "        self.lstm_layers.append(nn.Dropout(p=dropout))\n",
    "        # self.lstm_layers.append(nn.LSTM(input_size=self.hidden_size,\n",
    "        #                    hidden_size=self.hidden_size))\n",
    "        # self.lstm_layers.append(nn.Dropout(p=dropout))\n",
    "        # self.lstm_layers.append(nn.LSTM(input_size=self.hidden_size,\n",
    "        #                    hidden_size=self.hidden_size))\n",
    "        # self.lstm_layers.append(nn.Dropout(p=dropout))\n",
    "        # Output layer\n",
    "        self.output_layer = nn.Linear(self.hidden_size, num_classes)\n",
    "        # self.output_activation = nn.Sigmoid()\n",
    "\n",
    "    def forward(self, X, lengths=None):\n",
    "        # Input layer\n",
    "        X = X.to(torch.float32)\n",
    "        mX = X\n",
    "        # Main part of the network\n",
    "        i = 0\n",
    "        for lstm in self.lstm_layers:\n",
    "            if i % 2 == 0:\n",
    "                output, _ = lstm(mX)\n",
    "            else:\n",
    "                output = lstm(mX)\n",
    "            mX = output\n",
    "            i += 1\n",
    "        L = output[:, -1, :]\n",
    "        # Output layer\n",
    "        y = self.output_layer(L)\n",
    "        return y\n"
   ]
  },
  {
   "cell_type": "code",
   "execution_count": 29,
   "id": "a0f448a0-040b-4bf6-9db4-2ef345388c33",
   "metadata": {
    "tags": []
   },
   "outputs": [],
   "source": [
    "def run_model(model, training_error, testing_error, X_train, y_train, X_test, y_test):\n",
    "    loss = nn.MSELoss()\n",
    "    train_loader = DataLoader(list(zip(X_train, y_train)), batch_size=1)\n",
    "    val_loader = DataLoader(list(zip(X_test, y_test)), batch_size=1, shuffle=True)\n",
    "    optimizer = optim.Adam(model.parameters(), lr=0.001, betas=(0.9, 0.999))\n",
    "    for epoch in range(0, 100):\n",
    "        model.train()\n",
    "        step_loss = []\n",
    "        for i, batch in enumerate(train_loader):\n",
    "            optimizer.zero_grad()\n",
    "            inputs, targets = batch\n",
    "            outputs = model(inputs)\n",
    "            targets = targets.reshape(tuple(outputs.shape))\n",
    "            targets = targets.to(torch.float32)\n",
    "            batch_loss = loss(outputs, targets)\n",
    "            batch_loss.backward()\n",
    "            optimizer.step()\n",
    "            step_loss.append(batch_loss.item())\n",
    "        training_error.append(np.array(step_loss).mean())\n",
    "        model.eval()\n",
    "        val_loss = 0\n",
    "        with torch.no_grad():\n",
    "            num_batches = 0\n",
    "            res = {}\n",
    "            y_true = []\n",
    "            predictions = []\n",
    "            for batch in val_loader:\n",
    "                inputs, targets = batch\n",
    "                outputs = model(inputs)\n",
    "                targets = targets.reshape(tuple(outputs.shape))\n",
    "                targets = targets.to(torch.float32)\n",
    "                batch_loss = loss(outputs, targets)\n",
    "                val_loss += batch_loss.item()\n",
    "                num_batches += 1\n",
    "            val_loss /= num_batches\n",
    "            print('Epoch [{}/{}], Step [{}/{}], Validation Batch Loss: {:.4f}'\n",
    "                    .format(epoch + 1, 100, i + 1, len(train_loader), val_loss))\n",
    "        testing_error.append(val_loss)"
   ]
  },
  {
   "cell_type": "code",
   "execution_count": 30,
   "id": "1689f004-4ea7-4c5e-a199-12f8712f4b3e",
   "metadata": {
    "tags": []
   },
   "outputs": [],
   "source": [
    "random_data = np.random.rand(40, 10, 8)"
   ]
  },
  {
   "cell_type": "code",
   "execution_count": 31,
   "id": "40f7f6b7-aa93-49f3-a23a-51f77ed88b2a",
   "metadata": {
    "tags": []
   },
   "outputs": [],
   "source": [
    "X, y = create_sequence(data.dataframe(), 10)"
   ]
  },
  {
   "cell_type": "code",
   "execution_count": 32,
   "id": "0bf6be23-8db5-4cbd-a242-cc6aae852f8c",
   "metadata": {
    "tags": []
   },
   "outputs": [],
   "source": [
    "synth_no_dp_X, synth_no_dp_y = create_sequence(synth_data_without_dp.dataframe(), 10)"
   ]
  },
  {
   "cell_type": "code",
   "execution_count": 33,
   "id": "251aa4cf-1d71-4c12-9276-abc88148c442",
   "metadata": {
    "tags": []
   },
   "outputs": [],
   "source": [
    "synth_dp_X, synth_dp_y = create_sequence(synth_data_with_dp.dataframe(), 10)"
   ]
  },
  {
   "cell_type": "code",
   "execution_count": 34,
   "id": "de83343b-9cd7-48c8-a8ec-8dca5ce9d4f9",
   "metadata": {
    "tags": []
   },
   "outputs": [],
   "source": [
    "synth_dp_eps5_X, synth_dp_eps5_y = create_sequence(synth_data_with_dp_eps5.dataframe(), 10)"
   ]
  },
  {
   "cell_type": "code",
   "execution_count": 35,
   "id": "8e75c3a6-0021-40bb-a843-16b06fad18c9",
   "metadata": {
    "tags": []
   },
   "outputs": [],
   "source": [
    "synth_dp_eps20_X, synth_dp_eps20_y = create_sequence(synth_data_with_dp_eps20.dataframe(), 10)"
   ]
  },
  {
   "cell_type": "code",
   "execution_count": 36,
   "id": "3005c959-b73d-43fd-9d0b-6e5b80658b83",
   "metadata": {
    "tags": []
   },
   "outputs": [],
   "source": [
    "random_X, random_y = create_sequence_np(random_data, 10)"
   ]
  },
  {
   "cell_type": "code",
   "execution_count": 37,
   "id": "a86fc7e1-2284-4f09-904c-c7cb35f52f64",
   "metadata": {
    "tags": []
   },
   "outputs": [],
   "source": [
    "X_train, X_test, y_train, y_test = train_test_split(X, y, test_size=0.33, random_state=42)"
   ]
  },
  {
   "cell_type": "code",
   "execution_count": 38,
   "id": "8c52fa08-e81e-4102-b319-4b0b286e555c",
   "metadata": {
    "tags": []
   },
   "outputs": [
    {
     "name": "stdout",
     "output_type": "stream",
     "text": [
      "==> not used params in network class: dict_keys([])\n",
      "Epoch [1/100], Step [33/33], Validation Batch Loss: 0.1744\n",
      "Epoch [2/100], Step [33/33], Validation Batch Loss: 0.0618\n",
      "Epoch [3/100], Step [33/33], Validation Batch Loss: 0.0368\n",
      "Epoch [4/100], Step [33/33], Validation Batch Loss: 0.0320\n",
      "Epoch [5/100], Step [33/33], Validation Batch Loss: 0.0306\n",
      "Epoch [6/100], Step [33/33], Validation Batch Loss: 0.0295\n",
      "Epoch [7/100], Step [33/33], Validation Batch Loss: 0.0282\n",
      "Epoch [8/100], Step [33/33], Validation Batch Loss: 0.0267\n",
      "Epoch [9/100], Step [33/33], Validation Batch Loss: 0.0252\n",
      "Epoch [10/100], Step [33/33], Validation Batch Loss: 0.0243\n",
      "Epoch [11/100], Step [33/33], Validation Batch Loss: 0.0235\n",
      "Epoch [12/100], Step [33/33], Validation Batch Loss: 0.0229\n",
      "Epoch [13/100], Step [33/33], Validation Batch Loss: 0.0233\n",
      "Epoch [14/100], Step [33/33], Validation Batch Loss: 0.0228\n",
      "Epoch [15/100], Step [33/33], Validation Batch Loss: 0.0210\n",
      "Epoch [16/100], Step [33/33], Validation Batch Loss: 0.0196\n",
      "Epoch [17/100], Step [33/33], Validation Batch Loss: 0.0189\n",
      "Epoch [18/100], Step [33/33], Validation Batch Loss: 0.0181\n",
      "Epoch [19/100], Step [33/33], Validation Batch Loss: 0.0174\n",
      "Epoch [20/100], Step [33/33], Validation Batch Loss: 0.0171\n",
      "Epoch [21/100], Step [33/33], Validation Batch Loss: 0.0163\n",
      "Epoch [22/100], Step [33/33], Validation Batch Loss: 0.0159\n",
      "Epoch [23/100], Step [33/33], Validation Batch Loss: 0.0153\n",
      "Epoch [24/100], Step [33/33], Validation Batch Loss: 0.0153\n",
      "Epoch [25/100], Step [33/33], Validation Batch Loss: 0.0144\n",
      "Epoch [26/100], Step [33/33], Validation Batch Loss: 0.0134\n",
      "Epoch [27/100], Step [33/33], Validation Batch Loss: 0.0128\n",
      "Epoch [28/100], Step [33/33], Validation Batch Loss: 0.0119\n",
      "Epoch [29/100], Step [33/33], Validation Batch Loss: 0.0119\n",
      "Epoch [30/100], Step [33/33], Validation Batch Loss: 0.0145\n",
      "Epoch [31/100], Step [33/33], Validation Batch Loss: 0.0107\n",
      "Epoch [32/100], Step [33/33], Validation Batch Loss: 0.0105\n",
      "Epoch [33/100], Step [33/33], Validation Batch Loss: 0.0112\n",
      "Epoch [34/100], Step [33/33], Validation Batch Loss: 0.0103\n",
      "Epoch [35/100], Step [33/33], Validation Batch Loss: 0.0103\n",
      "Epoch [36/100], Step [33/33], Validation Batch Loss: 0.0091\n",
      "Epoch [37/100], Step [33/33], Validation Batch Loss: 0.0108\n",
      "Epoch [38/100], Step [33/33], Validation Batch Loss: 0.0092\n",
      "Epoch [39/100], Step [33/33], Validation Batch Loss: 0.0091\n",
      "Epoch [40/100], Step [33/33], Validation Batch Loss: 0.0095\n",
      "Epoch [41/100], Step [33/33], Validation Batch Loss: 0.0075\n",
      "Epoch [42/100], Step [33/33], Validation Batch Loss: 0.0069\n",
      "Epoch [43/100], Step [33/33], Validation Batch Loss: 0.0072\n",
      "Epoch [44/100], Step [33/33], Validation Batch Loss: 0.0071\n",
      "Epoch [45/100], Step [33/33], Validation Batch Loss: 0.0064\n",
      "Epoch [46/100], Step [33/33], Validation Batch Loss: 0.0062\n",
      "Epoch [47/100], Step [33/33], Validation Batch Loss: 0.0059\n",
      "Epoch [48/100], Step [33/33], Validation Batch Loss: 0.0063\n",
      "Epoch [49/100], Step [33/33], Validation Batch Loss: 0.0058\n",
      "Epoch [50/100], Step [33/33], Validation Batch Loss: 0.0058\n",
      "Epoch [51/100], Step [33/33], Validation Batch Loss: 0.0053\n",
      "Epoch [52/100], Step [33/33], Validation Batch Loss: 0.0053\n",
      "Epoch [53/100], Step [33/33], Validation Batch Loss: 0.0052\n",
      "Epoch [54/100], Step [33/33], Validation Batch Loss: 0.0052\n",
      "Epoch [55/100], Step [33/33], Validation Batch Loss: 0.0058\n",
      "Epoch [56/100], Step [33/33], Validation Batch Loss: 0.0058\n",
      "Epoch [57/100], Step [33/33], Validation Batch Loss: 0.0048\n",
      "Epoch [58/100], Step [33/33], Validation Batch Loss: 0.0053\n",
      "Epoch [59/100], Step [33/33], Validation Batch Loss: 0.0053\n",
      "Epoch [60/100], Step [33/33], Validation Batch Loss: 0.0068\n",
      "Epoch [61/100], Step [33/33], Validation Batch Loss: 0.0056\n",
      "Epoch [62/100], Step [33/33], Validation Batch Loss: 0.0052\n",
      "Epoch [63/100], Step [33/33], Validation Batch Loss: 0.0059\n",
      "Epoch [64/100], Step [33/33], Validation Batch Loss: 0.0054\n",
      "Epoch [65/100], Step [33/33], Validation Batch Loss: 0.0060\n",
      "Epoch [66/100], Step [33/33], Validation Batch Loss: 0.0060\n",
      "Epoch [67/100], Step [33/33], Validation Batch Loss: 0.0060\n",
      "Epoch [68/100], Step [33/33], Validation Batch Loss: 0.0094\n",
      "Epoch [69/100], Step [33/33], Validation Batch Loss: 0.0052\n",
      "Epoch [70/100], Step [33/33], Validation Batch Loss: 0.0061\n",
      "Epoch [71/100], Step [33/33], Validation Batch Loss: 0.0051\n",
      "Epoch [72/100], Step [33/33], Validation Batch Loss: 0.0055\n",
      "Epoch [73/100], Step [33/33], Validation Batch Loss: 0.0052\n",
      "Epoch [74/100], Step [33/33], Validation Batch Loss: 0.0050\n",
      "Epoch [75/100], Step [33/33], Validation Batch Loss: 0.0069\n",
      "Epoch [76/100], Step [33/33], Validation Batch Loss: 0.0050\n",
      "Epoch [77/100], Step [33/33], Validation Batch Loss: 0.0054\n",
      "Epoch [78/100], Step [33/33], Validation Batch Loss: 0.0047\n",
      "Epoch [79/100], Step [33/33], Validation Batch Loss: 0.0071\n",
      "Epoch [80/100], Step [33/33], Validation Batch Loss: 0.0058\n",
      "Epoch [81/100], Step [33/33], Validation Batch Loss: 0.0050\n",
      "Epoch [82/100], Step [33/33], Validation Batch Loss: 0.0061\n",
      "Epoch [83/100], Step [33/33], Validation Batch Loss: 0.0048\n",
      "Epoch [84/100], Step [33/33], Validation Batch Loss: 0.0049\n",
      "Epoch [85/100], Step [33/33], Validation Batch Loss: 0.0044\n",
      "Epoch [86/100], Step [33/33], Validation Batch Loss: 0.0046\n",
      "Epoch [87/100], Step [33/33], Validation Batch Loss: 0.0050\n",
      "Epoch [88/100], Step [33/33], Validation Batch Loss: 0.0046\n",
      "Epoch [89/100], Step [33/33], Validation Batch Loss: 0.0050\n",
      "Epoch [90/100], Step [33/33], Validation Batch Loss: 0.0045\n",
      "Epoch [91/100], Step [33/33], Validation Batch Loss: 0.0049\n",
      "Epoch [92/100], Step [33/33], Validation Batch Loss: 0.0059\n",
      "Epoch [93/100], Step [33/33], Validation Batch Loss: 0.0052\n",
      "Epoch [94/100], Step [33/33], Validation Batch Loss: 0.0050\n",
      "Epoch [95/100], Step [33/33], Validation Batch Loss: 0.0052\n",
      "Epoch [96/100], Step [33/33], Validation Batch Loss: 0.0051\n",
      "Epoch [97/100], Step [33/33], Validation Batch Loss: 0.0043\n",
      "Epoch [98/100], Step [33/33], Validation Batch Loss: 0.0045\n",
      "Epoch [99/100], Step [33/33], Validation Batch Loss: 0.0045\n",
      "Epoch [100/100], Step [33/33], Validation Batch Loss: 0.0048\n"
     ]
    }
   ],
   "source": [
    "model = Network(0.2)\n",
    "trainingEpoch_loss = []\n",
    "validationEpoch_loss = []\n",
    "run_model(model, trainingEpoch_loss, validationEpoch_loss, X_train, y_train, X_test, y_test)"
   ]
  },
  {
   "cell_type": "code",
   "execution_count": 39,
   "id": "c06d224f-30eb-419c-a29b-148e33d09147",
   "metadata": {
    "tags": []
   },
   "outputs": [
    {
     "name": "stdout",
     "output_type": "stream",
     "text": [
      "==> not used params in network class: dict_keys([])\n",
      "Epoch [1/100], Step [50/50], Validation Batch Loss: 0.3832\n",
      "Epoch [2/100], Step [50/50], Validation Batch Loss: 0.1641\n",
      "Epoch [3/100], Step [50/50], Validation Batch Loss: 0.0739\n",
      "Epoch [4/100], Step [50/50], Validation Batch Loss: 0.0662\n",
      "Epoch [5/100], Step [50/50], Validation Batch Loss: 0.0597\n",
      "Epoch [6/100], Step [50/50], Validation Batch Loss: 0.0531\n",
      "Epoch [7/100], Step [50/50], Validation Batch Loss: 0.0506\n",
      "Epoch [8/100], Step [50/50], Validation Batch Loss: 0.0503\n",
      "Epoch [9/100], Step [50/50], Validation Batch Loss: 0.0555\n",
      "Epoch [10/100], Step [50/50], Validation Batch Loss: 0.0502\n",
      "Epoch [11/100], Step [50/50], Validation Batch Loss: 0.0472\n",
      "Epoch [12/100], Step [50/50], Validation Batch Loss: 0.0504\n",
      "Epoch [13/100], Step [50/50], Validation Batch Loss: 0.0491\n",
      "Epoch [14/100], Step [50/50], Validation Batch Loss: 0.0461\n",
      "Epoch [15/100], Step [50/50], Validation Batch Loss: 0.0482\n",
      "Epoch [16/100], Step [50/50], Validation Batch Loss: 0.0524\n",
      "Epoch [17/100], Step [50/50], Validation Batch Loss: 0.0378\n",
      "Epoch [18/100], Step [50/50], Validation Batch Loss: 0.0460\n",
      "Epoch [19/100], Step [50/50], Validation Batch Loss: 0.0442\n",
      "Epoch [20/100], Step [50/50], Validation Batch Loss: 0.0442\n",
      "Epoch [21/100], Step [50/50], Validation Batch Loss: 0.0519\n",
      "Epoch [22/100], Step [50/50], Validation Batch Loss: 0.0506\n",
      "Epoch [23/100], Step [50/50], Validation Batch Loss: 0.0434\n",
      "Epoch [24/100], Step [50/50], Validation Batch Loss: 0.0464\n",
      "Epoch [25/100], Step [50/50], Validation Batch Loss: 0.0473\n",
      "Epoch [26/100], Step [50/50], Validation Batch Loss: 0.0529\n",
      "Epoch [27/100], Step [50/50], Validation Batch Loss: 0.0482\n",
      "Epoch [28/100], Step [50/50], Validation Batch Loss: 0.0457\n",
      "Epoch [29/100], Step [50/50], Validation Batch Loss: 0.0474\n",
      "Epoch [30/100], Step [50/50], Validation Batch Loss: 0.0467\n",
      "Epoch [31/100], Step [50/50], Validation Batch Loss: 0.0439\n",
      "Epoch [32/100], Step [50/50], Validation Batch Loss: 0.0466\n",
      "Epoch [33/100], Step [50/50], Validation Batch Loss: 0.0457\n",
      "Epoch [34/100], Step [50/50], Validation Batch Loss: 0.0486\n",
      "Epoch [35/100], Step [50/50], Validation Batch Loss: 0.0508\n",
      "Epoch [36/100], Step [50/50], Validation Batch Loss: 0.0504\n",
      "Epoch [37/100], Step [50/50], Validation Batch Loss: 0.0441\n",
      "Epoch [38/100], Step [50/50], Validation Batch Loss: 0.0490\n",
      "Epoch [39/100], Step [50/50], Validation Batch Loss: 0.0518\n",
      "Epoch [40/100], Step [50/50], Validation Batch Loss: 0.0457\n",
      "Epoch [41/100], Step [50/50], Validation Batch Loss: 0.0559\n",
      "Epoch [42/100], Step [50/50], Validation Batch Loss: 0.0484\n",
      "Epoch [43/100], Step [50/50], Validation Batch Loss: 0.0468\n",
      "Epoch [44/100], Step [50/50], Validation Batch Loss: 0.0486\n",
      "Epoch [45/100], Step [50/50], Validation Batch Loss: 0.0519\n",
      "Epoch [46/100], Step [50/50], Validation Batch Loss: 0.0447\n",
      "Epoch [47/100], Step [50/50], Validation Batch Loss: 0.0494\n",
      "Epoch [48/100], Step [50/50], Validation Batch Loss: 0.0476\n",
      "Epoch [49/100], Step [50/50], Validation Batch Loss: 0.0495\n",
      "Epoch [50/100], Step [50/50], Validation Batch Loss: 0.0471\n",
      "Epoch [51/100], Step [50/50], Validation Batch Loss: 0.0515\n",
      "Epoch [52/100], Step [50/50], Validation Batch Loss: 0.0506\n",
      "Epoch [53/100], Step [50/50], Validation Batch Loss: 0.0479\n",
      "Epoch [54/100], Step [50/50], Validation Batch Loss: 0.0480\n",
      "Epoch [55/100], Step [50/50], Validation Batch Loss: 0.0508\n",
      "Epoch [56/100], Step [50/50], Validation Batch Loss: 0.0514\n",
      "Epoch [57/100], Step [50/50], Validation Batch Loss: 0.0496\n",
      "Epoch [58/100], Step [50/50], Validation Batch Loss: 0.0530\n",
      "Epoch [59/100], Step [50/50], Validation Batch Loss: 0.0494\n",
      "Epoch [60/100], Step [50/50], Validation Batch Loss: 0.0473\n",
      "Epoch [61/100], Step [50/50], Validation Batch Loss: 0.0504\n",
      "Epoch [62/100], Step [50/50], Validation Batch Loss: 0.0580\n",
      "Epoch [63/100], Step [50/50], Validation Batch Loss: 0.0519\n",
      "Epoch [64/100], Step [50/50], Validation Batch Loss: 0.0525\n",
      "Epoch [65/100], Step [50/50], Validation Batch Loss: 0.0477\n",
      "Epoch [66/100], Step [50/50], Validation Batch Loss: 0.0531\n",
      "Epoch [67/100], Step [50/50], Validation Batch Loss: 0.0499\n",
      "Epoch [68/100], Step [50/50], Validation Batch Loss: 0.0491\n",
      "Epoch [69/100], Step [50/50], Validation Batch Loss: 0.0551\n",
      "Epoch [70/100], Step [50/50], Validation Batch Loss: 0.0533\n",
      "Epoch [71/100], Step [50/50], Validation Batch Loss: 0.0512\n",
      "Epoch [72/100], Step [50/50], Validation Batch Loss: 0.0526\n",
      "Epoch [73/100], Step [50/50], Validation Batch Loss: 0.0536\n",
      "Epoch [74/100], Step [50/50], Validation Batch Loss: 0.0499\n",
      "Epoch [75/100], Step [50/50], Validation Batch Loss: 0.0515\n",
      "Epoch [76/100], Step [50/50], Validation Batch Loss: 0.0518\n",
      "Epoch [77/100], Step [50/50], Validation Batch Loss: 0.0512\n",
      "Epoch [78/100], Step [50/50], Validation Batch Loss: 0.0513\n",
      "Epoch [79/100], Step [50/50], Validation Batch Loss: 0.0518\n",
      "Epoch [80/100], Step [50/50], Validation Batch Loss: 0.0538\n",
      "Epoch [81/100], Step [50/50], Validation Batch Loss: 0.0504\n",
      "Epoch [82/100], Step [50/50], Validation Batch Loss: 0.0515\n",
      "Epoch [83/100], Step [50/50], Validation Batch Loss: 0.0513\n",
      "Epoch [84/100], Step [50/50], Validation Batch Loss: 0.0560\n",
      "Epoch [85/100], Step [50/50], Validation Batch Loss: 0.0537\n",
      "Epoch [86/100], Step [50/50], Validation Batch Loss: 0.0536\n",
      "Epoch [87/100], Step [50/50], Validation Batch Loss: 0.0545\n",
      "Epoch [88/100], Step [50/50], Validation Batch Loss: 0.0537\n",
      "Epoch [89/100], Step [50/50], Validation Batch Loss: 0.0526\n",
      "Epoch [90/100], Step [50/50], Validation Batch Loss: 0.0523\n",
      "Epoch [91/100], Step [50/50], Validation Batch Loss: 0.0560\n",
      "Epoch [92/100], Step [50/50], Validation Batch Loss: 0.0544\n",
      "Epoch [93/100], Step [50/50], Validation Batch Loss: 0.0535\n",
      "Epoch [94/100], Step [50/50], Validation Batch Loss: 0.0528\n",
      "Epoch [95/100], Step [50/50], Validation Batch Loss: 0.0552\n",
      "Epoch [96/100], Step [50/50], Validation Batch Loss: 0.0539\n",
      "Epoch [97/100], Step [50/50], Validation Batch Loss: 0.0533\n",
      "Epoch [98/100], Step [50/50], Validation Batch Loss: 0.0534\n",
      "Epoch [99/100], Step [50/50], Validation Batch Loss: 0.0560\n",
      "Epoch [100/100], Step [50/50], Validation Batch Loss: 0.0560\n"
     ]
    }
   ],
   "source": [
    "synth_no_dp_model = Network(0.2)\n",
    "trainingEpoch_no_dp_loss = []\n",
    "validationEpoch_no_dp_loss = []\n",
    "run_model(synth_no_dp_model, trainingEpoch_no_dp_loss, validationEpoch_no_dp_loss, synth_no_dp_X, synth_no_dp_y, X_test, y_test)"
   ]
  },
  {
   "cell_type": "code",
   "execution_count": 40,
   "id": "880a0bd9-6370-4df2-ae00-ace9467e644a",
   "metadata": {},
   "outputs": [
    {
     "name": "stdout",
     "output_type": "stream",
     "text": [
      "==> not used params in network class: dict_keys([])\n",
      "Epoch [1/100], Step [49/49], Validation Batch Loss: 0.2204\n",
      "Epoch [2/100], Step [49/49], Validation Batch Loss: 0.0858\n",
      "Epoch [3/100], Step [49/49], Validation Batch Loss: 0.0576\n",
      "Epoch [4/100], Step [49/49], Validation Batch Loss: 0.0573\n",
      "Epoch [5/100], Step [49/49], Validation Batch Loss: 0.0592\n",
      "Epoch [6/100], Step [49/49], Validation Batch Loss: 0.0530\n",
      "Epoch [7/100], Step [49/49], Validation Batch Loss: 0.0677\n",
      "Epoch [8/100], Step [49/49], Validation Batch Loss: 0.0572\n",
      "Epoch [9/100], Step [49/49], Validation Batch Loss: 0.0526\n",
      "Epoch [10/100], Step [49/49], Validation Batch Loss: 0.0495\n",
      "Epoch [11/100], Step [49/49], Validation Batch Loss: 0.0510\n",
      "Epoch [12/100], Step [49/49], Validation Batch Loss: 0.0485\n",
      "Epoch [13/100], Step [49/49], Validation Batch Loss: 0.0486\n",
      "Epoch [14/100], Step [49/49], Validation Batch Loss: 0.0481\n",
      "Epoch [15/100], Step [49/49], Validation Batch Loss: 0.0460\n",
      "Epoch [16/100], Step [49/49], Validation Batch Loss: 0.0412\n",
      "Epoch [17/100], Step [49/49], Validation Batch Loss: 0.0454\n",
      "Epoch [18/100], Step [49/49], Validation Batch Loss: 0.0454\n",
      "Epoch [19/100], Step [49/49], Validation Batch Loss: 0.0479\n",
      "Epoch [20/100], Step [49/49], Validation Batch Loss: 0.0426\n",
      "Epoch [21/100], Step [49/49], Validation Batch Loss: 0.0408\n",
      "Epoch [22/100], Step [49/49], Validation Batch Loss: 0.0407\n",
      "Epoch [23/100], Step [49/49], Validation Batch Loss: 0.0497\n",
      "Epoch [24/100], Step [49/49], Validation Batch Loss: 0.0447\n",
      "Epoch [25/100], Step [49/49], Validation Batch Loss: 0.0421\n",
      "Epoch [26/100], Step [49/49], Validation Batch Loss: 0.0439\n",
      "Epoch [27/100], Step [49/49], Validation Batch Loss: 0.0459\n",
      "Epoch [28/100], Step [49/49], Validation Batch Loss: 0.0418\n",
      "Epoch [29/100], Step [49/49], Validation Batch Loss: 0.0467\n",
      "Epoch [30/100], Step [49/49], Validation Batch Loss: 0.0475\n",
      "Epoch [31/100], Step [49/49], Validation Batch Loss: 0.0431\n",
      "Epoch [32/100], Step [49/49], Validation Batch Loss: 0.0417\n",
      "Epoch [33/100], Step [49/49], Validation Batch Loss: 0.0428\n",
      "Epoch [34/100], Step [49/49], Validation Batch Loss: 0.0465\n",
      "Epoch [35/100], Step [49/49], Validation Batch Loss: 0.0470\n",
      "Epoch [36/100], Step [49/49], Validation Batch Loss: 0.0454\n",
      "Epoch [37/100], Step [49/49], Validation Batch Loss: 0.0515\n",
      "Epoch [38/100], Step [49/49], Validation Batch Loss: 0.0455\n",
      "Epoch [39/100], Step [49/49], Validation Batch Loss: 0.0453\n",
      "Epoch [40/100], Step [49/49], Validation Batch Loss: 0.0397\n",
      "Epoch [41/100], Step [49/49], Validation Batch Loss: 0.0466\n",
      "Epoch [42/100], Step [49/49], Validation Batch Loss: 0.0422\n",
      "Epoch [43/100], Step [49/49], Validation Batch Loss: 0.0415\n",
      "Epoch [44/100], Step [49/49], Validation Batch Loss: 0.0459\n",
      "Epoch [45/100], Step [49/49], Validation Batch Loss: 0.0472\n",
      "Epoch [46/100], Step [49/49], Validation Batch Loss: 0.0441\n",
      "Epoch [47/100], Step [49/49], Validation Batch Loss: 0.0416\n",
      "Epoch [48/100], Step [49/49], Validation Batch Loss: 0.0370\n",
      "Epoch [49/100], Step [49/49], Validation Batch Loss: 0.0446\n",
      "Epoch [50/100], Step [49/49], Validation Batch Loss: 0.0428\n",
      "Epoch [51/100], Step [49/49], Validation Batch Loss: 0.0437\n",
      "Epoch [52/100], Step [49/49], Validation Batch Loss: 0.0476\n",
      "Epoch [53/100], Step [49/49], Validation Batch Loss: 0.0398\n",
      "Epoch [54/100], Step [49/49], Validation Batch Loss: 0.0492\n",
      "Epoch [55/100], Step [49/49], Validation Batch Loss: 0.0478\n",
      "Epoch [56/100], Step [49/49], Validation Batch Loss: 0.0445\n",
      "Epoch [57/100], Step [49/49], Validation Batch Loss: 0.0449\n",
      "Epoch [58/100], Step [49/49], Validation Batch Loss: 0.0461\n",
      "Epoch [59/100], Step [49/49], Validation Batch Loss: 0.0552\n",
      "Epoch [60/100], Step [49/49], Validation Batch Loss: 0.0458\n",
      "Epoch [61/100], Step [49/49], Validation Batch Loss: 0.0495\n",
      "Epoch [62/100], Step [49/49], Validation Batch Loss: 0.0502\n",
      "Epoch [63/100], Step [49/49], Validation Batch Loss: 0.0458\n",
      "Epoch [64/100], Step [49/49], Validation Batch Loss: 0.0434\n",
      "Epoch [65/100], Step [49/49], Validation Batch Loss: 0.0477\n",
      "Epoch [66/100], Step [49/49], Validation Batch Loss: 0.0437\n",
      "Epoch [67/100], Step [49/49], Validation Batch Loss: 0.0484\n",
      "Epoch [68/100], Step [49/49], Validation Batch Loss: 0.0509\n",
      "Epoch [69/100], Step [49/49], Validation Batch Loss: 0.0457\n",
      "Epoch [70/100], Step [49/49], Validation Batch Loss: 0.0461\n",
      "Epoch [71/100], Step [49/49], Validation Batch Loss: 0.0527\n",
      "Epoch [72/100], Step [49/49], Validation Batch Loss: 0.0511\n",
      "Epoch [73/100], Step [49/49], Validation Batch Loss: 0.0472\n",
      "Epoch [74/100], Step [49/49], Validation Batch Loss: 0.0487\n",
      "Epoch [75/100], Step [49/49], Validation Batch Loss: 0.0459\n",
      "Epoch [76/100], Step [49/49], Validation Batch Loss: 0.0491\n",
      "Epoch [77/100], Step [49/49], Validation Batch Loss: 0.0475\n",
      "Epoch [78/100], Step [49/49], Validation Batch Loss: 0.0484\n",
      "Epoch [79/100], Step [49/49], Validation Batch Loss: 0.0464\n",
      "Epoch [80/100], Step [49/49], Validation Batch Loss: 0.0494\n",
      "Epoch [81/100], Step [49/49], Validation Batch Loss: 0.0500\n",
      "Epoch [82/100], Step [49/49], Validation Batch Loss: 0.0454\n",
      "Epoch [83/100], Step [49/49], Validation Batch Loss: 0.0465\n",
      "Epoch [84/100], Step [49/49], Validation Batch Loss: 0.0445\n",
      "Epoch [85/100], Step [49/49], Validation Batch Loss: 0.0492\n",
      "Epoch [86/100], Step [49/49], Validation Batch Loss: 0.0446\n",
      "Epoch [87/100], Step [49/49], Validation Batch Loss: 0.0482\n",
      "Epoch [88/100], Step [49/49], Validation Batch Loss: 0.0459\n",
      "Epoch [89/100], Step [49/49], Validation Batch Loss: 0.0466\n",
      "Epoch [90/100], Step [49/49], Validation Batch Loss: 0.0464\n",
      "Epoch [91/100], Step [49/49], Validation Batch Loss: 0.0473\n",
      "Epoch [92/100], Step [49/49], Validation Batch Loss: 0.0490\n",
      "Epoch [93/100], Step [49/49], Validation Batch Loss: 0.0518\n",
      "Epoch [94/100], Step [49/49], Validation Batch Loss: 0.0498\n",
      "Epoch [95/100], Step [49/49], Validation Batch Loss: 0.0477\n",
      "Epoch [96/100], Step [49/49], Validation Batch Loss: 0.0457\n",
      "Epoch [97/100], Step [49/49], Validation Batch Loss: 0.0528\n",
      "Epoch [98/100], Step [49/49], Validation Batch Loss: 0.0475\n",
      "Epoch [99/100], Step [49/49], Validation Batch Loss: 0.0480\n",
      "Epoch [100/100], Step [49/49], Validation Batch Loss: 0.0478\n"
     ]
    }
   ],
   "source": [
    "synth_dp_model = Network(0.2)\n",
    "trainingEpoch_dp_loss = []\n",
    "validationEpoch_dp_loss = []\n",
    "run_model(synth_dp_model, trainingEpoch_dp_loss, validationEpoch_dp_loss, synth_dp_X, synth_dp_y, X_test, y_test)"
   ]
  },
  {
   "cell_type": "code",
   "execution_count": 41,
   "id": "d55840bc-eac4-49af-a4cf-f2fc5a4f91a2",
   "metadata": {
    "tags": []
   },
   "outputs": [
    {
     "name": "stdout",
     "output_type": "stream",
     "text": [
      "==> not used params in network class: dict_keys([])\n",
      "Epoch [1/100], Step [50/50], Validation Batch Loss: 0.1437\n",
      "Epoch [2/100], Step [50/50], Validation Batch Loss: 0.0542\n",
      "Epoch [3/100], Step [50/50], Validation Batch Loss: 0.0339\n",
      "Epoch [4/100], Step [50/50], Validation Batch Loss: 0.0339\n",
      "Epoch [5/100], Step [50/50], Validation Batch Loss: 0.0356\n",
      "Epoch [6/100], Step [50/50], Validation Batch Loss: 0.0362\n",
      "Epoch [7/100], Step [50/50], Validation Batch Loss: 0.0403\n",
      "Epoch [8/100], Step [50/50], Validation Batch Loss: 0.0384\n",
      "Epoch [9/100], Step [50/50], Validation Batch Loss: 0.0369\n",
      "Epoch [10/100], Step [50/50], Validation Batch Loss: 0.0362\n",
      "Epoch [11/100], Step [50/50], Validation Batch Loss: 0.0367\n",
      "Epoch [12/100], Step [50/50], Validation Batch Loss: 0.0382\n",
      "Epoch [13/100], Step [50/50], Validation Batch Loss: 0.0370\n",
      "Epoch [14/100], Step [50/50], Validation Batch Loss: 0.0364\n",
      "Epoch [15/100], Step [50/50], Validation Batch Loss: 0.0389\n",
      "Epoch [16/100], Step [50/50], Validation Batch Loss: 0.0395\n",
      "Epoch [17/100], Step [50/50], Validation Batch Loss: 0.0381\n",
      "Epoch [18/100], Step [50/50], Validation Batch Loss: 0.0397\n",
      "Epoch [19/100], Step [50/50], Validation Batch Loss: 0.0376\n",
      "Epoch [20/100], Step [50/50], Validation Batch Loss: 0.0391\n",
      "Epoch [21/100], Step [50/50], Validation Batch Loss: 0.0401\n",
      "Epoch [22/100], Step [50/50], Validation Batch Loss: 0.0377\n",
      "Epoch [23/100], Step [50/50], Validation Batch Loss: 0.0404\n",
      "Epoch [24/100], Step [50/50], Validation Batch Loss: 0.0397\n",
      "Epoch [25/100], Step [50/50], Validation Batch Loss: 0.0402\n",
      "Epoch [26/100], Step [50/50], Validation Batch Loss: 0.0409\n",
      "Epoch [27/100], Step [50/50], Validation Batch Loss: 0.0392\n",
      "Epoch [28/100], Step [50/50], Validation Batch Loss: 0.0412\n",
      "Epoch [29/100], Step [50/50], Validation Batch Loss: 0.0422\n",
      "Epoch [30/100], Step [50/50], Validation Batch Loss: 0.0405\n",
      "Epoch [31/100], Step [50/50], Validation Batch Loss: 0.0422\n",
      "Epoch [32/100], Step [50/50], Validation Batch Loss: 0.0405\n",
      "Epoch [33/100], Step [50/50], Validation Batch Loss: 0.0427\n",
      "Epoch [34/100], Step [50/50], Validation Batch Loss: 0.0426\n",
      "Epoch [35/100], Step [50/50], Validation Batch Loss: 0.0423\n",
      "Epoch [36/100], Step [50/50], Validation Batch Loss: 0.0453\n",
      "Epoch [37/100], Step [50/50], Validation Batch Loss: 0.0425\n",
      "Epoch [38/100], Step [50/50], Validation Batch Loss: 0.0431\n",
      "Epoch [39/100], Step [50/50], Validation Batch Loss: 0.0421\n",
      "Epoch [40/100], Step [50/50], Validation Batch Loss: 0.0442\n",
      "Epoch [41/100], Step [50/50], Validation Batch Loss: 0.0434\n",
      "Epoch [42/100], Step [50/50], Validation Batch Loss: 0.0437\n",
      "Epoch [43/100], Step [50/50], Validation Batch Loss: 0.0442\n",
      "Epoch [44/100], Step [50/50], Validation Batch Loss: 0.0441\n",
      "Epoch [45/100], Step [50/50], Validation Batch Loss: 0.0434\n",
      "Epoch [46/100], Step [50/50], Validation Batch Loss: 0.0435\n",
      "Epoch [47/100], Step [50/50], Validation Batch Loss: 0.0444\n",
      "Epoch [48/100], Step [50/50], Validation Batch Loss: 0.0449\n",
      "Epoch [49/100], Step [50/50], Validation Batch Loss: 0.0450\n",
      "Epoch [50/100], Step [50/50], Validation Batch Loss: 0.0440\n",
      "Epoch [51/100], Step [50/50], Validation Batch Loss: 0.0453\n",
      "Epoch [52/100], Step [50/50], Validation Batch Loss: 0.0452\n",
      "Epoch [53/100], Step [50/50], Validation Batch Loss: 0.0457\n",
      "Epoch [54/100], Step [50/50], Validation Batch Loss: 0.0455\n",
      "Epoch [55/100], Step [50/50], Validation Batch Loss: 0.0441\n",
      "Epoch [56/100], Step [50/50], Validation Batch Loss: 0.0471\n",
      "Epoch [57/100], Step [50/50], Validation Batch Loss: 0.0453\n",
      "Epoch [58/100], Step [50/50], Validation Batch Loss: 0.0457\n",
      "Epoch [59/100], Step [50/50], Validation Batch Loss: 0.0454\n",
      "Epoch [60/100], Step [50/50], Validation Batch Loss: 0.0461\n",
      "Epoch [61/100], Step [50/50], Validation Batch Loss: 0.0452\n",
      "Epoch [62/100], Step [50/50], Validation Batch Loss: 0.0460\n",
      "Epoch [63/100], Step [50/50], Validation Batch Loss: 0.0460\n",
      "Epoch [64/100], Step [50/50], Validation Batch Loss: 0.0465\n",
      "Epoch [65/100], Step [50/50], Validation Batch Loss: 0.0461\n",
      "Epoch [66/100], Step [50/50], Validation Batch Loss: 0.0464\n",
      "Epoch [67/100], Step [50/50], Validation Batch Loss: 0.0463\n",
      "Epoch [68/100], Step [50/50], Validation Batch Loss: 0.0462\n",
      "Epoch [69/100], Step [50/50], Validation Batch Loss: 0.0457\n",
      "Epoch [70/100], Step [50/50], Validation Batch Loss: 0.0463\n",
      "Epoch [71/100], Step [50/50], Validation Batch Loss: 0.0468\n",
      "Epoch [72/100], Step [50/50], Validation Batch Loss: 0.0463\n",
      "Epoch [73/100], Step [50/50], Validation Batch Loss: 0.0460\n",
      "Epoch [74/100], Step [50/50], Validation Batch Loss: 0.0462\n",
      "Epoch [75/100], Step [50/50], Validation Batch Loss: 0.0467\n",
      "Epoch [76/100], Step [50/50], Validation Batch Loss: 0.0471\n",
      "Epoch [77/100], Step [50/50], Validation Batch Loss: 0.0467\n",
      "Epoch [78/100], Step [50/50], Validation Batch Loss: 0.0465\n",
      "Epoch [79/100], Step [50/50], Validation Batch Loss: 0.0478\n",
      "Epoch [80/100], Step [50/50], Validation Batch Loss: 0.0470\n",
      "Epoch [81/100], Step [50/50], Validation Batch Loss: 0.0477\n",
      "Epoch [82/100], Step [50/50], Validation Batch Loss: 0.0470\n",
      "Epoch [83/100], Step [50/50], Validation Batch Loss: 0.0474\n",
      "Epoch [84/100], Step [50/50], Validation Batch Loss: 0.0477\n",
      "Epoch [85/100], Step [50/50], Validation Batch Loss: 0.0486\n",
      "Epoch [86/100], Step [50/50], Validation Batch Loss: 0.0475\n",
      "Epoch [87/100], Step [50/50], Validation Batch Loss: 0.0467\n",
      "Epoch [88/100], Step [50/50], Validation Batch Loss: 0.0468\n",
      "Epoch [89/100], Step [50/50], Validation Batch Loss: 0.0467\n",
      "Epoch [90/100], Step [50/50], Validation Batch Loss: 0.0468\n",
      "Epoch [91/100], Step [50/50], Validation Batch Loss: 0.0470\n",
      "Epoch [92/100], Step [50/50], Validation Batch Loss: 0.0468\n",
      "Epoch [93/100], Step [50/50], Validation Batch Loss: 0.0467\n",
      "Epoch [94/100], Step [50/50], Validation Batch Loss: 0.0472\n",
      "Epoch [95/100], Step [50/50], Validation Batch Loss: 0.0478\n",
      "Epoch [96/100], Step [50/50], Validation Batch Loss: 0.0469\n",
      "Epoch [97/100], Step [50/50], Validation Batch Loss: 0.0474\n",
      "Epoch [98/100], Step [50/50], Validation Batch Loss: 0.0472\n",
      "Epoch [99/100], Step [50/50], Validation Batch Loss: 0.0477\n",
      "Epoch [100/100], Step [50/50], Validation Batch Loss: 0.0480\n"
     ]
    }
   ],
   "source": [
    "synth_dp_eps5_model = Network(0.2)\n",
    "trainingEpoch_dp_eps5_loss = []\n",
    "validationEpoch_dp_eps5_loss = []\n",
    "run_model(synth_dp_eps5_model, trainingEpoch_dp_eps5_loss, validationEpoch_dp_eps5_loss, synth_dp_eps5_X, synth_dp_eps5_y, X_test, y_test)"
   ]
  },
  {
   "cell_type": "code",
   "execution_count": 42,
   "id": "b0dfde13-a5cf-4981-996a-26951366f0f6",
   "metadata": {
    "tags": []
   },
   "outputs": [
    {
     "name": "stdout",
     "output_type": "stream",
     "text": [
      "==> not used params in network class: dict_keys([])\n",
      "Epoch [1/100], Step [50/50], Validation Batch Loss: 0.0704\n",
      "Epoch [2/100], Step [50/50], Validation Batch Loss: 0.0444\n",
      "Epoch [3/100], Step [50/50], Validation Batch Loss: 0.0469\n",
      "Epoch [4/100], Step [50/50], Validation Batch Loss: 0.0469\n",
      "Epoch [5/100], Step [50/50], Validation Batch Loss: 0.0465\n",
      "Epoch [6/100], Step [50/50], Validation Batch Loss: 0.0474\n",
      "Epoch [7/100], Step [50/50], Validation Batch Loss: 0.0469\n",
      "Epoch [8/100], Step [50/50], Validation Batch Loss: 0.0457\n",
      "Epoch [9/100], Step [50/50], Validation Batch Loss: 0.0459\n",
      "Epoch [10/100], Step [50/50], Validation Batch Loss: 0.0466\n",
      "Epoch [11/100], Step [50/50], Validation Batch Loss: 0.0463\n",
      "Epoch [12/100], Step [50/50], Validation Batch Loss: 0.0459\n",
      "Epoch [13/100], Step [50/50], Validation Batch Loss: 0.0448\n",
      "Epoch [14/100], Step [50/50], Validation Batch Loss: 0.0444\n",
      "Epoch [15/100], Step [50/50], Validation Batch Loss: 0.0454\n",
      "Epoch [16/100], Step [50/50], Validation Batch Loss: 0.0450\n",
      "Epoch [17/100], Step [50/50], Validation Batch Loss: 0.0447\n",
      "Epoch [18/100], Step [50/50], Validation Batch Loss: 0.0468\n",
      "Epoch [19/100], Step [50/50], Validation Batch Loss: 0.0457\n",
      "Epoch [20/100], Step [50/50], Validation Batch Loss: 0.0447\n",
      "Epoch [21/100], Step [50/50], Validation Batch Loss: 0.0454\n",
      "Epoch [22/100], Step [50/50], Validation Batch Loss: 0.0464\n",
      "Epoch [23/100], Step [50/50], Validation Batch Loss: 0.0482\n",
      "Epoch [24/100], Step [50/50], Validation Batch Loss: 0.0442\n",
      "Epoch [25/100], Step [50/50], Validation Batch Loss: 0.0440\n",
      "Epoch [26/100], Step [50/50], Validation Batch Loss: 0.0453\n",
      "Epoch [27/100], Step [50/50], Validation Batch Loss: 0.0452\n",
      "Epoch [28/100], Step [50/50], Validation Batch Loss: 0.0458\n",
      "Epoch [29/100], Step [50/50], Validation Batch Loss: 0.0445\n",
      "Epoch [30/100], Step [50/50], Validation Batch Loss: 0.0462\n",
      "Epoch [31/100], Step [50/50], Validation Batch Loss: 0.0464\n",
      "Epoch [32/100], Step [50/50], Validation Batch Loss: 0.0461\n",
      "Epoch [33/100], Step [50/50], Validation Batch Loss: 0.0454\n",
      "Epoch [34/100], Step [50/50], Validation Batch Loss: 0.0468\n",
      "Epoch [35/100], Step [50/50], Validation Batch Loss: 0.0469\n",
      "Epoch [36/100], Step [50/50], Validation Batch Loss: 0.0465\n",
      "Epoch [37/100], Step [50/50], Validation Batch Loss: 0.0468\n",
      "Epoch [38/100], Step [50/50], Validation Batch Loss: 0.0469\n",
      "Epoch [39/100], Step [50/50], Validation Batch Loss: 0.0479\n",
      "Epoch [40/100], Step [50/50], Validation Batch Loss: 0.0496\n",
      "Epoch [41/100], Step [50/50], Validation Batch Loss: 0.0476\n",
      "Epoch [42/100], Step [50/50], Validation Batch Loss: 0.0461\n",
      "Epoch [43/100], Step [50/50], Validation Batch Loss: 0.0473\n",
      "Epoch [44/100], Step [50/50], Validation Batch Loss: 0.0483\n",
      "Epoch [45/100], Step [50/50], Validation Batch Loss: 0.0485\n",
      "Epoch [46/100], Step [50/50], Validation Batch Loss: 0.0468\n",
      "Epoch [47/100], Step [50/50], Validation Batch Loss: 0.0482\n",
      "Epoch [48/100], Step [50/50], Validation Batch Loss: 0.0482\n",
      "Epoch [49/100], Step [50/50], Validation Batch Loss: 0.0477\n",
      "Epoch [50/100], Step [50/50], Validation Batch Loss: 0.0474\n",
      "Epoch [51/100], Step [50/50], Validation Batch Loss: 0.0480\n",
      "Epoch [52/100], Step [50/50], Validation Batch Loss: 0.0473\n",
      "Epoch [53/100], Step [50/50], Validation Batch Loss: 0.0464\n",
      "Epoch [54/100], Step [50/50], Validation Batch Loss: 0.0474\n",
      "Epoch [55/100], Step [50/50], Validation Batch Loss: 0.0478\n",
      "Epoch [56/100], Step [50/50], Validation Batch Loss: 0.0485\n",
      "Epoch [57/100], Step [50/50], Validation Batch Loss: 0.0487\n",
      "Epoch [58/100], Step [50/50], Validation Batch Loss: 0.0482\n",
      "Epoch [59/100], Step [50/50], Validation Batch Loss: 0.0479\n",
      "Epoch [60/100], Step [50/50], Validation Batch Loss: 0.0480\n",
      "Epoch [61/100], Step [50/50], Validation Batch Loss: 0.0498\n",
      "Epoch [62/100], Step [50/50], Validation Batch Loss: 0.0479\n",
      "Epoch [63/100], Step [50/50], Validation Batch Loss: 0.0481\n",
      "Epoch [64/100], Step [50/50], Validation Batch Loss: 0.0488\n",
      "Epoch [65/100], Step [50/50], Validation Batch Loss: 0.0488\n",
      "Epoch [66/100], Step [50/50], Validation Batch Loss: 0.0482\n",
      "Epoch [67/100], Step [50/50], Validation Batch Loss: 0.0475\n",
      "Epoch [68/100], Step [50/50], Validation Batch Loss: 0.0481\n",
      "Epoch [69/100], Step [50/50], Validation Batch Loss: 0.0491\n",
      "Epoch [70/100], Step [50/50], Validation Batch Loss: 0.0492\n",
      "Epoch [71/100], Step [50/50], Validation Batch Loss: 0.0490\n",
      "Epoch [72/100], Step [50/50], Validation Batch Loss: 0.0500\n",
      "Epoch [73/100], Step [50/50], Validation Batch Loss: 0.0486\n",
      "Epoch [74/100], Step [50/50], Validation Batch Loss: 0.0493\n",
      "Epoch [75/100], Step [50/50], Validation Batch Loss: 0.0493\n",
      "Epoch [76/100], Step [50/50], Validation Batch Loss: 0.0491\n",
      "Epoch [77/100], Step [50/50], Validation Batch Loss: 0.0497\n",
      "Epoch [78/100], Step [50/50], Validation Batch Loss: 0.0500\n",
      "Epoch [79/100], Step [50/50], Validation Batch Loss: 0.0503\n",
      "Epoch [80/100], Step [50/50], Validation Batch Loss: 0.0495\n",
      "Epoch [81/100], Step [50/50], Validation Batch Loss: 0.0497\n",
      "Epoch [82/100], Step [50/50], Validation Batch Loss: 0.0491\n",
      "Epoch [83/100], Step [50/50], Validation Batch Loss: 0.0493\n",
      "Epoch [84/100], Step [50/50], Validation Batch Loss: 0.0497\n",
      "Epoch [85/100], Step [50/50], Validation Batch Loss: 0.0501\n",
      "Epoch [86/100], Step [50/50], Validation Batch Loss: 0.0509\n",
      "Epoch [87/100], Step [50/50], Validation Batch Loss: 0.0501\n",
      "Epoch [88/100], Step [50/50], Validation Batch Loss: 0.0504\n",
      "Epoch [89/100], Step [50/50], Validation Batch Loss: 0.0491\n",
      "Epoch [90/100], Step [50/50], Validation Batch Loss: 0.0505\n",
      "Epoch [91/100], Step [50/50], Validation Batch Loss: 0.0514\n",
      "Epoch [92/100], Step [50/50], Validation Batch Loss: 0.0502\n",
      "Epoch [93/100], Step [50/50], Validation Batch Loss: 0.0498\n",
      "Epoch [94/100], Step [50/50], Validation Batch Loss: 0.0502\n",
      "Epoch [95/100], Step [50/50], Validation Batch Loss: 0.0505\n",
      "Epoch [96/100], Step [50/50], Validation Batch Loss: 0.0494\n",
      "Epoch [97/100], Step [50/50], Validation Batch Loss: 0.0498\n",
      "Epoch [98/100], Step [50/50], Validation Batch Loss: 0.0495\n",
      "Epoch [99/100], Step [50/50], Validation Batch Loss: 0.0503\n",
      "Epoch [100/100], Step [50/50], Validation Batch Loss: 0.0503\n"
     ]
    }
   ],
   "source": [
    "synth_dp_eps20_model = Network(0.2)\n",
    "trainingEpoch_dp_eps20_loss = []\n",
    "validationEpoch_dp_eps20_loss = []\n",
    "run_model(synth_dp_eps20_model, trainingEpoch_dp_eps20_loss, validationEpoch_dp_eps20_loss, synth_dp_eps20_X, synth_dp_eps20_y, X_test, y_test)"
   ]
  },
  {
   "cell_type": "code",
   "execution_count": 43,
   "id": "be847b58-690f-4891-99fd-ffc3351b471b",
   "metadata": {
    "tags": []
   },
   "outputs": [
    {
     "name": "stdout",
     "output_type": "stream",
     "text": [
      "==> not used params in network class: dict_keys([])\n",
      "Epoch [1/100], Step [40/40], Validation Batch Loss: 0.9048\n",
      "Epoch [2/100], Step [40/40], Validation Batch Loss: 0.9101\n",
      "Epoch [3/100], Step [40/40], Validation Batch Loss: 0.8458\n",
      "Epoch [4/100], Step [40/40], Validation Batch Loss: 0.7385\n",
      "Epoch [5/100], Step [40/40], Validation Batch Loss: 0.6505\n",
      "Epoch [6/100], Step [40/40], Validation Batch Loss: 0.6089\n",
      "Epoch [7/100], Step [40/40], Validation Batch Loss: 0.5711\n",
      "Epoch [8/100], Step [40/40], Validation Batch Loss: 0.5624\n",
      "Epoch [9/100], Step [40/40], Validation Batch Loss: 0.5630\n",
      "Epoch [10/100], Step [40/40], Validation Batch Loss: 0.5611\n",
      "Epoch [11/100], Step [40/40], Validation Batch Loss: 0.5534\n",
      "Epoch [12/100], Step [40/40], Validation Batch Loss: 0.5496\n",
      "Epoch [13/100], Step [40/40], Validation Batch Loss: 0.5349\n",
      "Epoch [14/100], Step [40/40], Validation Batch Loss: 0.5283\n",
      "Epoch [15/100], Step [40/40], Validation Batch Loss: 0.5330\n",
      "Epoch [16/100], Step [40/40], Validation Batch Loss: 0.5293\n",
      "Epoch [17/100], Step [40/40], Validation Batch Loss: 0.5334\n",
      "Epoch [18/100], Step [40/40], Validation Batch Loss: 0.5185\n",
      "Epoch [19/100], Step [40/40], Validation Batch Loss: 0.5175\n",
      "Epoch [20/100], Step [40/40], Validation Batch Loss: 0.5174\n",
      "Epoch [21/100], Step [40/40], Validation Batch Loss: 0.5071\n",
      "Epoch [22/100], Step [40/40], Validation Batch Loss: 0.5088\n",
      "Epoch [23/100], Step [40/40], Validation Batch Loss: 0.4947\n",
      "Epoch [24/100], Step [40/40], Validation Batch Loss: 0.4946\n",
      "Epoch [25/100], Step [40/40], Validation Batch Loss: 0.4946\n",
      "Epoch [26/100], Step [40/40], Validation Batch Loss: 0.5115\n",
      "Epoch [27/100], Step [40/40], Validation Batch Loss: 0.5034\n",
      "Epoch [28/100], Step [40/40], Validation Batch Loss: 0.5059\n",
      "Epoch [29/100], Step [40/40], Validation Batch Loss: 0.5123\n",
      "Epoch [30/100], Step [40/40], Validation Batch Loss: 0.5089\n",
      "Epoch [31/100], Step [40/40], Validation Batch Loss: 0.5094\n",
      "Epoch [32/100], Step [40/40], Validation Batch Loss: 0.5118\n",
      "Epoch [33/100], Step [40/40], Validation Batch Loss: 0.5272\n",
      "Epoch [34/100], Step [40/40], Validation Batch Loss: 0.5344\n",
      "Epoch [35/100], Step [40/40], Validation Batch Loss: 0.5314\n",
      "Epoch [36/100], Step [40/40], Validation Batch Loss: 0.5365\n",
      "Epoch [37/100], Step [40/40], Validation Batch Loss: 0.5340\n",
      "Epoch [38/100], Step [40/40], Validation Batch Loss: 0.5443\n",
      "Epoch [39/100], Step [40/40], Validation Batch Loss: 0.5461\n",
      "Epoch [40/100], Step [40/40], Validation Batch Loss: 0.5557\n",
      "Epoch [41/100], Step [40/40], Validation Batch Loss: 0.5727\n",
      "Epoch [42/100], Step [40/40], Validation Batch Loss: 0.5770\n",
      "Epoch [43/100], Step [40/40], Validation Batch Loss: 0.5763\n",
      "Epoch [44/100], Step [40/40], Validation Batch Loss: 0.5845\n",
      "Epoch [45/100], Step [40/40], Validation Batch Loss: 0.5982\n",
      "Epoch [46/100], Step [40/40], Validation Batch Loss: 0.6119\n",
      "Epoch [47/100], Step [40/40], Validation Batch Loss: 0.6192\n",
      "Epoch [48/100], Step [40/40], Validation Batch Loss: 0.6330\n",
      "Epoch [49/100], Step [40/40], Validation Batch Loss: 0.6389\n",
      "Epoch [50/100], Step [40/40], Validation Batch Loss: 0.6219\n",
      "Epoch [51/100], Step [40/40], Validation Batch Loss: 0.6286\n",
      "Epoch [52/100], Step [40/40], Validation Batch Loss: 0.6332\n",
      "Epoch [53/100], Step [40/40], Validation Batch Loss: 0.6358\n",
      "Epoch [54/100], Step [40/40], Validation Batch Loss: 0.6296\n",
      "Epoch [55/100], Step [40/40], Validation Batch Loss: 0.6284\n",
      "Epoch [56/100], Step [40/40], Validation Batch Loss: 0.6373\n",
      "Epoch [57/100], Step [40/40], Validation Batch Loss: 0.6217\n",
      "Epoch [58/100], Step [40/40], Validation Batch Loss: 0.6296\n",
      "Epoch [59/100], Step [40/40], Validation Batch Loss: 0.6311\n",
      "Epoch [60/100], Step [40/40], Validation Batch Loss: 0.6258\n",
      "Epoch [61/100], Step [40/40], Validation Batch Loss: 0.6369\n",
      "Epoch [62/100], Step [40/40], Validation Batch Loss: 0.6252\n",
      "Epoch [63/100], Step [40/40], Validation Batch Loss: 0.6202\n",
      "Epoch [64/100], Step [40/40], Validation Batch Loss: 0.6192\n",
      "Epoch [65/100], Step [40/40], Validation Batch Loss: 0.6174\n",
      "Epoch [66/100], Step [40/40], Validation Batch Loss: 0.6160\n",
      "Epoch [67/100], Step [40/40], Validation Batch Loss: 0.6133\n",
      "Epoch [68/100], Step [40/40], Validation Batch Loss: 0.6087\n",
      "Epoch [69/100], Step [40/40], Validation Batch Loss: 0.6123\n",
      "Epoch [70/100], Step [40/40], Validation Batch Loss: 0.5963\n",
      "Epoch [71/100], Step [40/40], Validation Batch Loss: 0.5969\n",
      "Epoch [72/100], Step [40/40], Validation Batch Loss: 0.5883\n",
      "Epoch [73/100], Step [40/40], Validation Batch Loss: 0.6049\n",
      "Epoch [74/100], Step [40/40], Validation Batch Loss: 0.5878\n",
      "Epoch [75/100], Step [40/40], Validation Batch Loss: 0.5787\n",
      "Epoch [76/100], Step [40/40], Validation Batch Loss: 0.5919\n",
      "Epoch [77/100], Step [40/40], Validation Batch Loss: 0.5956\n",
      "Epoch [78/100], Step [40/40], Validation Batch Loss: 0.5835\n",
      "Epoch [79/100], Step [40/40], Validation Batch Loss: 0.5896\n",
      "Epoch [80/100], Step [40/40], Validation Batch Loss: 0.5838\n",
      "Epoch [81/100], Step [40/40], Validation Batch Loss: 0.6032\n",
      "Epoch [82/100], Step [40/40], Validation Batch Loss: 0.6003\n",
      "Epoch [83/100], Step [40/40], Validation Batch Loss: 0.5962\n",
      "Epoch [84/100], Step [40/40], Validation Batch Loss: 0.5995\n",
      "Epoch [85/100], Step [40/40], Validation Batch Loss: 0.6007\n",
      "Epoch [86/100], Step [40/40], Validation Batch Loss: 0.5979\n",
      "Epoch [87/100], Step [40/40], Validation Batch Loss: 0.5953\n",
      "Epoch [88/100], Step [40/40], Validation Batch Loss: 0.6081\n",
      "Epoch [89/100], Step [40/40], Validation Batch Loss: 0.6240\n",
      "Epoch [90/100], Step [40/40], Validation Batch Loss: 0.6252\n",
      "Epoch [91/100], Step [40/40], Validation Batch Loss: 0.6262\n",
      "Epoch [92/100], Step [40/40], Validation Batch Loss: 0.6237\n",
      "Epoch [93/100], Step [40/40], Validation Batch Loss: 0.6213\n",
      "Epoch [94/100], Step [40/40], Validation Batch Loss: 0.6266\n",
      "Epoch [95/100], Step [40/40], Validation Batch Loss: 0.6243\n",
      "Epoch [96/100], Step [40/40], Validation Batch Loss: 0.6176\n",
      "Epoch [97/100], Step [40/40], Validation Batch Loss: 0.6189\n",
      "Epoch [98/100], Step [40/40], Validation Batch Loss: 0.6122\n",
      "Epoch [99/100], Step [40/40], Validation Batch Loss: 0.6011\n",
      "Epoch [100/100], Step [40/40], Validation Batch Loss: 0.6005\n"
     ]
    }
   ],
   "source": [
    "random_model = Network(0.2)\n",
    "trainingEpoch_random_loss = []\n",
    "validationEpoch_random_loss = []\n",
    "run_model(random_model, trainingEpoch_random_loss, validationEpoch_random_loss, random_X, random_y, X_test, y_test)"
   ]
  },
  {
   "cell_type": "code",
   "execution_count": 44,
   "id": "86a82bd1-092b-4be1-81b2-5637804f5a2e",
   "metadata": {},
   "outputs": [
    {
     "data": {
      "text/plain": [
       "<function matplotlib.pyplot.show(close=None, block=None)>"
      ]
     },
     "execution_count": 44,
     "metadata": {},
     "output_type": "execute_result"
    },
    {
     "data": {
      "image/png": "[encoded data removed]",
      "text/plain": [
       "<Figure size 1000x1000 with 1 Axes>"
      ]
     },
     "metadata": {},
     "output_type": "display_data"
    }
   ],
   "source": [
    "plt.figure(figsize=(10,10))\n",
    "plt.plot(trainingEpoch_loss, label='train_original')\n",
    "plt.plot(validationEpoch_loss,label='val_original')\n",
    "plt.plot(trainingEpoch_no_dp_loss, label='train_no_dp_synthetic')\n",
    "plt.plot(validationEpoch_no_dp_loss,label='val_no_dp_synthetic')\n",
    "plt.plot(trainingEpoch_dp_loss, label='train_dp_eps=1_synthetic')\n",
    "plt.plot(validationEpoch_dp_loss,label='val_dp_eps=1_synthetic')\n",
    "plt.plot(trainingEpoch_dp_eps5_loss, label='train_dp_eps=5_synthetic')\n",
    "plt.plot(validationEpoch_dp_eps5_loss,label='val_dp_eps=5_synthetic')\n",
    "plt.plot(trainingEpoch_dp_eps20_loss, label='train_dp_eps=20_synthetic')\n",
    "plt.plot(validationEpoch_dp_eps20_loss,label='val_dp_eps=20_synthetic')\n",
    "plt.plot(trainingEpoch_random_loss, label='train_random')\n",
    "plt.plot(validationEpoch_random_loss,label='val_random')\n",
    "plt.xlabel(\"Epoch\")\n",
    "plt.ylabel(\"Loss\")\n",
    "plt.legend()\n",
    "plt.show"
   ]
  },
  {
   "cell_type": "code",
   "execution_count": null,
   "id": "36cfc93a-8d70-42fb-8bd3-5845391fc6d9",
   "metadata": {},
   "outputs": [],
   "source": []
  }
 ],
 "metadata": {
  "kernelspec": {
   "display_name": "Python 3 (ipykernel)",
   "language": "python",
   "name": "python3"
  },
  "language_info": {
   "codemirror_mode": {
    "name": "ipython",
    "version": 3
   },
   "file_extension": ".py",
   "mimetype": "text/x-python",
   "name": "python",
   "nbconvert_exporter": "python",
   "pygments_lexer": "ipython3",
   "version": "3.10.5"
  }
 },
 "nbformat": 4,
 "nbformat_minor": 5
}
