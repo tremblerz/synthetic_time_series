{
 "cells": [
  {
   "cell_type": "code",
   "execution_count": 1,
   "id": "4b1340ee-503d-4538-96a7-766bd7b51665",
   "metadata": {
    "tags": []
   },
   "outputs": [],
   "source": [
    "import matplotlib.pyplot as plt"
   ]
  },
  {
   "cell_type": "code",
   "execution_count": 2,
   "id": "e7be3f20-1669-479a-a4c8-3353cd57ad86",
   "metadata": {
    "tags": []
   },
   "outputs": [],
   "source": [
    "import sys\n",
    "from os.path import dirname\n",
    "sys.path.append(dirname('./synthcity/src/'))"
   ]
  },
  {
   "cell_type": "code",
   "execution_count": 3,
   "id": "4d1894a6-5cea-4c1e-88a9-ecd2df40445b",
   "metadata": {
    "tags": []
   },
   "outputs": [
    {
     "name": "stderr",
     "output_type": "stream",
     "text": [
      "C:\\Users\\ma7mo\\AppData\\Local\\Programs\\Python\\Python310\\lib\\site-packages\\tqdm\\auto.py:21: TqdmWarning: IProgress not found. Please update jupyter and ipywidgets. See https://ipywidgets.readthedocs.io/en/stable/user_install.html\n",
      "  from .autonotebook import tqdm as notebook_tqdm\n"
     ]
    }
   ],
   "source": [
    "import torch\n",
    "import torch.nn as nn\n",
    "import numpy as np"
   ]
  },
  {
   "cell_type": "code",
   "execution_count": 4,
   "id": "f6f97c69-5212-488c-87a2-866957209901",
   "metadata": {
    "tags": []
   },
   "outputs": [],
   "source": [
    "from sklearn.model_selection import train_test_split"
   ]
  },
  {
   "cell_type": "code",
   "execution_count": 5,
   "id": "b52757a1-4d54-4764-9666-4a1ceca1ee96",
   "metadata": {
    "tags": []
   },
   "outputs": [],
   "source": [
    "import torch.optim as optim\n",
    "from torch.utils.data import DataLoader"
   ]
  },
  {
   "cell_type": "code",
   "execution_count": 6,
   "id": "e525d301-f295-4083-95f2-53bbfba136c9",
   "metadata": {
    "tags": []
   },
   "outputs": [],
   "source": [
    "import seaborn as sns"
   ]
  },
  {
   "cell_type": "code",
   "execution_count": 7,
   "id": "0d4c644e-5d02-4fa6-9aba-72458133ca2d",
   "metadata": {
    "tags": []
   },
   "outputs": [
    {
     "name": "stdout",
     "output_type": "stream",
     "text": [
      "[KeOps] Warning : \n",
      "    The default C++ compiler could not be found on your system.\n",
      "    You need to either define the CXX environment variable or a symlink to the g++ command.\n",
      "    For example if g++-8 is the command you can do\n",
      "      import os\n",
      "      os.environ['CXX'] = 'g++-8'\n",
      "    \n",
      "[KeOps] Warning : Cuda libraries were not detected on the system ; using cpu only mode\n"
     ]
    }
   ],
   "source": [
    "from synthcity.plugins import Plugins\n",
    "from synthcity.benchmark import Benchmarks"
   ]
  },
  {
   "cell_type": "code",
   "execution_count": 8,
   "id": "653ee9b9-a2b6-4f96-949a-1daf76269980",
   "metadata": {
    "tags": []
   },
   "outputs": [
    {
     "data": {
      "text/plain": [
       "['timegan', 'fflows', 'timevae']"
      ]
     },
     "execution_count": 8,
     "metadata": {},
     "output_type": "execute_result"
    }
   ],
   "source": [
    "Plugins(categories=[\"time_series\"]).list()"
   ]
  },
  {
   "cell_type": "code",
   "execution_count": 9,
   "id": "43c46885-db3f-4d84-a3ca-b94a8b989eb0",
   "metadata": {
    "tags": []
   },
   "outputs": [],
   "source": [
    "from synthcity.utils.datasets.time_series.pbc import PBCDataloader\n",
    "from synthcity.utils.datasets.time_series.google_stocks import GoogleStocksDataloader\n",
    "from synthcity.plugins.core.dataloader import TimeSeriesDataLoader"
   ]
  },
  {
   "cell_type": "code",
   "execution_count": 10,
   "id": "064a33d7-36ab-4a66-a2f1-915024b80aeb",
   "metadata": {
    "tags": []
   },
   "outputs": [],
   "source": [
    "static_data, temporal_data, horizons, outcome = GoogleStocksDataloader().load()"
   ]
  },
  {
   "cell_type": "code",
   "execution_count": 11,
   "id": "4ef065f6-9f3d-4e66-bb5e-af45b5c4acb6",
   "metadata": {
    "tags": []
   },
   "outputs": [],
   "source": [
    "data = TimeSeriesDataLoader(\n",
    "    temporal_data=temporal_data,\n",
    "    observation_times=horizons,\n",
    "    static_data=static_data,\n",
    "    outcome=outcome,\n",
    ")"
   ]
  },
  {
   "cell_type": "code",
   "execution_count": 12,
   "id": "4a470f3b-6207-47b4-921f-5a1b36448618",
   "metadata": {
    "tags": []
   },
   "outputs": [
    {
     "name": "stderr",
     "output_type": "stream",
     "text": [
      "[2023-08-29T12:31:13.236979-0400][7524][CRITICAL] module disabled: C:\\Users\\ma7mo\\AppData\\Local\\Programs\\Python\\Python310\\lib\\site-packages\\synthcity\\plugins\\generic\\plugin_goggle.py\n"
     ]
    }
   ],
   "source": [
    "syn_model_without_dp = Plugins().get(\"timegan\", dp_enabled=False)"
   ]
  },
  {
   "cell_type": "code",
   "execution_count": 13,
   "id": "9cc35756-3761-4d58-b321-8070164db7e1",
   "metadata": {
    "tags": []
   },
   "outputs": [
    {
     "name": "stderr",
     "output_type": "stream",
     "text": [
      "[2023-08-29T12:31:13.757252-0400][7524][CRITICAL] module disabled: C:\\Users\\ma7mo\\AppData\\Local\\Programs\\Python\\Python310\\lib\\site-packages\\synthcity\\plugins\\generic\\plugin_goggle.py\n",
      "[2023-08-29T12:31:13.757252-0400][7524][CRITICAL] module disabled: C:\\Users\\ma7mo\\AppData\\Local\\Programs\\Python\\Python310\\lib\\site-packages\\synthcity\\plugins\\generic\\plugin_goggle.py\n"
     ]
    }
   ],
   "source": [
    "new_model = Plugins().get(\"timegan\", mode=\"LSTM\")"
   ]
  },
  {
   "cell_type": "code",
   "execution_count": 14,
   "id": "982abc55-9ab7-4922-8e61-e14b0b6bceb1",
   "metadata": {
    "tags": []
   },
   "outputs": [
    {
     "name": "stderr",
     "output_type": "stream",
     "text": [
      "100%|██████████████████████████████████████████████████████████████████████████████| 1000/1000 [15:01<00:00,  1.11it/s]\n"
     ]
    },
    {
     "data": {
      "text/plain": [
       "<synthcity.plugins.time_series.plugin_timegan.TimeGANPlugin at 0x16a26c7ac20>"
      ]
     },
     "execution_count": 14,
     "metadata": {},
     "output_type": "execute_result"
    }
   ],
   "source": [
    "new_model.fit(data)"
   ]
  },
  {
   "cell_type": "code",
   "execution_count": 15,
   "id": "b3285d5b-c23c-4340-87a6-903e4375ef9b",
   "metadata": {
    "tags": []
   },
   "outputs": [
    {
     "name": "stderr",
     "output_type": "stream",
     "text": [
      "100%|██████████████████████████████████████████████████████████████████████████████| 1000/1000 [03:56<00:00,  4.22it/s]\n"
     ]
    },
    {
     "data": {
      "text/plain": [
       "<synthcity.plugins.time_series.plugin_timegan.TimeGANPlugin at 0x16a1c2210c0>"
      ]
     },
     "execution_count": 15,
     "metadata": {},
     "output_type": "execute_result"
    }
   ],
   "source": [
    "syn_model_without_dp.fit(data)"
   ]
  },
  {
   "cell_type": "code",
   "execution_count": 16,
   "id": "94bcd526-04ff-4dee-bced-d98b9fd19b42",
   "metadata": {
    "tags": []
   },
   "outputs": [],
   "source": [
    "synth_data = syn_model_without_dp.generate(count=len(data)/10)"
   ]
  },
  {
   "cell_type": "code",
   "execution_count": 17,
   "id": "49fa174f-66d8-49ee-8bca-c2b54f3fb020",
   "metadata": {
    "tags": []
   },
   "outputs": [
    {
     "data": {
      "text/html": [
       "<div>\n",
       "<style scoped>\n",
       "    .dataframe tbody tr th:only-of-type {\n",
       "        vertical-align: middle;\n",
       "    }\n",
       "\n",
       "    .dataframe tbody tr th {\n",
       "        vertical-align: top;\n",
       "    }\n",
       "\n",
       "    .dataframe thead th {\n",
       "        text-align: right;\n",
       "    }\n",
       "</style>\n",
       "<table border=\"1\" class=\"dataframe\">\n",
       "  <thead>\n",
       "    <tr style=\"text-align: right;\">\n",
       "      <th></th>\n",
       "      <th>seq_id</th>\n",
       "      <th>seq_time_id</th>\n",
       "      <th>seq_temporal_Close</th>\n",
       "      <th>seq_temporal_High</th>\n",
       "      <th>seq_temporal_Low</th>\n",
       "      <th>seq_temporal_Open</th>\n",
       "      <th>seq_temporal_Volume</th>\n",
       "      <th>seq_out_Open_next</th>\n",
       "    </tr>\n",
       "  </thead>\n",
       "  <tbody>\n",
       "    <tr>\n",
       "      <th>0</th>\n",
       "      <td>0</td>\n",
       "      <td>0.997485</td>\n",
       "      <td>0.402246</td>\n",
       "      <td>0.347664</td>\n",
       "      <td>0.401535</td>\n",
       "      <td>0.373814</td>\n",
       "      <td>0.213604</td>\n",
       "      <td>0.314527</td>\n",
       "    </tr>\n",
       "    <tr>\n",
       "      <th>1</th>\n",
       "      <td>0</td>\n",
       "      <td>0.975117</td>\n",
       "      <td>0.417518</td>\n",
       "      <td>0.347480</td>\n",
       "      <td>0.412731</td>\n",
       "      <td>0.373461</td>\n",
       "      <td>0.215196</td>\n",
       "      <td>0.314527</td>\n",
       "    </tr>\n",
       "    <tr>\n",
       "      <th>2</th>\n",
       "      <td>0</td>\n",
       "      <td>0.988041</td>\n",
       "      <td>0.421510</td>\n",
       "      <td>0.347617</td>\n",
       "      <td>0.405933</td>\n",
       "      <td>0.373382</td>\n",
       "      <td>0.205918</td>\n",
       "      <td>0.314527</td>\n",
       "    </tr>\n",
       "    <tr>\n",
       "      <th>3</th>\n",
       "      <td>0</td>\n",
       "      <td>0.942304</td>\n",
       "      <td>0.422826</td>\n",
       "      <td>0.372049</td>\n",
       "      <td>0.399245</td>\n",
       "      <td>0.364699</td>\n",
       "      <td>0.203831</td>\n",
       "      <td>0.314527</td>\n",
       "    </tr>\n",
       "    <tr>\n",
       "      <th>4</th>\n",
       "      <td>0</td>\n",
       "      <td>0.926014</td>\n",
       "      <td>0.414588</td>\n",
       "      <td>0.375125</td>\n",
       "      <td>0.402810</td>\n",
       "      <td>0.373350</td>\n",
       "      <td>0.195506</td>\n",
       "      <td>0.314527</td>\n",
       "    </tr>\n",
       "    <tr>\n",
       "      <th>...</th>\n",
       "      <td>...</td>\n",
       "      <td>...</td>\n",
       "      <td>...</td>\n",
       "      <td>...</td>\n",
       "      <td>...</td>\n",
       "      <td>...</td>\n",
       "      <td>...</td>\n",
       "      <td>...</td>\n",
       "    </tr>\n",
       "    <tr>\n",
       "      <th>495</th>\n",
       "      <td>49</td>\n",
       "      <td>0.745865</td>\n",
       "      <td>0.422670</td>\n",
       "      <td>0.356128</td>\n",
       "      <td>0.410471</td>\n",
       "      <td>0.387060</td>\n",
       "      <td>0.192658</td>\n",
       "      <td>0.314527</td>\n",
       "    </tr>\n",
       "    <tr>\n",
       "      <th>496</th>\n",
       "      <td>49</td>\n",
       "      <td>0.765601</td>\n",
       "      <td>0.421731</td>\n",
       "      <td>0.362003</td>\n",
       "      <td>0.421643</td>\n",
       "      <td>0.387181</td>\n",
       "      <td>0.211674</td>\n",
       "      <td>0.314527</td>\n",
       "    </tr>\n",
       "    <tr>\n",
       "      <th>497</th>\n",
       "      <td>49</td>\n",
       "      <td>0.833377</td>\n",
       "      <td>0.425472</td>\n",
       "      <td>0.366295</td>\n",
       "      <td>0.428284</td>\n",
       "      <td>0.190931</td>\n",
       "      <td>0.243209</td>\n",
       "      <td>0.314527</td>\n",
       "    </tr>\n",
       "    <tr>\n",
       "      <th>498</th>\n",
       "      <td>49</td>\n",
       "      <td>0.874923</td>\n",
       "      <td>0.427297</td>\n",
       "      <td>0.356959</td>\n",
       "      <td>0.277438</td>\n",
       "      <td>0.196516</td>\n",
       "      <td>0.220372</td>\n",
       "      <td>0.314527</td>\n",
       "    </tr>\n",
       "    <tr>\n",
       "      <th>499</th>\n",
       "      <td>49</td>\n",
       "      <td>0.892372</td>\n",
       "      <td>0.286564</td>\n",
       "      <td>0.356685</td>\n",
       "      <td>0.233235</td>\n",
       "      <td>0.145891</td>\n",
       "      <td>0.256362</td>\n",
       "      <td>0.314527</td>\n",
       "    </tr>\n",
       "  </tbody>\n",
       "</table>\n",
       "<p>500 rows × 8 columns</p>\n",
       "</div>"
      ],
      "text/plain": [
       "     seq_id  seq_time_id  seq_temporal_Close  seq_temporal_High  \\\n",
       "0         0     0.997485            0.402246           0.347664   \n",
       "1         0     0.975117            0.417518           0.347480   \n",
       "2         0     0.988041            0.421510           0.347617   \n",
       "3         0     0.942304            0.422826           0.372049   \n",
       "4         0     0.926014            0.414588           0.375125   \n",
       "..      ...          ...                 ...                ...   \n",
       "495      49     0.745865            0.422670           0.356128   \n",
       "496      49     0.765601            0.421731           0.362003   \n",
       "497      49     0.833377            0.425472           0.366295   \n",
       "498      49     0.874923            0.427297           0.356959   \n",
       "499      49     0.892372            0.286564           0.356685   \n",
       "\n",
       "     seq_temporal_Low  seq_temporal_Open  seq_temporal_Volume  \\\n",
       "0            0.401535           0.373814             0.213604   \n",
       "1            0.412731           0.373461             0.215196   \n",
       "2            0.405933           0.373382             0.205918   \n",
       "3            0.399245           0.364699             0.203831   \n",
       "4            0.402810           0.373350             0.195506   \n",
       "..                ...                ...                  ...   \n",
       "495          0.410471           0.387060             0.192658   \n",
       "496          0.421643           0.387181             0.211674   \n",
       "497          0.428284           0.190931             0.243209   \n",
       "498          0.277438           0.196516             0.220372   \n",
       "499          0.233235           0.145891             0.256362   \n",
       "\n",
       "     seq_out_Open_next  \n",
       "0             0.314527  \n",
       "1             0.314527  \n",
       "2             0.314527  \n",
       "3             0.314527  \n",
       "4             0.314527  \n",
       "..                 ...  \n",
       "495           0.314527  \n",
       "496           0.314527  \n",
       "497           0.314527  \n",
       "498           0.314527  \n",
       "499           0.314527  \n",
       "\n",
       "[500 rows x 8 columns]"
      ]
     },
     "execution_count": 17,
     "metadata": {},
     "output_type": "execute_result"
    }
   ],
   "source": [
    "synth_data"
   ]
  },
  {
   "cell_type": "code",
   "execution_count": 18,
   "id": "6a84a505-3068-4d82-aed8-011ae5b6f58d",
   "metadata": {
    "tags": []
   },
   "outputs": [],
   "source": [
    "def create_sequence(dataset, seq_len):\n",
    "    sequences = []\n",
    "    labels = []\n",
    "\n",
    "\n",
    "    for index in range(0, len(dataset)//seq_len): # Selecting 50 rows at a time\n",
    "        sequences.append(dataset.iloc[index*seq_len:(index+1)*seq_len-1])\n",
    "        labels.append(dataset.iloc[(index+1)*seq_len-1][2])\n",
    "    return (np.array(sequences),np.array(labels))"
   ]
  },
  {
   "cell_type": "code",
   "execution_count": 31,
   "id": "b52b35ec-5016-42b1-966e-5b8a1b8618f2",
   "metadata": {
    "tags": []
   },
   "outputs": [],
   "source": [
    "class Network(nn.Module):\n",
    "    def __init__(self, dropout,\n",
    "                 input_dim=8, num_classes = 1, hidden_size = 50, **kwargs):\n",
    "\n",
    "        super(Network, self).__init__()\n",
    "\n",
    "        print(\"==> not used params in network class:\", kwargs.keys())\n",
    "\n",
    "        self.input_dim = input_dim\n",
    "        self.dropout = dropout\n",
    "        self.hidden_size = hidden_size\n",
    "\n",
    "\n",
    "        # Main part of the network\n",
    "        self.lstm_layers = nn.ModuleList()\n",
    "        self.lstm_layers.append(nn.LSTM(input_size=input_dim,hidden_size=self.hidden_size))\n",
    "        self.lstm_layers.append(nn.Dropout(p=dropout))\n",
    "        self.lstm_layers.append(nn.LSTM(input_size=self.hidden_size,\n",
    "                           hidden_size=self.hidden_size))\n",
    "        self.lstm_layers.append(nn.Dropout(p=dropout))\n",
    "        self.lstm_layers.append(nn.LSTM(input_size=self.hidden_size,\n",
    "                           hidden_size=self.hidden_size))\n",
    "        self.lstm_layers.append(nn.Dropout(p=dropout))\n",
    "        # Output layer\n",
    "        self.output_layer = nn.Linear(self.hidden_size, num_classes)\n",
    "        # self.output_activation = nn.Sigmoid()\n",
    "\n",
    "    def forward(self, X, lengths=None):\n",
    "        # Input layer\n",
    "        X = X.to(torch.float32)\n",
    "        mX = X\n",
    "        # Main part of the network\n",
    "        i = 0\n",
    "        for lstm in self.lstm_layers:\n",
    "            if i % 2 == 0:\n",
    "                output, _ = lstm(mX)\n",
    "            else:\n",
    "                output = lstm(mX)\n",
    "            mX = output\n",
    "            i += 1\n",
    "        L = output[:, -1, :]\n",
    "        # Output layer\n",
    "        y = self.output_layer(L)\n",
    "        return y\n"
   ]
  },
  {
   "cell_type": "code",
   "execution_count": 40,
   "id": "a3661e53-b843-49c6-82fe-28e716b0acbf",
   "metadata": {},
   "outputs": [
    {
     "name": "stdout",
     "output_type": "stream",
     "text": [
      "==> not used params in network class: dict_keys([])\n"
     ]
    }
   ],
   "source": [
    "model = Network(0.2)"
   ]
  },
  {
   "cell_type": "code",
   "execution_count": 41,
   "id": "814569f8-aa50-40ac-bf14-e968aad63a56",
   "metadata": {
    "tags": []
   },
   "outputs": [],
   "source": [
    "optimizer_config = optim.Adam(model.parameters(), lr=0.001, betas=(0.9, 0.999))\n",
    "loss = nn.MSELoss()"
   ]
  },
  {
   "cell_type": "code",
   "execution_count": 42,
   "id": "40f7f6b7-aa93-49f3-a23a-51f77ed88b2a",
   "metadata": {
    "tags": []
   },
   "outputs": [],
   "source": [
    "X, y = create_sequence(data.dataframe(), 10)"
   ]
  },
  {
   "cell_type": "code",
   "execution_count": 43,
   "id": "0bf6be23-8db5-4cbd-a242-cc6aae852f8c",
   "metadata": {
    "tags": []
   },
   "outputs": [],
   "source": [
    "synth_X, synth_y = create_sequence(synth_data.dataframe(), 10)"
   ]
  },
  {
   "cell_type": "code",
   "execution_count": 44,
   "id": "a86fc7e1-2284-4f09-904c-c7cb35f52f64",
   "metadata": {
    "tags": []
   },
   "outputs": [],
   "source": [
    "X_train, X_test, y_train, y_test = train_test_split(X, y, test_size=0.33, random_state=42)"
   ]
  },
  {
   "cell_type": "code",
   "execution_count": 45,
   "id": "505d12fe-f272-48c3-964c-d283f4aa601a",
   "metadata": {
    "tags": []
   },
   "outputs": [],
   "source": [
    "train_loader = DataLoader(list(zip(X_train, y_train)), batch_size=1)\n",
    "val_loader = DataLoader(list(zip(X_test, y_test)), batch_size=1, shuffle=True)\n",
    "optimizer = optimizer_config"
   ]
  },
  {
   "cell_type": "code",
   "execution_count": 46,
   "id": "7f4b4e09-0a16-4838-9bd6-cafb746b8452",
   "metadata": {
    "tags": []
   },
   "outputs": [
    {
     "name": "stdout",
     "output_type": "stream",
     "text": [
      "Epoch [1/100], Step [33/33], Validation Batch Loss: 0.1216\n",
      "Epoch [2/100], Step [33/33], Validation Batch Loss: 0.0510\n",
      "Epoch [3/100], Step [33/33], Validation Batch Loss: 0.0497\n",
      "Epoch [4/100], Step [33/33], Validation Batch Loss: 0.0497\n",
      "Epoch [5/100], Step [33/33], Validation Batch Loss: 0.0501\n",
      "Epoch [6/100], Step [33/33], Validation Batch Loss: 0.0505\n",
      "Epoch [7/100], Step [33/33], Validation Batch Loss: 0.0507\n",
      "Epoch [8/100], Step [33/33], Validation Batch Loss: 0.0507\n",
      "Epoch [9/100], Step [33/33], Validation Batch Loss: 0.0498\n",
      "Epoch [10/100], Step [33/33], Validation Batch Loss: 0.0493\n",
      "Epoch [11/100], Step [33/33], Validation Batch Loss: 0.0469\n",
      "Epoch [12/100], Step [33/33], Validation Batch Loss: 0.0436\n",
      "Epoch [13/100], Step [33/33], Validation Batch Loss: 0.0427\n",
      "Epoch [14/100], Step [33/33], Validation Batch Loss: 0.0376\n",
      "Epoch [15/100], Step [33/33], Validation Batch Loss: 0.0337\n",
      "Epoch [16/100], Step [33/33], Validation Batch Loss: 0.0310\n",
      "Epoch [17/100], Step [33/33], Validation Batch Loss: 0.0271\n",
      "Epoch [18/100], Step [33/33], Validation Batch Loss: 0.0248\n",
      "Epoch [19/100], Step [33/33], Validation Batch Loss: 0.0215\n",
      "Epoch [20/100], Step [33/33], Validation Batch Loss: 0.0183\n",
      "Epoch [21/100], Step [33/33], Validation Batch Loss: 0.0170\n",
      "Epoch [22/100], Step [33/33], Validation Batch Loss: 0.0146\n",
      "Epoch [23/100], Step [33/33], Validation Batch Loss: 0.0108\n",
      "Epoch [24/100], Step [33/33], Validation Batch Loss: 0.0115\n",
      "Epoch [25/100], Step [33/33], Validation Batch Loss: 0.0112\n",
      "Epoch [26/100], Step [33/33], Validation Batch Loss: 0.0090\n",
      "Epoch [27/100], Step [33/33], Validation Batch Loss: 0.0214\n",
      "Epoch [28/100], Step [33/33], Validation Batch Loss: 0.0182\n",
      "Epoch [29/100], Step [33/33], Validation Batch Loss: 0.0148\n",
      "Epoch [30/100], Step [33/33], Validation Batch Loss: 0.0123\n",
      "Epoch [31/100], Step [33/33], Validation Batch Loss: 0.0111\n",
      "Epoch [32/100], Step [33/33], Validation Batch Loss: 0.0163\n",
      "Epoch [33/100], Step [33/33], Validation Batch Loss: 0.0111\n",
      "Epoch [34/100], Step [33/33], Validation Batch Loss: 0.0141\n",
      "Epoch [35/100], Step [33/33], Validation Batch Loss: 0.0120\n",
      "Epoch [36/100], Step [33/33], Validation Batch Loss: 0.0110\n",
      "Epoch [37/100], Step [33/33], Validation Batch Loss: 0.0115\n",
      "Epoch [38/100], Step [33/33], Validation Batch Loss: 0.0088\n",
      "Epoch [39/100], Step [33/33], Validation Batch Loss: 0.0081\n",
      "Epoch [40/100], Step [33/33], Validation Batch Loss: 0.0081\n",
      "Epoch [41/100], Step [33/33], Validation Batch Loss: 0.0091\n",
      "Epoch [42/100], Step [33/33], Validation Batch Loss: 0.0078\n",
      "Epoch [43/100], Step [33/33], Validation Batch Loss: 0.0069\n",
      "Epoch [44/100], Step [33/33], Validation Batch Loss: 0.0063\n",
      "Epoch [45/100], Step [33/33], Validation Batch Loss: 0.0077\n",
      "Epoch [46/100], Step [33/33], Validation Batch Loss: 0.0100\n",
      "Epoch [47/100], Step [33/33], Validation Batch Loss: 0.0071\n",
      "Epoch [48/100], Step [33/33], Validation Batch Loss: 0.0086\n",
      "Epoch [49/100], Step [33/33], Validation Batch Loss: 0.0170\n",
      "Epoch [50/100], Step [33/33], Validation Batch Loss: 0.0165\n",
      "Epoch [51/100], Step [33/33], Validation Batch Loss: 0.0111\n",
      "Epoch [52/100], Step [33/33], Validation Batch Loss: 0.0111\n",
      "Epoch [53/100], Step [33/33], Validation Batch Loss: 0.0078\n",
      "Epoch [54/100], Step [33/33], Validation Batch Loss: 0.0105\n",
      "Epoch [55/100], Step [33/33], Validation Batch Loss: 0.0072\n",
      "Epoch [56/100], Step [33/33], Validation Batch Loss: 0.0093\n",
      "Epoch [57/100], Step [33/33], Validation Batch Loss: 0.0095\n",
      "Epoch [58/100], Step [33/33], Validation Batch Loss: 0.0094\n",
      "Epoch [59/100], Step [33/33], Validation Batch Loss: 0.0082\n",
      "Epoch [60/100], Step [33/33], Validation Batch Loss: 0.0071\n",
      "Epoch [61/100], Step [33/33], Validation Batch Loss: 0.0072\n",
      "Epoch [62/100], Step [33/33], Validation Batch Loss: 0.0102\n",
      "Epoch [63/100], Step [33/33], Validation Batch Loss: 0.0084\n",
      "Epoch [64/100], Step [33/33], Validation Batch Loss: 0.0117\n",
      "Epoch [65/100], Step [33/33], Validation Batch Loss: 0.0133\n",
      "Epoch [66/100], Step [33/33], Validation Batch Loss: 0.0089\n",
      "Epoch [67/100], Step [33/33], Validation Batch Loss: 0.0101\n",
      "Epoch [68/100], Step [33/33], Validation Batch Loss: 0.0112\n",
      "Epoch [69/100], Step [33/33], Validation Batch Loss: 0.0079\n",
      "Epoch [70/100], Step [33/33], Validation Batch Loss: 0.0088\n",
      "Epoch [71/100], Step [33/33], Validation Batch Loss: 0.0102\n",
      "Epoch [72/100], Step [33/33], Validation Batch Loss: 0.0080\n",
      "Epoch [73/100], Step [33/33], Validation Batch Loss: 0.0093\n",
      "Epoch [74/100], Step [33/33], Validation Batch Loss: 0.0075\n",
      "Epoch [75/100], Step [33/33], Validation Batch Loss: 0.0093\n",
      "Epoch [76/100], Step [33/33], Validation Batch Loss: 0.0123\n",
      "Epoch [77/100], Step [33/33], Validation Batch Loss: 0.0070\n",
      "Epoch [78/100], Step [33/33], Validation Batch Loss: 0.0093\n",
      "Epoch [79/100], Step [33/33], Validation Batch Loss: 0.0105\n",
      "Epoch [80/100], Step [33/33], Validation Batch Loss: 0.0092\n",
      "Epoch [81/100], Step [33/33], Validation Batch Loss: 0.0100\n",
      "Epoch [82/100], Step [33/33], Validation Batch Loss: 0.0075\n",
      "Epoch [83/100], Step [33/33], Validation Batch Loss: 0.0101\n",
      "Epoch [84/100], Step [33/33], Validation Batch Loss: 0.0087\n",
      "Epoch [85/100], Step [33/33], Validation Batch Loss: 0.0121\n",
      "Epoch [86/100], Step [33/33], Validation Batch Loss: 0.0087\n",
      "Epoch [87/100], Step [33/33], Validation Batch Loss: 0.0103\n",
      "Epoch [88/100], Step [33/33], Validation Batch Loss: 0.0083\n",
      "Epoch [89/100], Step [33/33], Validation Batch Loss: 0.0086\n",
      "Epoch [90/100], Step [33/33], Validation Batch Loss: 0.0076\n",
      "Epoch [91/100], Step [33/33], Validation Batch Loss: 0.0074\n",
      "Epoch [92/100], Step [33/33], Validation Batch Loss: 0.0072\n",
      "Epoch [93/100], Step [33/33], Validation Batch Loss: 0.0121\n",
      "Epoch [94/100], Step [33/33], Validation Batch Loss: 0.0074\n",
      "Epoch [95/100], Step [33/33], Validation Batch Loss: 0.0157\n",
      "Epoch [96/100], Step [33/33], Validation Batch Loss: 0.0117\n",
      "Epoch [97/100], Step [33/33], Validation Batch Loss: 0.0100\n",
      "Epoch [98/100], Step [33/33], Validation Batch Loss: 0.0111\n",
      "Epoch [99/100], Step [33/33], Validation Batch Loss: 0.0076\n",
      "Epoch [100/100], Step [33/33], Validation Batch Loss: 0.0073\n"
     ]
    }
   ],
   "source": [
    "for epoch in range(0, 100):\n",
    "        model.train()\n",
    "        running_loss = 0\n",
    "        for i, batch in enumerate(train_loader):\n",
    "            optimizer.zero_grad()\n",
    "            inputs, targets = batch\n",
    "            outputs = model(inputs)\n",
    "            targets = targets.reshape(tuple(outputs.shape))\n",
    "            targets = targets.to(torch.float32)\n",
    "            batch_loss = loss(outputs, targets)\n",
    "            batch_loss.backward()\n",
    "            optimizer.step()\n",
    "        model.eval()\n",
    "        val_loss = 0\n",
    "        with torch.no_grad():\n",
    "            num_batches = 0\n",
    "            res = {}\n",
    "            y_true = []\n",
    "            predictions = []\n",
    "            for batch in val_loader:\n",
    "                inputs, targets = batch\n",
    "                outputs = model(inputs)\n",
    "                targets = targets.reshape(tuple(outputs.shape))\n",
    "                targets = targets.to(torch.float32)\n",
    "                batch_loss = loss(outputs, targets)\n",
    "                val_loss += batch_loss.item()\n",
    "                num_batches += 1\n",
    "            val_loss /= num_batches\n",
    "            print('Epoch [{}/{}], Step [{}/{}], Validation Batch Loss: {:.4f}'\n",
    "                    .format(epoch + 1, 100, i + 1, len(train_loader), val_loss))"
   ]
  },
  {
   "cell_type": "code",
   "execution_count": 47,
   "id": "c06d224f-30eb-419c-a29b-148e33d09147",
   "metadata": {
    "tags": []
   },
   "outputs": [
    {
     "name": "stdout",
     "output_type": "stream",
     "text": [
      "==> not used params in network class: dict_keys([])\n"
     ]
    }
   ],
   "source": [
    "synth_model = Network(0.2)"
   ]
  },
  {
   "cell_type": "code",
   "execution_count": 48,
   "id": "d0ad15d0-ae3c-4d30-9e4c-e17e70c597bb",
   "metadata": {
    "tags": []
   },
   "outputs": [],
   "source": [
    "optimizer_config = optim.Adam(synth_model.parameters(), lr=0.001, betas=(0.9, 0.999))\n",
    "loss = nn.MSELoss()"
   ]
  },
  {
   "cell_type": "code",
   "execution_count": 49,
   "id": "5949284d-2411-48b0-ac4e-2719c75ef1b8",
   "metadata": {
    "tags": []
   },
   "outputs": [],
   "source": [
    "train_loader = DataLoader(list(zip(synth_X, synth_y)), batch_size=1, shuffle=True)\n",
    "val_loader = DataLoader(list(zip(X_test, y_test)), batch_size=1)\n",
    "optimizer = optimizer_config"
   ]
  },
  {
   "cell_type": "code",
   "execution_count": null,
   "id": "43a0a196-9d68-438a-a8f1-7f2548b4a3e6",
   "metadata": {
    "tags": []
   },
   "outputs": [
    {
     "name": "stdout",
     "output_type": "stream",
     "text": [
      "Epoch [1/100], Step [50/50], Validation Batch Loss: 0.0809\n",
      "Epoch [2/100], Step [50/50], Validation Batch Loss: 0.1036\n",
      "Epoch [3/100], Step [50/50], Validation Batch Loss: 0.1216\n",
      "Epoch [4/100], Step [50/50], Validation Batch Loss: 0.1078\n",
      "Epoch [5/100], Step [50/50], Validation Batch Loss: 0.0825\n",
      "Epoch [6/100], Step [50/50], Validation Batch Loss: 0.1011\n",
      "Epoch [7/100], Step [50/50], Validation Batch Loss: 0.0882\n",
      "Epoch [8/100], Step [50/50], Validation Batch Loss: 0.0731\n",
      "Epoch [9/100], Step [50/50], Validation Batch Loss: 0.1061\n",
      "Epoch [10/100], Step [50/50], Validation Batch Loss: 0.0838\n",
      "Epoch [11/100], Step [50/50], Validation Batch Loss: 0.0630\n",
      "Epoch [12/100], Step [50/50], Validation Batch Loss: 0.0566\n",
      "Epoch [13/100], Step [50/50], Validation Batch Loss: 0.0379\n",
      "Epoch [14/100], Step [50/50], Validation Batch Loss: 0.0152\n",
      "Epoch [15/100], Step [50/50], Validation Batch Loss: 0.0129\n",
      "Epoch [16/100], Step [50/50], Validation Batch Loss: 0.0147\n",
      "Epoch [17/100], Step [50/50], Validation Batch Loss: 0.0118\n",
      "Epoch [18/100], Step [50/50], Validation Batch Loss: 0.0284\n",
      "Epoch [19/100], Step [50/50], Validation Batch Loss: 0.0100\n",
      "Epoch [20/100], Step [50/50], Validation Batch Loss: 0.0142\n",
      "Epoch [21/100], Step [50/50], Validation Batch Loss: 0.0191\n",
      "Epoch [22/100], Step [50/50], Validation Batch Loss: 0.0150\n",
      "Epoch [23/100], Step [50/50], Validation Batch Loss: 0.0163\n",
      "Epoch [24/100], Step [50/50], Validation Batch Loss: 0.0258\n",
      "Epoch [25/100], Step [50/50], Validation Batch Loss: 0.0225\n",
      "Epoch [26/100], Step [50/50], Validation Batch Loss: 0.0132\n",
      "Epoch [27/100], Step [50/50], Validation Batch Loss: 0.0119\n",
      "Epoch [28/100], Step [50/50], Validation Batch Loss: 0.0129\n",
      "Epoch [29/100], Step [50/50], Validation Batch Loss: 0.0088\n",
      "Epoch [30/100], Step [50/50], Validation Batch Loss: 0.0189\n",
      "Epoch [31/100], Step [50/50], Validation Batch Loss: 0.0118\n",
      "Epoch [32/100], Step [50/50], Validation Batch Loss: 0.0153\n",
      "Epoch [33/100], Step [50/50], Validation Batch Loss: 0.0133\n",
      "Epoch [34/100], Step [50/50], Validation Batch Loss: 0.0144\n",
      "Epoch [35/100], Step [50/50], Validation Batch Loss: 0.0209\n",
      "Epoch [36/100], Step [50/50], Validation Batch Loss: 0.0198\n",
      "Epoch [37/100], Step [50/50], Validation Batch Loss: 0.0115\n",
      "Epoch [38/100], Step [50/50], Validation Batch Loss: 0.0131\n",
      "Epoch [39/100], Step [50/50], Validation Batch Loss: 0.0140\n",
      "Epoch [40/100], Step [50/50], Validation Batch Loss: 0.0112\n",
      "Epoch [41/100], Step [50/50], Validation Batch Loss: 0.0156\n",
      "Epoch [42/100], Step [50/50], Validation Batch Loss: 0.0154\n",
      "Epoch [43/100], Step [50/50], Validation Batch Loss: 0.0170\n",
      "Epoch [44/100], Step [50/50], Validation Batch Loss: 0.0138\n",
      "Epoch [45/100], Step [50/50], Validation Batch Loss: 0.0118\n",
      "Epoch [46/100], Step [50/50], Validation Batch Loss: 0.0159\n",
      "Epoch [47/100], Step [50/50], Validation Batch Loss: 0.0144\n",
      "Epoch [48/100], Step [50/50], Validation Batch Loss: 0.0144\n",
      "Epoch [49/100], Step [50/50], Validation Batch Loss: 0.0138\n",
      "Epoch [50/100], Step [50/50], Validation Batch Loss: 0.0275\n",
      "Epoch [51/100], Step [50/50], Validation Batch Loss: 0.0144\n",
      "Epoch [52/100], Step [50/50], Validation Batch Loss: 0.0097\n",
      "Epoch [53/100], Step [50/50], Validation Batch Loss: 0.0195\n",
      "Epoch [54/100], Step [50/50], Validation Batch Loss: 0.0152\n",
      "Epoch [55/100], Step [50/50], Validation Batch Loss: 0.0098\n",
      "Epoch [56/100], Step [50/50], Validation Batch Loss: 0.0162\n",
      "Epoch [57/100], Step [50/50], Validation Batch Loss: 0.0145\n",
      "Epoch [58/100], Step [50/50], Validation Batch Loss: 0.0127\n",
      "Epoch [59/100], Step [50/50], Validation Batch Loss: 0.0136\n",
      "Epoch [60/100], Step [50/50], Validation Batch Loss: 0.0122\n",
      "Epoch [61/100], Step [50/50], Validation Batch Loss: 0.0179\n",
      "Epoch [62/100], Step [50/50], Validation Batch Loss: 0.0148\n",
      "Epoch [63/100], Step [50/50], Validation Batch Loss: 0.0154\n",
      "Epoch [64/100], Step [50/50], Validation Batch Loss: 0.0090\n",
      "Epoch [65/100], Step [50/50], Validation Batch Loss: 0.0115\n",
      "Epoch [66/100], Step [50/50], Validation Batch Loss: 0.0091\n",
      "Epoch [67/100], Step [50/50], Validation Batch Loss: 0.0114\n",
      "Epoch [68/100], Step [50/50], Validation Batch Loss: 0.0170\n",
      "Epoch [69/100], Step [50/50], Validation Batch Loss: 0.0140\n",
      "Epoch [70/100], Step [50/50], Validation Batch Loss: 0.0219\n",
      "Epoch [71/100], Step [50/50], Validation Batch Loss: 0.0081\n",
      "Epoch [72/100], Step [50/50], Validation Batch Loss: 0.0095\n",
      "Epoch [73/100], Step [50/50], Validation Batch Loss: 0.0110\n",
      "Epoch [74/100], Step [50/50], Validation Batch Loss: 0.0135\n",
      "Epoch [75/100], Step [50/50], Validation Batch Loss: 0.0137\n",
      "Epoch [76/100], Step [50/50], Validation Batch Loss: 0.0118\n",
      "Epoch [77/100], Step [50/50], Validation Batch Loss: 0.0101\n",
      "Epoch [78/100], Step [50/50], Validation Batch Loss: 0.0102\n",
      "Epoch [79/100], Step [50/50], Validation Batch Loss: 0.0143\n",
      "Epoch [80/100], Step [50/50], Validation Batch Loss: 0.0144\n",
      "Epoch [81/100], Step [50/50], Validation Batch Loss: 0.0136\n",
      "Epoch [82/100], Step [50/50], Validation Batch Loss: 0.0119\n"
     ]
    }
   ],
   "source": [
    "for epoch in range(0, 100):\n",
    "        synth_model.train()\n",
    "        running_loss = 0\n",
    "        for i, batch in enumerate(train_loader):\n",
    "            optimizer.zero_grad()\n",
    "            inputs, targets = batch\n",
    "            outputs = synth_model(inputs)\n",
    "            targets = targets.reshape(tuple(outputs.shape))\n",
    "            targets = targets.to(torch.float32)\n",
    "            batch_loss = loss(outputs, targets)\n",
    "            batch_loss.backward()\n",
    "            optimizer.step()\n",
    "        synth_model.eval()\n",
    "        val_loss = 0\n",
    "        with torch.no_grad():\n",
    "            num_batches = 0\n",
    "            res = {}\n",
    "            y_true = []\n",
    "            predictions = []\n",
    "            for batch in val_loader:\n",
    "                inputs, targets = batch\n",
    "                outputs = synth_model(inputs)\n",
    "                targets = targets.reshape(tuple(outputs.shape))\n",
    "                targets = targets.to(torch.float32)\n",
    "                batch_loss = loss(outputs, targets)\n",
    "                val_loss += batch_loss.item()\n",
    "                num_batches += 1\n",
    "            val_loss /= num_batches\n",
    "            print('Epoch [{}/{}], Step [{}/{}], Validation Batch Loss: {:.4f}'\n",
    "                    .format(epoch + 1, 100, i + 1, len(train_loader), val_loss))"
   ]
  },
  {
   "cell_type": "code",
   "execution_count": null,
   "id": "880a0bd9-6370-4df2-ae00-ace9467e644a",
   "metadata": {},
   "outputs": [],
   "source": []
  }
 ],
 "metadata": {
  "kernelspec": {
   "display_name": "Python 3 (ipykernel)",
   "language": "python",
   "name": "python3"
  },
  "language_info": {
   "codemirror_mode": {
    "name": "ipython",
    "version": 3
   },
   "file_extension": ".py",
   "mimetype": "text/x-python",
   "name": "python",
   "nbconvert_exporter": "python",
   "pygments_lexer": "ipython3",
   "version": "3.10.5"
  }
 },
 "nbformat": 4,
 "nbformat_minor": 5
}
